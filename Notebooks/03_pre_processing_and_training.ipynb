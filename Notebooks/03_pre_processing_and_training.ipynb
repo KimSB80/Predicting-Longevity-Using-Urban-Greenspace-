{
 "cells": [
  {
   "cell_type": "markdown",
   "id": "e669f2b8-792a-420b-a9f5-685c9f791a2a",
   "metadata": {},
   "source": [
    "# Step 3: Preprocessing and Modeling"
   ]
  },
  {
   "cell_type": "markdown",
   "id": "8b7dd881-a1c6-438e-b5ac-bfcccb4c06f1",
   "metadata": {},
   "source": [
    "### Load Data and Import Packages"
   ]
  },
  {
   "cell_type": "code",
   "execution_count": 145,
   "id": "811f24f4-3acd-49be-b28f-0b0c3470427c",
   "metadata": {},
   "outputs": [],
   "source": [
    "import os\n",
    "import pandas as pd\n",
    "import numpy as np\n",
    "import matplotlib.pyplot as plt\n",
    "import seaborn as sns\n",
    "from scipy import stats\n",
    "\n",
    "from sklearn.preprocessing import StandardScaler, MinMaxScaler, scale, OneHotEncoder\n",
    "from sklearn.model_selection import train_test_split, cross_validate, GridSearchCV, learning_curve\n",
    "\n",
    "from sklearn.linear_model import LinearRegression\n",
    "from sklearn.metrics import mean_squared_error, r2_score, accuracy_score, mean_absolute_error, confusion_matrix\n",
    "\n",
    "\n",
    "import warnings\n",
    "warnings.filterwarnings('ignore')\n"
   ]
  },
  {
   "cell_type": "code",
   "execution_count": 55,
   "id": "4e68d54e-23ab-4f9f-ab79-366aee2c907f",
   "metadata": {},
   "outputs": [],
   "source": [
    "# Import clean data\n",
    "datapath = '/Users/kbrewitt/Github/Predicting Longevity Using Urban Greenspace/clean_data/London_data_cleaned.csv'\n",
    "df = pd.read_csv(datapath, index_col=0)\n"
   ]
  },
  {
   "cell_type": "code",
   "execution_count": 56,
   "id": "3df5dc1b-75db-42e2-b32f-83eeaa202dea",
   "metadata": {},
   "outputs": [
    {
     "name": "stdout",
     "output_type": "stream",
     "text": [
      "<class 'pandas.core.frame.DataFrame'>\n",
      "Int64Index: 3275 entries, 0 to 3274\n",
      "Data columns (total 16 columns):\n",
      " #   Column                       Non-Null Count  Dtype  \n",
      "---  ------                       --------------  -----  \n",
      " 0   New ward code                3275 non-null   object \n",
      " 1   Ward                         3275 non-null   object \n",
      " 2   Borough                      3275 non-null   object \n",
      " 3   Year                         3275 non-null   int64  \n",
      " 4   Life_Expectancy              3275 non-null   float64\n",
      " 5   Childhood_Obesity            3275 non-null   float64\n",
      " 6   Incapacity_Benefit           3275 non-null   float64\n",
      " 7   Unemployment                 3275 non-null   float64\n",
      " 8   Crime                        3275 non-null   float64\n",
      " 9   Deliberate_Fires             3275 non-null   float64\n",
      " 10  GCSE_points                  3275 non-null   float64\n",
      " 11  Unauthorised_School_Absence  3275 non-null   float64\n",
      " 12  Dependent_children           3275 non-null   float64\n",
      " 13  Public_Transport_Access      3275 non-null   float64\n",
      " 14  Greespace_Access             3275 non-null   float64\n",
      " 15  Borough Green Space Surface  3275 non-null   float64\n",
      "dtypes: float64(12), int64(1), object(3)\n",
      "memory usage: 435.0+ KB\n"
     ]
    },
    {
     "data": {
      "text/html": [
       "<div>\n",
       "<style scoped>\n",
       "    .dataframe tbody tr th:only-of-type {\n",
       "        vertical-align: middle;\n",
       "    }\n",
       "\n",
       "    .dataframe tbody tr th {\n",
       "        vertical-align: top;\n",
       "    }\n",
       "\n",
       "    .dataframe thead th {\n",
       "        text-align: right;\n",
       "    }\n",
       "</style>\n",
       "<table border=\"1\" class=\"dataframe\">\n",
       "  <thead>\n",
       "    <tr style=\"text-align: right;\">\n",
       "      <th></th>\n",
       "      <th>New ward code</th>\n",
       "      <th>Ward</th>\n",
       "      <th>Borough</th>\n",
       "      <th>Year</th>\n",
       "      <th>Life_Expectancy</th>\n",
       "      <th>Childhood_Obesity</th>\n",
       "      <th>Incapacity_Benefit</th>\n",
       "      <th>Unemployment</th>\n",
       "      <th>Crime</th>\n",
       "      <th>Deliberate_Fires</th>\n",
       "      <th>GCSE_points</th>\n",
       "      <th>Unauthorised_School_Absence</th>\n",
       "      <th>Dependent_children</th>\n",
       "      <th>Public_Transport_Access</th>\n",
       "      <th>Greespace_Access</th>\n",
       "      <th>Borough Green Space Surface</th>\n",
       "    </tr>\n",
       "  </thead>\n",
       "  <tbody>\n",
       "    <tr>\n",
       "      <th>0</th>\n",
       "      <td>E09000001</td>\n",
       "      <td>City of London</td>\n",
       "      <td>City of London</td>\n",
       "      <td>2009</td>\n",
       "      <td>84.329356</td>\n",
       "      <td>22.220000</td>\n",
       "      <td>3.333333</td>\n",
       "      <td>2.999195</td>\n",
       "      <td>18.389167</td>\n",
       "      <td>0.684932</td>\n",
       "      <td>346.80</td>\n",
       "      <td>0.24</td>\n",
       "      <td>17.14</td>\n",
       "      <td>7.723401</td>\n",
       "      <td>-6.478752</td>\n",
       "      <td>4.8</td>\n",
       "    </tr>\n",
       "    <tr>\n",
       "      <th>1</th>\n",
       "      <td>E05000026</td>\n",
       "      <td>Abbey</td>\n",
       "      <td>Barking and Dagenham</td>\n",
       "      <td>2009</td>\n",
       "      <td>82.076112</td>\n",
       "      <td>21.700880</td>\n",
       "      <td>4.586610</td>\n",
       "      <td>8.325803</td>\n",
       "      <td>180.721564</td>\n",
       "      <td>1.908646</td>\n",
       "      <td>311.29</td>\n",
       "      <td>1.22</td>\n",
       "      <td>37.71</td>\n",
       "      <td>5.987356</td>\n",
       "      <td>-0.889538</td>\n",
       "      <td>33.6</td>\n",
       "    </tr>\n",
       "    <tr>\n",
       "      <th>2</th>\n",
       "      <td>E05000027</td>\n",
       "      <td>Alibon</td>\n",
       "      <td>Barking and Dagenham</td>\n",
       "      <td>2009</td>\n",
       "      <td>77.828392</td>\n",
       "      <td>25.974026</td>\n",
       "      <td>7.033561</td>\n",
       "      <td>9.857754</td>\n",
       "      <td>125.168618</td>\n",
       "      <td>1.099268</td>\n",
       "      <td>302.16</td>\n",
       "      <td>1.53</td>\n",
       "      <td>40.00</td>\n",
       "      <td>3.275530</td>\n",
       "      <td>-1.790968</td>\n",
       "      <td>33.6</td>\n",
       "    </tr>\n",
       "    <tr>\n",
       "      <th>3</th>\n",
       "      <td>E05000028</td>\n",
       "      <td>Becontree</td>\n",
       "      <td>Barking and Dagenham</td>\n",
       "      <td>2009</td>\n",
       "      <td>78.430683</td>\n",
       "      <td>22.448980</td>\n",
       "      <td>6.734643</td>\n",
       "      <td>9.405173</td>\n",
       "      <td>149.022537</td>\n",
       "      <td>0.967892</td>\n",
       "      <td>320.30</td>\n",
       "      <td>1.55</td>\n",
       "      <td>37.59</td>\n",
       "      <td>2.848544</td>\n",
       "      <td>-5.469666</td>\n",
       "      <td>33.6</td>\n",
       "    </tr>\n",
       "    <tr>\n",
       "      <th>4</th>\n",
       "      <td>E05000029</td>\n",
       "      <td>Chadwell Heath</td>\n",
       "      <td>Barking and Dagenham</td>\n",
       "      <td>2009</td>\n",
       "      <td>79.887841</td>\n",
       "      <td>23.795181</td>\n",
       "      <td>6.675432</td>\n",
       "      <td>8.567379</td>\n",
       "      <td>135.434080</td>\n",
       "      <td>1.850122</td>\n",
       "      <td>324.70</td>\n",
       "      <td>1.22</td>\n",
       "      <td>39.66</td>\n",
       "      <td>2.272302</td>\n",
       "      <td>1.977718</td>\n",
       "      <td>33.6</td>\n",
       "    </tr>\n",
       "  </tbody>\n",
       "</table>\n",
       "</div>"
      ],
      "text/plain": [
       "  New ward code            Ward               Borough  Year  Life_Expectancy  \\\n",
       "0     E09000001  City of London        City of London  2009        84.329356   \n",
       "1     E05000026           Abbey  Barking and Dagenham  2009        82.076112   \n",
       "2     E05000027          Alibon  Barking and Dagenham  2009        77.828392   \n",
       "3     E05000028       Becontree  Barking and Dagenham  2009        78.430683   \n",
       "4     E05000029  Chadwell Heath  Barking and Dagenham  2009        79.887841   \n",
       "\n",
       "   Childhood_Obesity  Incapacity_Benefit  Unemployment       Crime  \\\n",
       "0          22.220000            3.333333      2.999195   18.389167   \n",
       "1          21.700880            4.586610      8.325803  180.721564   \n",
       "2          25.974026            7.033561      9.857754  125.168618   \n",
       "3          22.448980            6.734643      9.405173  149.022537   \n",
       "4          23.795181            6.675432      8.567379  135.434080   \n",
       "\n",
       "   Deliberate_Fires  GCSE_points  Unauthorised_School_Absence  \\\n",
       "0          0.684932       346.80                         0.24   \n",
       "1          1.908646       311.29                         1.22   \n",
       "2          1.099268       302.16                         1.53   \n",
       "3          0.967892       320.30                         1.55   \n",
       "4          1.850122       324.70                         1.22   \n",
       "\n",
       "   Dependent_children  Public_Transport_Access  Greespace_Access  \\\n",
       "0               17.14                 7.723401         -6.478752   \n",
       "1               37.71                 5.987356         -0.889538   \n",
       "2               40.00                 3.275530         -1.790968   \n",
       "3               37.59                 2.848544         -5.469666   \n",
       "4               39.66                 2.272302          1.977718   \n",
       "\n",
       "   Borough Green Space Surface  \n",
       "0                          4.8  \n",
       "1                         33.6  \n",
       "2                         33.6  \n",
       "3                         33.6  \n",
       "4                         33.6  "
      ]
     },
     "execution_count": 56,
     "metadata": {},
     "output_type": "execute_result"
    }
   ],
   "source": [
    "# Check imported data\n",
    "df.info()\n",
    "df.head()"
   ]
  },
  {
   "cell_type": "markdown",
   "id": "bf0dbcb7-96da-4e74-b81e-e8c8a70b6881",
   "metadata": {},
   "source": [
    "### 1a. Convert Borough Greenspace into a categorical variable"
   ]
  },
  {
   "cell_type": "code",
   "execution_count": 57,
   "id": "bc501f18-2484-4251-bc61-6217f7efb681",
   "metadata": {},
   "outputs": [
    {
     "data": {
      "image/png": "[encoded data removed]",
      "text/plain": [
       "<Figure size 640x480 with 1 Axes>"
      ]
     },
     "metadata": {},
     "output_type": "display_data"
    }
   ],
   "source": [
    "df.rename(columns={'Borough Green Space Surface': 'Greenspace_Surface_Area'}, inplace=True) \n",
    "sns.histplot(df['Greenspace_Surface_Area'])\n",
    "plt.show();"
   ]
  },
  {
   "cell_type": "code",
   "execution_count": 58,
   "id": "578e65ed-2633-405e-b44a-ac69b0be2c66",
   "metadata": {},
   "outputs": [
    {
     "data": {
      "image/png": "[encoded data removed]",
      "text/plain": [
       "<Figure size 640x480 with 1 Axes>"
      ]
     },
     "metadata": {},
     "output_type": "display_data"
    }
   ],
   "source": [
    "# Examine quantiles\n",
    "sns.boxplot(y='Greenspace_Surface_Area', data=df);"
   ]
  },
  {
   "cell_type": "code",
   "execution_count": 59,
   "id": "78d07973-8d5b-4245-baa4-e943cca7a58d",
   "metadata": {},
   "outputs": [
    {
     "data": {
      "text/html": [
       "<div>\n",
       "<style scoped>\n",
       "    .dataframe tbody tr th:only-of-type {\n",
       "        vertical-align: middle;\n",
       "    }\n",
       "\n",
       "    .dataframe tbody tr th {\n",
       "        vertical-align: top;\n",
       "    }\n",
       "\n",
       "    .dataframe thead th {\n",
       "        text-align: right;\n",
       "    }\n",
       "</style>\n",
       "<table border=\"1\" class=\"dataframe\">\n",
       "  <thead>\n",
       "    <tr style=\"text-align: right;\">\n",
       "      <th></th>\n",
       "      <th>New ward code</th>\n",
       "      <th>Ward</th>\n",
       "      <th>Borough</th>\n",
       "      <th>Year</th>\n",
       "      <th>Life_Expectancy</th>\n",
       "      <th>Childhood_Obesity</th>\n",
       "      <th>Incapacity_Benefit</th>\n",
       "      <th>Unemployment</th>\n",
       "      <th>Crime</th>\n",
       "      <th>Deliberate_Fires</th>\n",
       "      <th>GCSE_points</th>\n",
       "      <th>Unauthorised_School_Absence</th>\n",
       "      <th>Dependent_children</th>\n",
       "      <th>Public_Transport_Access</th>\n",
       "      <th>Greespace_Access</th>\n",
       "      <th>Greenspace_Surface_Area</th>\n",
       "      <th>Total_Greenspace</th>\n",
       "    </tr>\n",
       "  </thead>\n",
       "  <tbody>\n",
       "    <tr>\n",
       "      <th>0</th>\n",
       "      <td>E09000001</td>\n",
       "      <td>City of London</td>\n",
       "      <td>City of London</td>\n",
       "      <td>2009</td>\n",
       "      <td>84.329356</td>\n",
       "      <td>22.220000</td>\n",
       "      <td>3.333333</td>\n",
       "      <td>2.999195</td>\n",
       "      <td>18.389167</td>\n",
       "      <td>0.684932</td>\n",
       "      <td>346.80</td>\n",
       "      <td>0.24</td>\n",
       "      <td>17.14</td>\n",
       "      <td>7.723401</td>\n",
       "      <td>-6.478752</td>\n",
       "      <td>4.8</td>\n",
       "      <td>Low</td>\n",
       "    </tr>\n",
       "    <tr>\n",
       "      <th>1</th>\n",
       "      <td>E05000026</td>\n",
       "      <td>Abbey</td>\n",
       "      <td>Barking and Dagenham</td>\n",
       "      <td>2009</td>\n",
       "      <td>82.076112</td>\n",
       "      <td>21.700880</td>\n",
       "      <td>4.586610</td>\n",
       "      <td>8.325803</td>\n",
       "      <td>180.721564</td>\n",
       "      <td>1.908646</td>\n",
       "      <td>311.29</td>\n",
       "      <td>1.22</td>\n",
       "      <td>37.71</td>\n",
       "      <td>5.987356</td>\n",
       "      <td>-0.889538</td>\n",
       "      <td>33.6</td>\n",
       "      <td>Medium</td>\n",
       "    </tr>\n",
       "    <tr>\n",
       "      <th>2</th>\n",
       "      <td>E05000027</td>\n",
       "      <td>Alibon</td>\n",
       "      <td>Barking and Dagenham</td>\n",
       "      <td>2009</td>\n",
       "      <td>77.828392</td>\n",
       "      <td>25.974026</td>\n",
       "      <td>7.033561</td>\n",
       "      <td>9.857754</td>\n",
       "      <td>125.168618</td>\n",
       "      <td>1.099268</td>\n",
       "      <td>302.16</td>\n",
       "      <td>1.53</td>\n",
       "      <td>40.00</td>\n",
       "      <td>3.275530</td>\n",
       "      <td>-1.790968</td>\n",
       "      <td>33.6</td>\n",
       "      <td>Medium</td>\n",
       "    </tr>\n",
       "    <tr>\n",
       "      <th>3</th>\n",
       "      <td>E05000028</td>\n",
       "      <td>Becontree</td>\n",
       "      <td>Barking and Dagenham</td>\n",
       "      <td>2009</td>\n",
       "      <td>78.430683</td>\n",
       "      <td>22.448980</td>\n",
       "      <td>6.734643</td>\n",
       "      <td>9.405173</td>\n",
       "      <td>149.022537</td>\n",
       "      <td>0.967892</td>\n",
       "      <td>320.30</td>\n",
       "      <td>1.55</td>\n",
       "      <td>37.59</td>\n",
       "      <td>2.848544</td>\n",
       "      <td>-5.469666</td>\n",
       "      <td>33.6</td>\n",
       "      <td>Medium</td>\n",
       "    </tr>\n",
       "    <tr>\n",
       "      <th>4</th>\n",
       "      <td>E05000029</td>\n",
       "      <td>Chadwell Heath</td>\n",
       "      <td>Barking and Dagenham</td>\n",
       "      <td>2009</td>\n",
       "      <td>79.887841</td>\n",
       "      <td>23.795181</td>\n",
       "      <td>6.675432</td>\n",
       "      <td>8.567379</td>\n",
       "      <td>135.434080</td>\n",
       "      <td>1.850122</td>\n",
       "      <td>324.70</td>\n",
       "      <td>1.22</td>\n",
       "      <td>39.66</td>\n",
       "      <td>2.272302</td>\n",
       "      <td>1.977718</td>\n",
       "      <td>33.6</td>\n",
       "      <td>Medium</td>\n",
       "    </tr>\n",
       "  </tbody>\n",
       "</table>\n",
       "</div>"
      ],
      "text/plain": [
       "  New ward code            Ward               Borough  Year  Life_Expectancy  \\\n",
       "0     E09000001  City of London        City of London  2009        84.329356   \n",
       "1     E05000026           Abbey  Barking and Dagenham  2009        82.076112   \n",
       "2     E05000027          Alibon  Barking and Dagenham  2009        77.828392   \n",
       "3     E05000028       Becontree  Barking and Dagenham  2009        78.430683   \n",
       "4     E05000029  Chadwell Heath  Barking and Dagenham  2009        79.887841   \n",
       "\n",
       "   Childhood_Obesity  Incapacity_Benefit  Unemployment       Crime  \\\n",
       "0          22.220000            3.333333      2.999195   18.389167   \n",
       "1          21.700880            4.586610      8.325803  180.721564   \n",
       "2          25.974026            7.033561      9.857754  125.168618   \n",
       "3          22.448980            6.734643      9.405173  149.022537   \n",
       "4          23.795181            6.675432      8.567379  135.434080   \n",
       "\n",
       "   Deliberate_Fires  GCSE_points  Unauthorised_School_Absence  \\\n",
       "0          0.684932       346.80                         0.24   \n",
       "1          1.908646       311.29                         1.22   \n",
       "2          1.099268       302.16                         1.53   \n",
       "3          0.967892       320.30                         1.55   \n",
       "4          1.850122       324.70                         1.22   \n",
       "\n",
       "   Dependent_children  Public_Transport_Access  Greespace_Access  \\\n",
       "0               17.14                 7.723401         -6.478752   \n",
       "1               37.71                 5.987356         -0.889538   \n",
       "2               40.00                 3.275530         -1.790968   \n",
       "3               37.59                 2.848544         -5.469666   \n",
       "4               39.66                 2.272302          1.977718   \n",
       "\n",
       "   Greenspace_Surface_Area Total_Greenspace  \n",
       "0                      4.8              Low  \n",
       "1                     33.6           Medium  \n",
       "2                     33.6           Medium  \n",
       "3                     33.6           Medium  \n",
       "4                     33.6           Medium  "
      ]
     },
     "execution_count": 59,
     "metadata": {},
     "output_type": "execute_result"
    }
   ],
   "source": [
    "#Create new categorical column for greenspace (Low, Medium, High)\n",
    "df['Total_Greenspace'] = pd.cut(df['Greenspace_Surface_Area'], bins=3, labels=['Low', 'Medium', 'High'])\n",
    "df.head()"
   ]
  },
  {
   "cell_type": "code",
   "execution_count": 60,
   "id": "0b820e3a-a135-4379-bd51-4d91e4ca7ae4",
   "metadata": {},
   "outputs": [
    {
     "data": {
      "image/png": "[encoded data removed]",
      "text/plain": [
       "<Figure size 640x480 with 1 Axes>"
      ]
     },
     "metadata": {},
     "output_type": "display_data"
    }
   ],
   "source": [
    "# Examine new categorical column for greenspace\n",
    "sns.boxplot(x='Total_Greenspace', y='Life_Expectancy', data=df);"
   ]
  },
  {
   "cell_type": "code",
   "execution_count": 61,
   "id": "61d47c48-38b4-4dc2-af81-7eb830da328e",
   "metadata": {},
   "outputs": [
    {
     "data": {
      "text/plain": [
       "Medium    1860\n",
       "Low        775\n",
       "High       640\n",
       "Name: Total_Greenspace, dtype: int64"
      ]
     },
     "execution_count": 61,
     "metadata": {},
     "output_type": "execute_result"
    }
   ],
   "source": [
    "# Examine new categorical column for greenspace\n",
    "df['Total_Greenspace'].value_counts()"
   ]
  },
  {
   "cell_type": "markdown",
   "id": "640a3e50-f1c9-4bb5-8b70-e13bf4a320aa",
   "metadata": {},
   "source": [
    "### 1b. Compute new greenspace feature column\n",
    "Use median values for the Low, Median, High categories of total greenspace to create a new numerical measure of greenspace."
   ]
  },
  {
   "cell_type": "code",
   "execution_count": 62,
   "id": "c7b9071e-a85e-4848-a6c3-af0cae43b8c0",
   "metadata": {},
   "outputs": [
    {
     "name": "stdout",
     "output_type": "stream",
     "text": [
      "  Total_Greenspace  Greenspace_Surface_Area\n",
      "0              Low                     19.1\n",
      "1           Medium                     31.7\n",
      "2             High                     49.2\n",
      "<class 'pandas.core.frame.DataFrame'>\n",
      "Int64Index: 3275 entries, 0 to 3274\n",
      "Data columns (total 19 columns):\n",
      " #   Column                       Non-Null Count  Dtype   \n",
      "---  ------                       --------------  -----   \n",
      " 0   New ward code                3275 non-null   object  \n",
      " 1   Ward                         3275 non-null   object  \n",
      " 2   Borough                      3275 non-null   object  \n",
      " 3   Year                         3275 non-null   int64   \n",
      " 4   Life_Expectancy              3275 non-null   float64 \n",
      " 5   Childhood_Obesity            3275 non-null   float64 \n",
      " 6   Incapacity_Benefit           3275 non-null   float64 \n",
      " 7   Unemployment                 3275 non-null   float64 \n",
      " 8   Crime                        3275 non-null   float64 \n",
      " 9   Deliberate_Fires             3275 non-null   float64 \n",
      " 10  GCSE_points                  3275 non-null   float64 \n",
      " 11  Unauthorised_School_Absence  3275 non-null   float64 \n",
      " 12  Dependent_children           3275 non-null   float64 \n",
      " 13  Public_Transport_Access      3275 non-null   float64 \n",
      " 14  Greespace_Access             3275 non-null   float64 \n",
      " 15  Greenspace_Surface_Area      3275 non-null   float64 \n",
      " 16  Total_Greenspace             3275 non-null   category\n",
      " 17  Binned_Median_Greenspace     3275 non-null   float64 \n",
      " 18  Ranked_Greenspace            3275 non-null   float64 \n",
      "dtypes: category(1), float64(14), int64(1), object(3)\n",
      "memory usage: 489.5+ KB\n"
     ]
    }
   ],
   "source": [
    "# Calculate median value for 'Borough Green Space Surface' for each grouping (Low/Med/High) of Total_Greenspace\n",
    "# This will give me a numerical column for greenspace based on binned category median values\n",
    "\n",
    "median_vals = df.groupby('Total_Greenspace', as_index=False)['Greenspace_Surface_Area'].median()\n",
    "print(median_vals)\n",
    "\n",
    "df['Binned_Median_Greenspace'] = df['Total_Greenspace'].map({'Low': median_vals.iloc[0][1], 'Medium': median_vals.iloc[1][1], 'High': median_vals.iloc[2][1]}).values.astype(float)\n",
    "\n",
    "# Create another column with a simple numerical ranking for greenspace\n",
    "df['Ranked_Greenspace'] = df['Total_Greenspace'].map({'Low': 0, 'Medium': 1, 'High': 2}).values.astype(float)\n",
    "\n",
    "#print(df.Binned_Median_Greenspace.value_counts())\n",
    "#print(df.Ranked_Greenspace.value_counts())\n",
    "\n",
    "df.info()"
   ]
  },
  {
   "cell_type": "markdown",
   "id": "6b5375ec-7861-44db-aea2-226b98e3062b",
   "metadata": {},
   "source": [
    "## 1c. Remove columns unnecessary for model\n",
    "Since I a not looking at the change in time as a variable, I will remove the Year variable. <br>\n",
    "The Ward variables are also redundant with Borough -- I will keep Borough only (to be used as a categorical variable) since that is the level of detail with which the data was collected. "
   ]
  },
  {
   "cell_type": "code",
   "execution_count": 63,
   "id": "8820761e-243a-468b-af8f-1bea3a271385",
   "metadata": {},
   "outputs": [
    {
     "data": {
      "image/png": "[encoded data removed]",
      "text/plain": [
       "<Figure size 640x480 with 1 Axes>"
      ]
     },
     "metadata": {},
     "output_type": "display_data"
    }
   ],
   "source": [
    "# Examine Life Expectancy Across Years\n",
    "sns.boxplot(x='Year', y='Life_Expectancy', data=df);"
   ]
  },
  {
   "cell_type": "code",
   "execution_count": 64,
   "id": "83e2710d-b178-4b39-89e4-7076a8799c17",
   "metadata": {},
   "outputs": [],
   "source": [
    "# Drop unwanted columns\n",
    "# Dropping Ward columns, Year\n",
    "df_longevity = df.drop(columns=['New ward code', 'Ward', 'Year'])"
   ]
  },
  {
   "cell_type": "code",
   "execution_count": 65,
   "id": "714ba03d-47e1-4e14-816c-53008f728385",
   "metadata": {},
   "outputs": [
    {
     "name": "stdout",
     "output_type": "stream",
     "text": [
      "<class 'pandas.core.frame.DataFrame'>\n",
      "Int64Index: 3275 entries, 0 to 3274\n",
      "Data columns (total 16 columns):\n",
      " #   Column                       Non-Null Count  Dtype   \n",
      "---  ------                       --------------  -----   \n",
      " 0   Borough                      3275 non-null   object  \n",
      " 1   Life_Expectancy              3275 non-null   float64 \n",
      " 2   Childhood_Obesity            3275 non-null   float64 \n",
      " 3   Incapacity_Benefit           3275 non-null   float64 \n",
      " 4   Unemployment                 3275 non-null   float64 \n",
      " 5   Crime                        3275 non-null   float64 \n",
      " 6   Deliberate_Fires             3275 non-null   float64 \n",
      " 7   GCSE_points                  3275 non-null   float64 \n",
      " 8   Unauthorised_School_Absence  3275 non-null   float64 \n",
      " 9   Dependent_children           3275 non-null   float64 \n",
      " 10  Public_Transport_Access      3275 non-null   float64 \n",
      " 11  Greespace_Access             3275 non-null   float64 \n",
      " 12  Greenspace_Surface_Area      3275 non-null   float64 \n",
      " 13  Total_Greenspace             3275 non-null   category\n",
      " 14  Binned_Median_Greenspace     3275 non-null   float64 \n",
      " 15  Ranked_Greenspace            3275 non-null   float64 \n",
      "dtypes: category(1), float64(14), object(1)\n",
      "memory usage: 412.7+ KB\n"
     ]
    }
   ],
   "source": [
    "df_longevity.info()"
   ]
  },
  {
   "cell_type": "markdown",
   "id": "3bb5bcde-1c60-47d6-abfd-08985d8a58d9",
   "metadata": {},
   "source": [
    "## 1. Train-test split data"
   ]
  },
  {
   "cell_type": "code",
   "execution_count": 66,
   "id": "dd5c623c-d1cc-4315-84d5-03648c8d54b4",
   "metadata": {},
   "outputs": [
    {
     "data": {
      "text/plain": [
       "(3275, 16)"
      ]
     },
     "execution_count": 66,
     "metadata": {},
     "output_type": "execute_result"
    }
   ],
   "source": [
    "df_longevity.shape"
   ]
  },
  {
   "cell_type": "code",
   "execution_count": 67,
   "id": "f3b09a54-730b-4224-a355-dea12fde2cb4",
   "metadata": {},
   "outputs": [],
   "source": [
    "X_train, X_test, y_train, y_test = train_test_split(df_longevity.drop(columns='Life_Expectancy'), \n",
    "                                                    df_longevity.Life_Expectancy, test_size=0.3, \n",
    "                                                    random_state=43)"
   ]
  },
  {
   "cell_type": "code",
   "execution_count": 68,
   "id": "60474cb3-7841-408c-b9ec-98d43af13e3b",
   "metadata": {},
   "outputs": [
    {
     "data": {
      "text/plain": [
       "((2292, 15), (983, 15))"
      ]
     },
     "execution_count": 68,
     "metadata": {},
     "output_type": "execute_result"
    }
   ],
   "source": [
    "X_train.shape, X_test.shape"
   ]
  },
  {
   "cell_type": "code",
   "execution_count": 69,
   "id": "f417713b-2e30-4fea-9087-a9d94f7a0252",
   "metadata": {},
   "outputs": [
    {
     "data": {
      "text/plain": [
       "((2292,), (983,))"
      ]
     },
     "execution_count": 69,
     "metadata": {},
     "output_type": "execute_result"
    }
   ],
   "source": [
    "y_train.shape, y_test.shape"
   ]
  },
  {
   "cell_type": "code",
   "execution_count": 70,
   "id": "7961a5f0-0270-43da-a159-91fc0d0639fd",
   "metadata": {},
   "outputs": [
    {
     "data": {
      "text/plain": [
       "Borough                          object\n",
       "Childhood_Obesity               float64\n",
       "Incapacity_Benefit              float64\n",
       "Unemployment                    float64\n",
       "Crime                           float64\n",
       "Deliberate_Fires                float64\n",
       "GCSE_points                     float64\n",
       "Unauthorised_School_Absence     float64\n",
       "Dependent_children              float64\n",
       "Public_Transport_Access         float64\n",
       "Greespace_Access                float64\n",
       "Greenspace_Surface_Area         float64\n",
       "Total_Greenspace               category\n",
       "Binned_Median_Greenspace        float64\n",
       "Ranked_Greenspace               float64\n",
       "dtype: object"
      ]
     },
     "execution_count": 70,
     "metadata": {},
     "output_type": "execute_result"
    }
   ],
   "source": [
    "#Check the `dtypes` attribute of `X_train` \n",
    "X_train.dtypes"
   ]
  },
  {
   "cell_type": "markdown",
   "id": "b83be364-e283-424f-831a-727f0edd3122",
   "metadata": {},
   "source": [
    "## 2. Scale numberical variables\n",
    "Use StandardScalar to scale numeric variables to a standardized scale. The StandardScaler scales each feature to zero mean and unit variance."
   ]
  },
  {
   "cell_type": "code",
   "execution_count": 71,
   "id": "fffecace-0652-4282-87d9-46b387f14db2",
   "metadata": {},
   "outputs": [],
   "source": [
    "# Drop categorical features\n",
    "cat_cols = ['Borough', 'Total_Greenspace']\n",
    "X_train_num = X_train.drop(columns=cat_cols)\n",
    "X_test_num = X_test.drop(columns=cat_cols)"
   ]
  },
  {
   "cell_type": "code",
   "execution_count": 72,
   "id": "028930df-0a60-4619-8504-b177f4e2b59e",
   "metadata": {},
   "outputs": [],
   "source": [
    "# Fit scaler to training data and transform training and test data\n",
    "scaler = StandardScaler()\n",
    "scaler.fit(X_train_num)\n",
    "X_tr_scaled = scaler.transform(X_train_num)\n",
    "X_te_scaled = scaler.transform(X_test_num)\n"
   ]
  },
  {
   "cell_type": "code",
   "execution_count": 73,
   "id": "e5c68e3b-e113-439a-a6ca-6affeb981739",
   "metadata": {},
   "outputs": [
    {
     "data": {
      "text/plain": [
       "(2292, 13)"
      ]
     },
     "execution_count": 73,
     "metadata": {},
     "output_type": "execute_result"
    }
   ],
   "source": [
    "X_tr_scaled.shape"
   ]
  },
  {
   "cell_type": "code",
   "execution_count": 74,
   "id": "2a3b7e2d-4ccc-409c-8f3d-0c77ca96780f",
   "metadata": {},
   "outputs": [
    {
     "data": {
      "text/plain": [
       "(983, 13)"
      ]
     },
     "execution_count": 74,
     "metadata": {},
     "output_type": "execute_result"
    }
   ],
   "source": [
    "X_te_scaled.shape"
   ]
  },
  {
   "cell_type": "code",
   "execution_count": 75,
   "id": "7eba14a6-6250-490a-b6eb-949de5197abb",
   "metadata": {},
   "outputs": [],
   "source": [
    "# Create new scaled dataframes for X_train and X_test data\n",
    "col_names = X_train.columns.drop(['Borough', 'Total_Greenspace'])\n",
    "\n",
    "# Training data\n",
    "X_tr_num = pd.DataFrame(X_tr_scaled, columns=col_names)\n",
    "\n",
    "# Test data\n",
    "X_te_num = pd.DataFrame(X_te_scaled, columns=col_names)\n"
   ]
  },
  {
   "cell_type": "code",
   "execution_count": 76,
   "id": "a9abdf2f-3e3c-4082-b7c5-309dc1159d63",
   "metadata": {},
   "outputs": [
    {
     "data": {
      "text/plain": [
       "(983, 13)"
      ]
     },
     "execution_count": 76,
     "metadata": {},
     "output_type": "execute_result"
    }
   ],
   "source": [
    "X_te_num.shape"
   ]
  },
  {
   "cell_type": "markdown",
   "id": "44610cad-2b37-40b9-a705-537bbe00d426",
   "metadata": {},
   "source": [
    "## 3. Create dummy variables for categorical data\n",
    "Categorical columns are Borough and Total_Greenspace. <br>\n",
    "I previously tried using pandas get_dummies for dummy encoding the data, but this produced a test dataset with fewer columns (due to the small size of the dataset). Therefore, I'm using sklearn's OneHotEncoder to deal with this problem."
   ]
  },
  {
   "cell_type": "code",
   "execution_count": 77,
   "id": "9dcdfb66-6743-4fe8-b85a-eb215c80cf5b",
   "metadata": {},
   "outputs": [],
   "source": [
    "# Get categorical features\n",
    "cat_cols = ['Borough', 'Total_Greenspace']\n",
    "\n",
    "X_train_cat = X_train[cat_cols]\n",
    "X_test_cat = X_test[cat_cols]"
   ]
  },
  {
   "cell_type": "code",
   "execution_count": 78,
   "id": "586003cb-4558-4be5-a789-f5a75e652b1e",
   "metadata": {},
   "outputs": [
    {
     "data": {
      "text/plain": [
       "(2292, 2)"
      ]
     },
     "execution_count": 78,
     "metadata": {},
     "output_type": "execute_result"
    }
   ],
   "source": [
    "X_train_cat.shape"
   ]
  },
  {
   "cell_type": "code",
   "execution_count": 79,
   "id": "f75bbe70-f8e7-4055-bca7-138d890365f3",
   "metadata": {},
   "outputs": [
    {
     "data": {
      "text/plain": [
       "(983, 2)"
      ]
     },
     "execution_count": 79,
     "metadata": {},
     "output_type": "execute_result"
    }
   ],
   "source": [
    "X_test_cat.shape"
   ]
  },
  {
   "cell_type": "code",
   "execution_count": 80,
   "id": "b5b8d012-1712-45c3-bf45-3e16cb927213",
   "metadata": {},
   "outputs": [],
   "source": [
    "# Convert the Borough and Total Greenspace columns to a one hot encoded Data Frame on both training and test data\n",
    "\n",
    "enc = OneHotEncoder(handle_unknown='ignore')\n",
    "\n",
    "# Fit and transform \n",
    "X_train_transformed = enc.fit_transform(X_train_cat)\n",
    "X_test_transformed = enc.transform(X_test_cat)\n",
    "\n",
    "# Convert back to data frame\n",
    "X_train_ohe = pd.DataFrame(X_train_transformed.toarray(), columns = enc.get_feature_names_out())\n",
    "X_test_ohe = pd.DataFrame(X_test_transformed.toarray(), columns = enc.get_feature_names_out())\n"
   ]
  },
  {
   "cell_type": "code",
   "execution_count": 109,
   "id": "46423a93-3d1b-48fe-a130-acb4086b4ab9",
   "metadata": {},
   "outputs": [],
   "source": [
    "# Concat categorical and numerical scaled data together\n",
    "X_tr = pd.concat([X_tr_num, X_train_ohe], axis=1)\n",
    "X_te = pd.concat([X_te_num, X_test_ohe], axis=1)\n",
    "\n",
    "y_tr = y_train\n",
    "y_te = y_test"
   ]
  },
  {
   "cell_type": "code",
   "execution_count": 106,
   "id": "c47f8a0e-1c7c-406e-9ef7-361e3c022652",
   "metadata": {},
   "outputs": [
    {
     "data": {
      "text/plain": [
       "(983, 49)"
      ]
     },
     "execution_count": 106,
     "metadata": {},
     "output_type": "execute_result"
    }
   ],
   "source": [
    "X_te.shape"
   ]
  },
  {
   "cell_type": "code",
   "execution_count": 107,
   "id": "540cba11-89af-41c1-9132-5cede0b7aac8",
   "metadata": {},
   "outputs": [
    {
     "data": {
      "text/plain": [
       "(2292, 49)"
      ]
     },
     "execution_count": 107,
     "metadata": {},
     "output_type": "execute_result"
    }
   ],
   "source": [
    "X_tr.shape"
   ]
  },
  {
   "cell_type": "markdown",
   "id": "176270f1-4d73-433d-83d8-e47a0ec087c4",
   "metadata": {},
   "source": [
    "I now have an all numeric dataset that is ready for modeling. It contains scaled numerical variables, as well as two categorical variables (Borough and Total_Greenspace) that have been one-hot-encoded for modeling. <br>\n"
   ]
  },
  {
   "cell_type": "markdown",
   "id": "a7cda129-1b93-416d-94c6-1d1255863b01",
   "metadata": {},
   "source": [
    "### Saving the train and test data"
   ]
  },
  {
   "cell_type": "code",
   "execution_count": 108,
   "id": "c04f68b9-a465-4a27-b6e8-f42e66da002d",
   "metadata": {},
   "outputs": [],
   "source": [
    "# Saving cleaned data\n",
    "# save the data to a new csv file\n",
    "\n",
    "datapath = '/Users/kbrewitt/Github/Predicting Longevity Using Urban Greenspace/clean_data/'\n",
    "\n",
    "X_tr.to_csv(datapath + 'X_train.csv', sep=',')\n",
    "X_te.to_csv(datapath + 'X_test.csv', sep=',')\n",
    "y_train.to_csv(datapath + 'y_train.csv', sep=',', index_label=False)\n",
    "y_test.to_csv(datapath + 'y_test.csv', sep=',', index_label=False)\n",
    "\n"
   ]
  },
  {
   "cell_type": "markdown",
   "id": "78925837-61a9-4fb9-b949-9c7f0478b8c6",
   "metadata": {},
   "source": [
    "# Model Fitting\n",
    "## Model 1: Linear regression \n",
    "Fit a simple linear regression model using a pipeline"
   ]
  },
  {
   "cell_type": "code",
   "execution_count": 110,
   "id": "ae75a42c-72c1-4368-9c71-7de289813863",
   "metadata": {},
   "outputs": [],
   "source": [
    "# Make a pipeline for linear regression model\n",
    "from sklearn.pipeline import make_pipeline\n",
    "from sklearn.feature_selection import SelectKBest, f_regression\n",
    "\n",
    "LRpipe = make_pipeline(\n",
    "    SelectKBest(),\n",
    "    LinearRegression()\n",
    ")"
   ]
  },
  {
   "cell_type": "code",
   "execution_count": 113,
   "id": "324b60e3-0e1e-456a-8a26-a077da3281d5",
   "metadata": {},
   "outputs": [],
   "source": [
    "#  Pass the pipe object and use 5-fold cross-validation to assess fit on training data\n",
    "lr_default_cv_results = cross_validate(LRpipe, X_tr, y_tr, cv=5)"
   ]
  },
  {
   "cell_type": "code",
   "execution_count": 114,
   "id": "85ea9291-56db-432e-8736-889a217bd092",
   "metadata": {},
   "outputs": [
    {
     "data": {
      "text/plain": [
       "(0.11526312892289345, 0.011443765820333872)"
      ]
     },
     "execution_count": 114,
     "metadata": {},
     "output_type": "execute_result"
    }
   ],
   "source": [
    "# Assess basic linear regression model (default test score for linear regression is r-squared)\n",
    "lr_cv_scores = lr_default_cv_results['test_score']\n",
    "np.mean(lr_cv_scores), np.std(lr_cv_scores)"
   ]
  },
  {
   "cell_type": "markdown",
   "id": "522c5f1e-ff5c-41b4-8200-8c0155b0933f",
   "metadata": {},
   "source": [
    "### Use GridSearchCV for selecting k best parameters in the regression model\n",
    "Note: There are no hyperparameters to tune in the basic lr model. "
   ]
  },
  {
   "cell_type": "code",
   "execution_count": 115,
   "id": "67644dc2-52a1-4c71-aa80-48d64ca06ef5",
   "metadata": {},
   "outputs": [
    {
     "data": {
      "text/plain": [
       "dict_keys(['memory', 'steps', 'verbose', 'selectkbest', 'linearregression', 'selectkbest__k', 'selectkbest__score_func', 'linearregression__copy_X', 'linearregression__fit_intercept', 'linearregression__n_jobs', 'linearregression__normalize', 'linearregression__positive'])"
      ]
     },
     "execution_count": 115,
     "metadata": {},
     "output_type": "execute_result"
    }
   ],
   "source": [
    "LRpipe.get_params().keys()"
   ]
  },
  {
   "cell_type": "code",
   "execution_count": 234,
   "id": "5bc04bcc-ce1c-4515-8494-02e7c5aa8f29",
   "metadata": {},
   "outputs": [],
   "source": [
    "# GridSearchCV \n",
    "# Create a range of k for selecting k-best features \n",
    "k = [k+1 for k in range(len(X_tr.columns))]\n",
    "grid_params = {'selectkbest__k': k}\n",
    "\n",
    "lr_grid_cv = GridSearchCV(LRpipe, param_grid=grid_params, cv=5, n_jobs=-1)"
   ]
  },
  {
   "cell_type": "code",
   "execution_count": 235,
   "id": "0eb30d71-07b0-4bd0-9f94-2397078f6d76",
   "metadata": {},
   "outputs": [
    {
     "name": "stderr",
     "output_type": "stream",
     "text": [
      "/Users/kbrewitt/opt/anaconda3/lib/python3.9/site-packages/sklearn/feature_selection/_univariate_selection.py:109: RuntimeWarning: invalid value encountered in true_divide\n",
      "  msw = sswn / float(dfwn)\n",
      "/Users/kbrewitt/opt/anaconda3/lib/python3.9/site-packages/sklearn/feature_selection/_univariate_selection.py:109: RuntimeWarning: invalid value encountered in true_divide\n",
      "  msw = sswn / float(dfwn)\n",
      "/Users/kbrewitt/opt/anaconda3/lib/python3.9/site-packages/sklearn/feature_selection/_univariate_selection.py:109: RuntimeWarning: invalid value encountered in true_divide\n",
      "  msw = sswn / float(dfwn)\n",
      "/Users/kbrewitt/opt/anaconda3/lib/python3.9/site-packages/sklearn/feature_selection/_univariate_selection.py:109: RuntimeWarning: invalid value encountered in true_divide\n",
      "  msw = sswn / float(dfwn)\n",
      "/Users/kbrewitt/opt/anaconda3/lib/python3.9/site-packages/sklearn/feature_selection/_univariate_selection.py:109: RuntimeWarning: invalid value encountered in true_divide\n",
      "  msw = sswn / float(dfwn)\n",
      "/Users/kbrewitt/opt/anaconda3/lib/python3.9/site-packages/sklearn/feature_selection/_univariate_selection.py:109: RuntimeWarning: invalid value encountered in true_divide\n",
      "  msw = sswn / float(dfwn)\n",
      "/Users/kbrewitt/opt/anaconda3/lib/python3.9/site-packages/sklearn/feature_selection/_univariate_selection.py:109: RuntimeWarning: invalid value encountered in true_divide\n",
      "  msw = sswn / float(dfwn)\n",
      "/Users/kbrewitt/opt/anaconda3/lib/python3.9/site-packages/sklearn/feature_selection/_univariate_selection.py:109: RuntimeWarning: invalid value encountered in true_divide\n",
      "  msw = sswn / float(dfwn)\n",
      "/Users/kbrewitt/opt/anaconda3/lib/python3.9/site-packages/sklearn/feature_selection/_univariate_selection.py:109: RuntimeWarning: invalid value encountered in true_divide\n",
      "  msw = sswn / float(dfwn)\n",
      "/Users/kbrewitt/opt/anaconda3/lib/python3.9/site-packages/sklearn/feature_selection/_univariate_selection.py:109: RuntimeWarning: invalid value encountered in true_divide\n",
      "  msw = sswn / float(dfwn)\n",
      "/Users/kbrewitt/opt/anaconda3/lib/python3.9/site-packages/sklearn/feature_selection/_univariate_selection.py:109: RuntimeWarning: invalid value encountered in true_divide\n",
      "  msw = sswn / float(dfwn)\n",
      "/Users/kbrewitt/opt/anaconda3/lib/python3.9/site-packages/sklearn/feature_selection/_univariate_selection.py:109: RuntimeWarning: invalid value encountered in true_divide\n",
      "  msw = sswn / float(dfwn)\n",
      "/Users/kbrewitt/opt/anaconda3/lib/python3.9/site-packages/sklearn/feature_selection/_univariate_selection.py:109: RuntimeWarning: invalid value encountered in true_divide\n",
      "  msw = sswn / float(dfwn)\n",
      "/Users/kbrewitt/opt/anaconda3/lib/python3.9/site-packages/sklearn/feature_selection/_univariate_selection.py:109: RuntimeWarning: invalid value encountered in true_divide\n",
      "  msw = sswn / float(dfwn)\n",
      "/Users/kbrewitt/opt/anaconda3/lib/python3.9/site-packages/sklearn/feature_selection/_univariate_selection.py:109: RuntimeWarning: invalid value encountered in true_divide\n",
      "  msw = sswn / float(dfwn)\n",
      "/Users/kbrewitt/opt/anaconda3/lib/python3.9/site-packages/sklearn/feature_selection/_univariate_selection.py:109: RuntimeWarning: invalid value encountered in true_divide\n",
      "  msw = sswn / float(dfwn)\n",
      "/Users/kbrewitt/opt/anaconda3/lib/python3.9/site-packages/sklearn/feature_selection/_univariate_selection.py:109: RuntimeWarning: invalid value encountered in true_divide\n",
      "  msw = sswn / float(dfwn)\n",
      "/Users/kbrewitt/opt/anaconda3/lib/python3.9/site-packages/sklearn/feature_selection/_univariate_selection.py:109: RuntimeWarning: invalid value encountered in true_divide\n",
      "  msw = sswn / float(dfwn)\n",
      "/Users/kbrewitt/opt/anaconda3/lib/python3.9/site-packages/sklearn/feature_selection/_univariate_selection.py:109: RuntimeWarning: invalid value encountered in true_divide\n",
      "  msw = sswn / float(dfwn)\n",
      "/Users/kbrewitt/opt/anaconda3/lib/python3.9/site-packages/sklearn/feature_selection/_univariate_selection.py:109: RuntimeWarning: invalid value encountered in true_divide\n",
      "  msw = sswn / float(dfwn)\n",
      "/Users/kbrewitt/opt/anaconda3/lib/python3.9/site-packages/sklearn/feature_selection/_univariate_selection.py:109: RuntimeWarning: invalid value encountered in true_divide\n",
      "  msw = sswn / float(dfwn)\n",
      "/Users/kbrewitt/opt/anaconda3/lib/python3.9/site-packages/sklearn/feature_selection/_univariate_selection.py:109: RuntimeWarning: invalid value encountered in true_divide\n",
      "  msw = sswn / float(dfwn)\n",
      "/Users/kbrewitt/opt/anaconda3/lib/python3.9/site-packages/sklearn/feature_selection/_univariate_selection.py:109: RuntimeWarning: invalid value encountered in true_divide\n",
      "  msw = sswn / float(dfwn)\n",
      "/Users/kbrewitt/opt/anaconda3/lib/python3.9/site-packages/sklearn/feature_selection/_univariate_selection.py:109: RuntimeWarning: invalid value encountered in true_divide\n",
      "  msw = sswn / float(dfwn)\n",
      "/Users/kbrewitt/opt/anaconda3/lib/python3.9/site-packages/sklearn/feature_selection/_univariate_selection.py:109: RuntimeWarning: invalid value encountered in true_divide\n",
      "  msw = sswn / float(dfwn)\n",
      "/Users/kbrewitt/opt/anaconda3/lib/python3.9/site-packages/sklearn/feature_selection/_univariate_selection.py:109: RuntimeWarning: invalid value encountered in true_divide\n",
      "  msw = sswn / float(dfwn)\n",
      "/Users/kbrewitt/opt/anaconda3/lib/python3.9/site-packages/sklearn/feature_selection/_univariate_selection.py:109: RuntimeWarning: invalid value encountered in true_divide\n",
      "  msw = sswn / float(dfwn)\n",
      "/Users/kbrewitt/opt/anaconda3/lib/python3.9/site-packages/sklearn/feature_selection/_univariate_selection.py:109: RuntimeWarning: invalid value encountered in true_divide\n",
      "  msw = sswn / float(dfwn)\n",
      "/Users/kbrewitt/opt/anaconda3/lib/python3.9/site-packages/sklearn/feature_selection/_univariate_selection.py:109: RuntimeWarning: invalid value encountered in true_divide\n",
      "  msw = sswn / float(dfwn)\n",
      "/Users/kbrewitt/opt/anaconda3/lib/python3.9/site-packages/sklearn/feature_selection/_univariate_selection.py:109: RuntimeWarning: invalid value encountered in true_divide\n",
      "  msw = sswn / float(dfwn)\n",
      "/Users/kbrewitt/opt/anaconda3/lib/python3.9/site-packages/sklearn/feature_selection/_univariate_selection.py:109: RuntimeWarning: invalid value encountered in true_divide\n",
      "  msw = sswn / float(dfwn)\n",
      "/Users/kbrewitt/opt/anaconda3/lib/python3.9/site-packages/sklearn/feature_selection/_univariate_selection.py:109: RuntimeWarning: invalid value encountered in true_divide\n",
      "  msw = sswn / float(dfwn)\n",
      "/Users/kbrewitt/opt/anaconda3/lib/python3.9/site-packages/sklearn/feature_selection/_univariate_selection.py:109: RuntimeWarning: invalid value encountered in true_divide\n",
      "  msw = sswn / float(dfwn)\n",
      "/Users/kbrewitt/opt/anaconda3/lib/python3.9/site-packages/sklearn/feature_selection/_univariate_selection.py:109: RuntimeWarning: invalid value encountered in true_divide\n",
      "  msw = sswn / float(dfwn)\n",
      "/Users/kbrewitt/opt/anaconda3/lib/python3.9/site-packages/sklearn/feature_selection/_univariate_selection.py:109: RuntimeWarning: invalid value encountered in true_divide\n",
      "  msw = sswn / float(dfwn)\n",
      "/Users/kbrewitt/opt/anaconda3/lib/python3.9/site-packages/sklearn/feature_selection/_univariate_selection.py:109: RuntimeWarning: invalid value encountered in true_divide\n",
      "  msw = sswn / float(dfwn)\n",
      "/Users/kbrewitt/opt/anaconda3/lib/python3.9/site-packages/sklearn/feature_selection/_univariate_selection.py:109: RuntimeWarning: invalid value encountered in true_divide\n",
      "  msw = sswn / float(dfwn)\n",
      "/Users/kbrewitt/opt/anaconda3/lib/python3.9/site-packages/sklearn/feature_selection/_univariate_selection.py:109: RuntimeWarning: invalid value encountered in true_divide\n",
      "  msw = sswn / float(dfwn)\n",
      "/Users/kbrewitt/opt/anaconda3/lib/python3.9/site-packages/sklearn/feature_selection/_univariate_selection.py:109: RuntimeWarning: invalid value encountered in true_divide\n",
      "  msw = sswn / float(dfwn)\n",
      "/Users/kbrewitt/opt/anaconda3/lib/python3.9/site-packages/sklearn/feature_selection/_univariate_selection.py:109: RuntimeWarning: invalid value encountered in true_divide\n",
      "  msw = sswn / float(dfwn)\n",
      "/Users/kbrewitt/opt/anaconda3/lib/python3.9/site-packages/sklearn/feature_selection/_univariate_selection.py:109: RuntimeWarning: invalid value encountered in true_divide\n",
      "  msw = sswn / float(dfwn)\n",
      "/Users/kbrewitt/opt/anaconda3/lib/python3.9/site-packages/sklearn/feature_selection/_univariate_selection.py:109: RuntimeWarning: invalid value encountered in true_divide\n",
      "  msw = sswn / float(dfwn)\n",
      "/Users/kbrewitt/opt/anaconda3/lib/python3.9/site-packages/sklearn/feature_selection/_univariate_selection.py:109: RuntimeWarning: invalid value encountered in true_divide\n",
      "  msw = sswn / float(dfwn)\n",
      "/Users/kbrewitt/opt/anaconda3/lib/python3.9/site-packages/sklearn/feature_selection/_univariate_selection.py:109: RuntimeWarning: invalid value encountered in true_divide\n",
      "  msw = sswn / float(dfwn)\n",
      "/Users/kbrewitt/opt/anaconda3/lib/python3.9/site-packages/sklearn/feature_selection/_univariate_selection.py:109: RuntimeWarning: invalid value encountered in true_divide\n",
      "  msw = sswn / float(dfwn)\n",
      "/Users/kbrewitt/opt/anaconda3/lib/python3.9/site-packages/sklearn/feature_selection/_univariate_selection.py:109: RuntimeWarning: invalid value encountered in true_divide\n",
      "  msw = sswn / float(dfwn)\n",
      "/Users/kbrewitt/opt/anaconda3/lib/python3.9/site-packages/sklearn/feature_selection/_univariate_selection.py:109: RuntimeWarning: invalid value encountered in true_divide\n",
      "  msw = sswn / float(dfwn)\n",
      "/Users/kbrewitt/opt/anaconda3/lib/python3.9/site-packages/sklearn/feature_selection/_univariate_selection.py:109: RuntimeWarning: invalid value encountered in true_divide\n",
      "  msw = sswn / float(dfwn)\n",
      "/Users/kbrewitt/opt/anaconda3/lib/python3.9/site-packages/sklearn/feature_selection/_univariate_selection.py:109: RuntimeWarning: invalid value encountered in true_divide\n",
      "  msw = sswn / float(dfwn)\n",
      "/Users/kbrewitt/opt/anaconda3/lib/python3.9/site-packages/sklearn/feature_selection/_univariate_selection.py:109: RuntimeWarning: invalid value encountered in true_divide\n",
      "  msw = sswn / float(dfwn)\n",
      "/Users/kbrewitt/opt/anaconda3/lib/python3.9/site-packages/sklearn/feature_selection/_univariate_selection.py:109: RuntimeWarning: invalid value encountered in true_divide\n",
      "  msw = sswn / float(dfwn)\n",
      "/Users/kbrewitt/opt/anaconda3/lib/python3.9/site-packages/sklearn/feature_selection/_univariate_selection.py:109: RuntimeWarning: invalid value encountered in true_divide\n",
      "  msw = sswn / float(dfwn)\n",
      "/Users/kbrewitt/opt/anaconda3/lib/python3.9/site-packages/sklearn/feature_selection/_univariate_selection.py:109: RuntimeWarning: invalid value encountered in true_divide\n",
      "  msw = sswn / float(dfwn)\n",
      "/Users/kbrewitt/opt/anaconda3/lib/python3.9/site-packages/sklearn/feature_selection/_univariate_selection.py:109: RuntimeWarning: invalid value encountered in true_divide\n",
      "  msw = sswn / float(dfwn)\n",
      "/Users/kbrewitt/opt/anaconda3/lib/python3.9/site-packages/sklearn/feature_selection/_univariate_selection.py:109: RuntimeWarning: invalid value encountered in true_divide\n",
      "  msw = sswn / float(dfwn)\n",
      "/Users/kbrewitt/opt/anaconda3/lib/python3.9/site-packages/sklearn/feature_selection/_univariate_selection.py:109: RuntimeWarning: invalid value encountered in true_divide\n",
      "  msw = sswn / float(dfwn)\n",
      "/Users/kbrewitt/opt/anaconda3/lib/python3.9/site-packages/sklearn/feature_selection/_univariate_selection.py:109: RuntimeWarning: invalid value encountered in true_divide\n",
      "  msw = sswn / float(dfwn)\n",
      "/Users/kbrewitt/opt/anaconda3/lib/python3.9/site-packages/sklearn/feature_selection/_univariate_selection.py:109: RuntimeWarning: invalid value encountered in true_divide\n",
      "  msw = sswn / float(dfwn)\n",
      "/Users/kbrewitt/opt/anaconda3/lib/python3.9/site-packages/sklearn/feature_selection/_univariate_selection.py:109: RuntimeWarning: invalid value encountered in true_divide\n",
      "  msw = sswn / float(dfwn)\n",
      "/Users/kbrewitt/opt/anaconda3/lib/python3.9/site-packages/sklearn/feature_selection/_univariate_selection.py:109: RuntimeWarning: invalid value encountered in true_divide\n",
      "  msw = sswn / float(dfwn)\n",
      "/Users/kbrewitt/opt/anaconda3/lib/python3.9/site-packages/sklearn/feature_selection/_univariate_selection.py:109: RuntimeWarning: invalid value encountered in true_divide\n",
      "  msw = sswn / float(dfwn)\n",
      "/Users/kbrewitt/opt/anaconda3/lib/python3.9/site-packages/sklearn/feature_selection/_univariate_selection.py:109: RuntimeWarning: invalid value encountered in true_divide\n",
      "  msw = sswn / float(dfwn)\n",
      "/Users/kbrewitt/opt/anaconda3/lib/python3.9/site-packages/sklearn/feature_selection/_univariate_selection.py:109: RuntimeWarning: invalid value encountered in true_divide\n",
      "  msw = sswn / float(dfwn)\n",
      "/Users/kbrewitt/opt/anaconda3/lib/python3.9/site-packages/sklearn/feature_selection/_univariate_selection.py:109: RuntimeWarning: invalid value encountered in true_divide\n",
      "  msw = sswn / float(dfwn)\n",
      "/Users/kbrewitt/opt/anaconda3/lib/python3.9/site-packages/sklearn/feature_selection/_univariate_selection.py:109: RuntimeWarning: invalid value encountered in true_divide\n",
      "  msw = sswn / float(dfwn)\n",
      "/Users/kbrewitt/opt/anaconda3/lib/python3.9/site-packages/sklearn/feature_selection/_univariate_selection.py:109: RuntimeWarning: invalid value encountered in true_divide\n",
      "  msw = sswn / float(dfwn)\n",
      "/Users/kbrewitt/opt/anaconda3/lib/python3.9/site-packages/sklearn/feature_selection/_univariate_selection.py:109: RuntimeWarning: invalid value encountered in true_divide\n",
      "  msw = sswn / float(dfwn)\n",
      "/Users/kbrewitt/opt/anaconda3/lib/python3.9/site-packages/sklearn/feature_selection/_univariate_selection.py:109: RuntimeWarning: invalid value encountered in true_divide\n",
      "  msw = sswn / float(dfwn)\n",
      "/Users/kbrewitt/opt/anaconda3/lib/python3.9/site-packages/sklearn/feature_selection/_univariate_selection.py:109: RuntimeWarning: invalid value encountered in true_divide\n",
      "  msw = sswn / float(dfwn)\n",
      "/Users/kbrewitt/opt/anaconda3/lib/python3.9/site-packages/sklearn/feature_selection/_univariate_selection.py:109: RuntimeWarning: invalid value encountered in true_divide\n",
      "  msw = sswn / float(dfwn)\n",
      "/Users/kbrewitt/opt/anaconda3/lib/python3.9/site-packages/sklearn/feature_selection/_univariate_selection.py:109: RuntimeWarning: invalid value encountered in true_divide\n",
      "  msw = sswn / float(dfwn)\n",
      "/Users/kbrewitt/opt/anaconda3/lib/python3.9/site-packages/sklearn/feature_selection/_univariate_selection.py:109: RuntimeWarning: invalid value encountered in true_divide\n",
      "  msw = sswn / float(dfwn)\n",
      "/Users/kbrewitt/opt/anaconda3/lib/python3.9/site-packages/sklearn/feature_selection/_univariate_selection.py:109: RuntimeWarning: invalid value encountered in true_divide\n",
      "  msw = sswn / float(dfwn)\n",
      "/Users/kbrewitt/opt/anaconda3/lib/python3.9/site-packages/sklearn/feature_selection/_univariate_selection.py:109: RuntimeWarning: invalid value encountered in true_divide\n",
      "  msw = sswn / float(dfwn)\n",
      "/Users/kbrewitt/opt/anaconda3/lib/python3.9/site-packages/sklearn/feature_selection/_univariate_selection.py:109: RuntimeWarning: invalid value encountered in true_divide\n",
      "  msw = sswn / float(dfwn)\n",
      "/Users/kbrewitt/opt/anaconda3/lib/python3.9/site-packages/sklearn/feature_selection/_univariate_selection.py:109: RuntimeWarning: invalid value encountered in true_divide\n",
      "  msw = sswn / float(dfwn)\n",
      "/Users/kbrewitt/opt/anaconda3/lib/python3.9/site-packages/sklearn/feature_selection/_univariate_selection.py:109: RuntimeWarning: invalid value encountered in true_divide\n",
      "  msw = sswn / float(dfwn)\n",
      "/Users/kbrewitt/opt/anaconda3/lib/python3.9/site-packages/sklearn/feature_selection/_univariate_selection.py:109: RuntimeWarning: invalid value encountered in true_divide\n",
      "  msw = sswn / float(dfwn)\n",
      "/Users/kbrewitt/opt/anaconda3/lib/python3.9/site-packages/sklearn/feature_selection/_univariate_selection.py:109: RuntimeWarning: invalid value encountered in true_divide\n",
      "  msw = sswn / float(dfwn)\n",
      "/Users/kbrewitt/opt/anaconda3/lib/python3.9/site-packages/sklearn/feature_selection/_univariate_selection.py:109: RuntimeWarning: invalid value encountered in true_divide\n",
      "  msw = sswn / float(dfwn)\n",
      "/Users/kbrewitt/opt/anaconda3/lib/python3.9/site-packages/sklearn/feature_selection/_univariate_selection.py:109: RuntimeWarning: invalid value encountered in true_divide\n",
      "  msw = sswn / float(dfwn)\n",
      "/Users/kbrewitt/opt/anaconda3/lib/python3.9/site-packages/sklearn/feature_selection/_univariate_selection.py:109: RuntimeWarning: invalid value encountered in true_divide\n",
      "  msw = sswn / float(dfwn)\n",
      "/Users/kbrewitt/opt/anaconda3/lib/python3.9/site-packages/sklearn/feature_selection/_univariate_selection.py:109: RuntimeWarning: invalid value encountered in true_divide\n",
      "  msw = sswn / float(dfwn)\n",
      "/Users/kbrewitt/opt/anaconda3/lib/python3.9/site-packages/sklearn/feature_selection/_univariate_selection.py:109: RuntimeWarning: invalid value encountered in true_divide\n",
      "  msw = sswn / float(dfwn)\n",
      "/Users/kbrewitt/opt/anaconda3/lib/python3.9/site-packages/sklearn/feature_selection/_univariate_selection.py:109: RuntimeWarning: invalid value encountered in true_divide\n",
      "  msw = sswn / float(dfwn)\n",
      "/Users/kbrewitt/opt/anaconda3/lib/python3.9/site-packages/sklearn/feature_selection/_univariate_selection.py:109: RuntimeWarning: invalid value encountered in true_divide\n",
      "  msw = sswn / float(dfwn)\n",
      "/Users/kbrewitt/opt/anaconda3/lib/python3.9/site-packages/sklearn/feature_selection/_univariate_selection.py:109: RuntimeWarning: invalid value encountered in true_divide\n",
      "  msw = sswn / float(dfwn)\n",
      "/Users/kbrewitt/opt/anaconda3/lib/python3.9/site-packages/sklearn/feature_selection/_univariate_selection.py:109: RuntimeWarning: invalid value encountered in true_divide\n",
      "  msw = sswn / float(dfwn)\n",
      "/Users/kbrewitt/opt/anaconda3/lib/python3.9/site-packages/sklearn/feature_selection/_univariate_selection.py:109: RuntimeWarning: invalid value encountered in true_divide\n",
      "  msw = sswn / float(dfwn)\n",
      "/Users/kbrewitt/opt/anaconda3/lib/python3.9/site-packages/sklearn/feature_selection/_univariate_selection.py:109: RuntimeWarning: invalid value encountered in true_divide\n",
      "  msw = sswn / float(dfwn)\n",
      "/Users/kbrewitt/opt/anaconda3/lib/python3.9/site-packages/sklearn/feature_selection/_univariate_selection.py:109: RuntimeWarning: invalid value encountered in true_divide\n",
      "  msw = sswn / float(dfwn)\n",
      "/Users/kbrewitt/opt/anaconda3/lib/python3.9/site-packages/sklearn/feature_selection/_univariate_selection.py:109: RuntimeWarning: invalid value encountered in true_divide\n",
      "  msw = sswn / float(dfwn)\n",
      "/Users/kbrewitt/opt/anaconda3/lib/python3.9/site-packages/sklearn/feature_selection/_univariate_selection.py:109: RuntimeWarning: invalid value encountered in true_divide\n",
      "  msw = sswn / float(dfwn)\n",
      "/Users/kbrewitt/opt/anaconda3/lib/python3.9/site-packages/sklearn/feature_selection/_univariate_selection.py:109: RuntimeWarning: invalid value encountered in true_divide\n",
      "  msw = sswn / float(dfwn)\n",
      "/Users/kbrewitt/opt/anaconda3/lib/python3.9/site-packages/sklearn/feature_selection/_univariate_selection.py:109: RuntimeWarning: invalid value encountered in true_divide\n",
      "  msw = sswn / float(dfwn)\n",
      "/Users/kbrewitt/opt/anaconda3/lib/python3.9/site-packages/sklearn/feature_selection/_univariate_selection.py:109: RuntimeWarning: invalid value encountered in true_divide\n",
      "  msw = sswn / float(dfwn)\n",
      "/Users/kbrewitt/opt/anaconda3/lib/python3.9/site-packages/sklearn/feature_selection/_univariate_selection.py:109: RuntimeWarning: invalid value encountered in true_divide\n",
      "  msw = sswn / float(dfwn)\n",
      "/Users/kbrewitt/opt/anaconda3/lib/python3.9/site-packages/sklearn/feature_selection/_univariate_selection.py:109: RuntimeWarning: invalid value encountered in true_divide\n",
      "  msw = sswn / float(dfwn)\n",
      "/Users/kbrewitt/opt/anaconda3/lib/python3.9/site-packages/sklearn/feature_selection/_univariate_selection.py:109: RuntimeWarning: invalid value encountered in true_divide\n",
      "  msw = sswn / float(dfwn)\n",
      "/Users/kbrewitt/opt/anaconda3/lib/python3.9/site-packages/sklearn/feature_selection/_univariate_selection.py:109: RuntimeWarning: invalid value encountered in true_divide\n",
      "  msw = sswn / float(dfwn)\n",
      "/Users/kbrewitt/opt/anaconda3/lib/python3.9/site-packages/sklearn/feature_selection/_univariate_selection.py:109: RuntimeWarning: invalid value encountered in true_divide\n",
      "  msw = sswn / float(dfwn)\n",
      "/Users/kbrewitt/opt/anaconda3/lib/python3.9/site-packages/sklearn/feature_selection/_univariate_selection.py:109: RuntimeWarning: invalid value encountered in true_divide\n",
      "  msw = sswn / float(dfwn)\n",
      "/Users/kbrewitt/opt/anaconda3/lib/python3.9/site-packages/sklearn/feature_selection/_univariate_selection.py:109: RuntimeWarning: invalid value encountered in true_divide\n",
      "  msw = sswn / float(dfwn)\n",
      "/Users/kbrewitt/opt/anaconda3/lib/python3.9/site-packages/sklearn/feature_selection/_univariate_selection.py:109: RuntimeWarning: invalid value encountered in true_divide\n",
      "  msw = sswn / float(dfwn)\n",
      "/Users/kbrewitt/opt/anaconda3/lib/python3.9/site-packages/sklearn/feature_selection/_univariate_selection.py:109: RuntimeWarning: invalid value encountered in true_divide\n",
      "  msw = sswn / float(dfwn)\n",
      "/Users/kbrewitt/opt/anaconda3/lib/python3.9/site-packages/sklearn/feature_selection/_univariate_selection.py:109: RuntimeWarning: invalid value encountered in true_divide\n",
      "  msw = sswn / float(dfwn)\n",
      "/Users/kbrewitt/opt/anaconda3/lib/python3.9/site-packages/sklearn/feature_selection/_univariate_selection.py:109: RuntimeWarning: invalid value encountered in true_divide\n",
      "  msw = sswn / float(dfwn)\n",
      "/Users/kbrewitt/opt/anaconda3/lib/python3.9/site-packages/sklearn/feature_selection/_univariate_selection.py:109: RuntimeWarning: invalid value encountered in true_divide\n",
      "  msw = sswn / float(dfwn)\n",
      "/Users/kbrewitt/opt/anaconda3/lib/python3.9/site-packages/sklearn/feature_selection/_univariate_selection.py:109: RuntimeWarning: invalid value encountered in true_divide\n",
      "  msw = sswn / float(dfwn)\n",
      "/Users/kbrewitt/opt/anaconda3/lib/python3.9/site-packages/sklearn/feature_selection/_univariate_selection.py:109: RuntimeWarning: invalid value encountered in true_divide\n",
      "  msw = sswn / float(dfwn)\n",
      "/Users/kbrewitt/opt/anaconda3/lib/python3.9/site-packages/sklearn/feature_selection/_univariate_selection.py:109: RuntimeWarning: invalid value encountered in true_divide\n",
      "  msw = sswn / float(dfwn)\n",
      "/Users/kbrewitt/opt/anaconda3/lib/python3.9/site-packages/sklearn/feature_selection/_univariate_selection.py:109: RuntimeWarning: invalid value encountered in true_divide\n",
      "  msw = sswn / float(dfwn)\n",
      "/Users/kbrewitt/opt/anaconda3/lib/python3.9/site-packages/sklearn/feature_selection/_univariate_selection.py:109: RuntimeWarning: invalid value encountered in true_divide\n",
      "  msw = sswn / float(dfwn)\n",
      "/Users/kbrewitt/opt/anaconda3/lib/python3.9/site-packages/sklearn/feature_selection/_univariate_selection.py:109: RuntimeWarning: invalid value encountered in true_divide\n",
      "  msw = sswn / float(dfwn)\n",
      "/Users/kbrewitt/opt/anaconda3/lib/python3.9/site-packages/sklearn/feature_selection/_univariate_selection.py:109: RuntimeWarning: invalid value encountered in true_divide\n",
      "  msw = sswn / float(dfwn)\n",
      "/Users/kbrewitt/opt/anaconda3/lib/python3.9/site-packages/sklearn/feature_selection/_univariate_selection.py:109: RuntimeWarning: invalid value encountered in true_divide\n",
      "  msw = sswn / float(dfwn)\n",
      "/Users/kbrewitt/opt/anaconda3/lib/python3.9/site-packages/sklearn/feature_selection/_univariate_selection.py:109: RuntimeWarning: invalid value encountered in true_divide\n",
      "  msw = sswn / float(dfwn)\n",
      "/Users/kbrewitt/opt/anaconda3/lib/python3.9/site-packages/sklearn/feature_selection/_univariate_selection.py:109: RuntimeWarning: invalid value encountered in true_divide\n",
      "  msw = sswn / float(dfwn)\n",
      "/Users/kbrewitt/opt/anaconda3/lib/python3.9/site-packages/sklearn/feature_selection/_univariate_selection.py:109: RuntimeWarning: invalid value encountered in true_divide\n",
      "  msw = sswn / float(dfwn)\n",
      "/Users/kbrewitt/opt/anaconda3/lib/python3.9/site-packages/sklearn/feature_selection/_univariate_selection.py:109: RuntimeWarning: invalid value encountered in true_divide\n",
      "  msw = sswn / float(dfwn)\n",
      "/Users/kbrewitt/opt/anaconda3/lib/python3.9/site-packages/sklearn/feature_selection/_univariate_selection.py:109: RuntimeWarning: invalid value encountered in true_divide\n",
      "  msw = sswn / float(dfwn)\n",
      "/Users/kbrewitt/opt/anaconda3/lib/python3.9/site-packages/sklearn/feature_selection/_univariate_selection.py:109: RuntimeWarning: invalid value encountered in true_divide\n",
      "  msw = sswn / float(dfwn)\n",
      "/Users/kbrewitt/opt/anaconda3/lib/python3.9/site-packages/sklearn/feature_selection/_univariate_selection.py:109: RuntimeWarning: invalid value encountered in true_divide\n",
      "  msw = sswn / float(dfwn)\n",
      "/Users/kbrewitt/opt/anaconda3/lib/python3.9/site-packages/sklearn/feature_selection/_univariate_selection.py:109: RuntimeWarning: invalid value encountered in true_divide\n",
      "  msw = sswn / float(dfwn)\n",
      "/Users/kbrewitt/opt/anaconda3/lib/python3.9/site-packages/sklearn/feature_selection/_univariate_selection.py:109: RuntimeWarning: invalid value encountered in true_divide\n",
      "  msw = sswn / float(dfwn)\n",
      "/Users/kbrewitt/opt/anaconda3/lib/python3.9/site-packages/sklearn/feature_selection/_univariate_selection.py:109: RuntimeWarning: invalid value encountered in true_divide\n",
      "  msw = sswn / float(dfwn)\n",
      "/Users/kbrewitt/opt/anaconda3/lib/python3.9/site-packages/sklearn/feature_selection/_univariate_selection.py:109: RuntimeWarning: invalid value encountered in true_divide\n",
      "  msw = sswn / float(dfwn)\n",
      "/Users/kbrewitt/opt/anaconda3/lib/python3.9/site-packages/sklearn/feature_selection/_univariate_selection.py:109: RuntimeWarning: invalid value encountered in true_divide\n",
      "  msw = sswn / float(dfwn)\n",
      "/Users/kbrewitt/opt/anaconda3/lib/python3.9/site-packages/sklearn/feature_selection/_univariate_selection.py:109: RuntimeWarning: invalid value encountered in true_divide\n",
      "  msw = sswn / float(dfwn)\n",
      "/Users/kbrewitt/opt/anaconda3/lib/python3.9/site-packages/sklearn/feature_selection/_univariate_selection.py:109: RuntimeWarning: invalid value encountered in true_divide\n",
      "  msw = sswn / float(dfwn)\n",
      "/Users/kbrewitt/opt/anaconda3/lib/python3.9/site-packages/sklearn/feature_selection/_univariate_selection.py:109: RuntimeWarning: invalid value encountered in true_divide\n",
      "  msw = sswn / float(dfwn)\n",
      "/Users/kbrewitt/opt/anaconda3/lib/python3.9/site-packages/sklearn/feature_selection/_univariate_selection.py:109: RuntimeWarning: invalid value encountered in true_divide\n",
      "  msw = sswn / float(dfwn)\n",
      "/Users/kbrewitt/opt/anaconda3/lib/python3.9/site-packages/sklearn/feature_selection/_univariate_selection.py:109: RuntimeWarning: invalid value encountered in true_divide\n",
      "  msw = sswn / float(dfwn)\n",
      "/Users/kbrewitt/opt/anaconda3/lib/python3.9/site-packages/sklearn/feature_selection/_univariate_selection.py:109: RuntimeWarning: invalid value encountered in true_divide\n",
      "  msw = sswn / float(dfwn)\n",
      "/Users/kbrewitt/opt/anaconda3/lib/python3.9/site-packages/sklearn/feature_selection/_univariate_selection.py:109: RuntimeWarning: invalid value encountered in true_divide\n",
      "  msw = sswn / float(dfwn)\n",
      "/Users/kbrewitt/opt/anaconda3/lib/python3.9/site-packages/sklearn/feature_selection/_univariate_selection.py:109: RuntimeWarning: invalid value encountered in true_divide\n",
      "  msw = sswn / float(dfwn)\n",
      "/Users/kbrewitt/opt/anaconda3/lib/python3.9/site-packages/sklearn/feature_selection/_univariate_selection.py:109: RuntimeWarning: invalid value encountered in true_divide\n",
      "  msw = sswn / float(dfwn)\n",
      "/Users/kbrewitt/opt/anaconda3/lib/python3.9/site-packages/sklearn/feature_selection/_univariate_selection.py:109: RuntimeWarning: invalid value encountered in true_divide\n",
      "  msw = sswn / float(dfwn)\n",
      "/Users/kbrewitt/opt/anaconda3/lib/python3.9/site-packages/sklearn/feature_selection/_univariate_selection.py:109: RuntimeWarning: invalid value encountered in true_divide\n",
      "  msw = sswn / float(dfwn)\n",
      "/Users/kbrewitt/opt/anaconda3/lib/python3.9/site-packages/sklearn/feature_selection/_univariate_selection.py:109: RuntimeWarning: invalid value encountered in true_divide\n",
      "  msw = sswn / float(dfwn)\n",
      "/Users/kbrewitt/opt/anaconda3/lib/python3.9/site-packages/sklearn/feature_selection/_univariate_selection.py:109: RuntimeWarning: invalid value encountered in true_divide\n",
      "  msw = sswn / float(dfwn)\n",
      "/Users/kbrewitt/opt/anaconda3/lib/python3.9/site-packages/sklearn/feature_selection/_univariate_selection.py:109: RuntimeWarning: invalid value encountered in true_divide\n",
      "  msw = sswn / float(dfwn)\n",
      "/Users/kbrewitt/opt/anaconda3/lib/python3.9/site-packages/sklearn/feature_selection/_univariate_selection.py:109: RuntimeWarning: invalid value encountered in true_divide\n",
      "  msw = sswn / float(dfwn)\n",
      "/Users/kbrewitt/opt/anaconda3/lib/python3.9/site-packages/sklearn/feature_selection/_univariate_selection.py:109: RuntimeWarning: invalid value encountered in true_divide\n",
      "  msw = sswn / float(dfwn)\n",
      "/Users/kbrewitt/opt/anaconda3/lib/python3.9/site-packages/sklearn/feature_selection/_univariate_selection.py:109: RuntimeWarning: invalid value encountered in true_divide\n",
      "  msw = sswn / float(dfwn)\n",
      "/Users/kbrewitt/opt/anaconda3/lib/python3.9/site-packages/sklearn/feature_selection/_univariate_selection.py:109: RuntimeWarning: invalid value encountered in true_divide\n",
      "  msw = sswn / float(dfwn)\n",
      "/Users/kbrewitt/opt/anaconda3/lib/python3.9/site-packages/sklearn/feature_selection/_univariate_selection.py:109: RuntimeWarning: invalid value encountered in true_divide\n",
      "  msw = sswn / float(dfwn)\n",
      "/Users/kbrewitt/opt/anaconda3/lib/python3.9/site-packages/sklearn/feature_selection/_univariate_selection.py:109: RuntimeWarning: invalid value encountered in true_divide\n",
      "  msw = sswn / float(dfwn)\n",
      "/Users/kbrewitt/opt/anaconda3/lib/python3.9/site-packages/sklearn/feature_selection/_univariate_selection.py:109: RuntimeWarning: invalid value encountered in true_divide\n",
      "  msw = sswn / float(dfwn)\n",
      "/Users/kbrewitt/opt/anaconda3/lib/python3.9/site-packages/sklearn/feature_selection/_univariate_selection.py:109: RuntimeWarning: invalid value encountered in true_divide\n",
      "  msw = sswn / float(dfwn)\n",
      "/Users/kbrewitt/opt/anaconda3/lib/python3.9/site-packages/sklearn/feature_selection/_univariate_selection.py:109: RuntimeWarning: invalid value encountered in true_divide\n",
      "  msw = sswn / float(dfwn)\n",
      "/Users/kbrewitt/opt/anaconda3/lib/python3.9/site-packages/sklearn/feature_selection/_univariate_selection.py:109: RuntimeWarning: invalid value encountered in true_divide\n",
      "  msw = sswn / float(dfwn)\n",
      "/Users/kbrewitt/opt/anaconda3/lib/python3.9/site-packages/sklearn/feature_selection/_univariate_selection.py:109: RuntimeWarning: invalid value encountered in true_divide\n",
      "  msw = sswn / float(dfwn)\n",
      "/Users/kbrewitt/opt/anaconda3/lib/python3.9/site-packages/sklearn/feature_selection/_univariate_selection.py:109: RuntimeWarning: invalid value encountered in true_divide\n",
      "  msw = sswn / float(dfwn)\n",
      "/Users/kbrewitt/opt/anaconda3/lib/python3.9/site-packages/sklearn/feature_selection/_univariate_selection.py:109: RuntimeWarning: invalid value encountered in true_divide\n",
      "  msw = sswn / float(dfwn)\n",
      "/Users/kbrewitt/opt/anaconda3/lib/python3.9/site-packages/sklearn/feature_selection/_univariate_selection.py:109: RuntimeWarning: invalid value encountered in true_divide\n",
      "  msw = sswn / float(dfwn)\n",
      "/Users/kbrewitt/opt/anaconda3/lib/python3.9/site-packages/sklearn/feature_selection/_univariate_selection.py:109: RuntimeWarning: invalid value encountered in true_divide\n",
      "  msw = sswn / float(dfwn)\n",
      "/Users/kbrewitt/opt/anaconda3/lib/python3.9/site-packages/sklearn/feature_selection/_univariate_selection.py:109: RuntimeWarning: invalid value encountered in true_divide\n",
      "  msw = sswn / float(dfwn)\n",
      "/Users/kbrewitt/opt/anaconda3/lib/python3.9/site-packages/sklearn/feature_selection/_univariate_selection.py:109: RuntimeWarning: invalid value encountered in true_divide\n",
      "  msw = sswn / float(dfwn)\n",
      "/Users/kbrewitt/opt/anaconda3/lib/python3.9/site-packages/sklearn/feature_selection/_univariate_selection.py:109: RuntimeWarning: invalid value encountered in true_divide\n",
      "  msw = sswn / float(dfwn)\n",
      "/Users/kbrewitt/opt/anaconda3/lib/python3.9/site-packages/sklearn/feature_selection/_univariate_selection.py:109: RuntimeWarning: invalid value encountered in true_divide\n",
      "  msw = sswn / float(dfwn)\n",
      "/Users/kbrewitt/opt/anaconda3/lib/python3.9/site-packages/sklearn/feature_selection/_univariate_selection.py:109: RuntimeWarning: invalid value encountered in true_divide\n",
      "  msw = sswn / float(dfwn)\n",
      "/Users/kbrewitt/opt/anaconda3/lib/python3.9/site-packages/sklearn/feature_selection/_univariate_selection.py:109: RuntimeWarning: invalid value encountered in true_divide\n",
      "  msw = sswn / float(dfwn)\n",
      "/Users/kbrewitt/opt/anaconda3/lib/python3.9/site-packages/sklearn/feature_selection/_univariate_selection.py:109: RuntimeWarning: invalid value encountered in true_divide\n",
      "  msw = sswn / float(dfwn)\n",
      "/Users/kbrewitt/opt/anaconda3/lib/python3.9/site-packages/sklearn/feature_selection/_univariate_selection.py:109: RuntimeWarning: invalid value encountered in true_divide\n",
      "  msw = sswn / float(dfwn)\n",
      "/Users/kbrewitt/opt/anaconda3/lib/python3.9/site-packages/sklearn/feature_selection/_univariate_selection.py:109: RuntimeWarning: invalid value encountered in true_divide\n",
      "  msw = sswn / float(dfwn)\n",
      "/Users/kbrewitt/opt/anaconda3/lib/python3.9/site-packages/sklearn/feature_selection/_univariate_selection.py:109: RuntimeWarning: invalid value encountered in true_divide\n",
      "  msw = sswn / float(dfwn)\n",
      "/Users/kbrewitt/opt/anaconda3/lib/python3.9/site-packages/sklearn/feature_selection/_univariate_selection.py:109: RuntimeWarning: invalid value encountered in true_divide\n",
      "  msw = sswn / float(dfwn)\n",
      "/Users/kbrewitt/opt/anaconda3/lib/python3.9/site-packages/sklearn/feature_selection/_univariate_selection.py:109: RuntimeWarning: invalid value encountered in true_divide\n",
      "  msw = sswn / float(dfwn)\n",
      "/Users/kbrewitt/opt/anaconda3/lib/python3.9/site-packages/sklearn/feature_selection/_univariate_selection.py:109: RuntimeWarning: invalid value encountered in true_divide\n",
      "  msw = sswn / float(dfwn)\n",
      "/Users/kbrewitt/opt/anaconda3/lib/python3.9/site-packages/sklearn/feature_selection/_univariate_selection.py:109: RuntimeWarning: invalid value encountered in true_divide\n",
      "  msw = sswn / float(dfwn)\n",
      "/Users/kbrewitt/opt/anaconda3/lib/python3.9/site-packages/sklearn/feature_selection/_univariate_selection.py:109: RuntimeWarning: invalid value encountered in true_divide\n",
      "  msw = sswn / float(dfwn)\n",
      "/Users/kbrewitt/opt/anaconda3/lib/python3.9/site-packages/sklearn/feature_selection/_univariate_selection.py:109: RuntimeWarning: invalid value encountered in true_divide\n",
      "  msw = sswn / float(dfwn)\n",
      "/Users/kbrewitt/opt/anaconda3/lib/python3.9/site-packages/sklearn/feature_selection/_univariate_selection.py:109: RuntimeWarning: invalid value encountered in true_divide\n",
      "  msw = sswn / float(dfwn)\n",
      "/Users/kbrewitt/opt/anaconda3/lib/python3.9/site-packages/sklearn/feature_selection/_univariate_selection.py:109: RuntimeWarning: invalid value encountered in true_divide\n",
      "  msw = sswn / float(dfwn)\n",
      "/Users/kbrewitt/opt/anaconda3/lib/python3.9/site-packages/sklearn/feature_selection/_univariate_selection.py:109: RuntimeWarning: invalid value encountered in true_divide\n",
      "  msw = sswn / float(dfwn)\n",
      "/Users/kbrewitt/opt/anaconda3/lib/python3.9/site-packages/sklearn/feature_selection/_univariate_selection.py:109: RuntimeWarning: invalid value encountered in true_divide\n",
      "  msw = sswn / float(dfwn)\n",
      "/Users/kbrewitt/opt/anaconda3/lib/python3.9/site-packages/sklearn/feature_selection/_univariate_selection.py:109: RuntimeWarning: invalid value encountered in true_divide\n",
      "  msw = sswn / float(dfwn)\n",
      "/Users/kbrewitt/opt/anaconda3/lib/python3.9/site-packages/sklearn/feature_selection/_univariate_selection.py:109: RuntimeWarning: invalid value encountered in true_divide\n",
      "  msw = sswn / float(dfwn)\n",
      "/Users/kbrewitt/opt/anaconda3/lib/python3.9/site-packages/sklearn/feature_selection/_univariate_selection.py:109: RuntimeWarning: invalid value encountered in true_divide\n",
      "  msw = sswn / float(dfwn)\n",
      "/Users/kbrewitt/opt/anaconda3/lib/python3.9/site-packages/sklearn/feature_selection/_univariate_selection.py:109: RuntimeWarning: invalid value encountered in true_divide\n",
      "  msw = sswn / float(dfwn)\n",
      "/Users/kbrewitt/opt/anaconda3/lib/python3.9/site-packages/sklearn/feature_selection/_univariate_selection.py:109: RuntimeWarning: invalid value encountered in true_divide\n",
      "  msw = sswn / float(dfwn)\n",
      "/Users/kbrewitt/opt/anaconda3/lib/python3.9/site-packages/sklearn/feature_selection/_univariate_selection.py:109: RuntimeWarning: invalid value encountered in true_divide\n",
      "  msw = sswn / float(dfwn)\n",
      "/Users/kbrewitt/opt/anaconda3/lib/python3.9/site-packages/sklearn/feature_selection/_univariate_selection.py:109: RuntimeWarning: invalid value encountered in true_divide\n",
      "  msw = sswn / float(dfwn)\n",
      "/Users/kbrewitt/opt/anaconda3/lib/python3.9/site-packages/sklearn/feature_selection/_univariate_selection.py:109: RuntimeWarning: invalid value encountered in true_divide\n",
      "  msw = sswn / float(dfwn)\n",
      "/Users/kbrewitt/opt/anaconda3/lib/python3.9/site-packages/sklearn/feature_selection/_univariate_selection.py:109: RuntimeWarning: invalid value encountered in true_divide\n",
      "  msw = sswn / float(dfwn)\n",
      "/Users/kbrewitt/opt/anaconda3/lib/python3.9/site-packages/sklearn/feature_selection/_univariate_selection.py:109: RuntimeWarning: invalid value encountered in true_divide\n",
      "  msw = sswn / float(dfwn)\n",
      "/Users/kbrewitt/opt/anaconda3/lib/python3.9/site-packages/sklearn/feature_selection/_univariate_selection.py:109: RuntimeWarning: invalid value encountered in true_divide\n",
      "  msw = sswn / float(dfwn)\n",
      "/Users/kbrewitt/opt/anaconda3/lib/python3.9/site-packages/sklearn/feature_selection/_univariate_selection.py:109: RuntimeWarning: invalid value encountered in true_divide\n",
      "  msw = sswn / float(dfwn)\n",
      "/Users/kbrewitt/opt/anaconda3/lib/python3.9/site-packages/sklearn/feature_selection/_univariate_selection.py:109: RuntimeWarning: invalid value encountered in true_divide\n",
      "  msw = sswn / float(dfwn)\n",
      "/Users/kbrewitt/opt/anaconda3/lib/python3.9/site-packages/sklearn/feature_selection/_univariate_selection.py:109: RuntimeWarning: invalid value encountered in true_divide\n",
      "  msw = sswn / float(dfwn)\n",
      "/Users/kbrewitt/opt/anaconda3/lib/python3.9/site-packages/sklearn/feature_selection/_univariate_selection.py:109: RuntimeWarning: invalid value encountered in true_divide\n",
      "  msw = sswn / float(dfwn)\n",
      "/Users/kbrewitt/opt/anaconda3/lib/python3.9/site-packages/sklearn/feature_selection/_univariate_selection.py:109: RuntimeWarning: invalid value encountered in true_divide\n",
      "  msw = sswn / float(dfwn)\n",
      "/Users/kbrewitt/opt/anaconda3/lib/python3.9/site-packages/sklearn/feature_selection/_univariate_selection.py:109: RuntimeWarning: invalid value encountered in true_divide\n",
      "  msw = sswn / float(dfwn)\n",
      "/Users/kbrewitt/opt/anaconda3/lib/python3.9/site-packages/sklearn/feature_selection/_univariate_selection.py:109: RuntimeWarning: invalid value encountered in true_divide\n",
      "  msw = sswn / float(dfwn)\n",
      "/Users/kbrewitt/opt/anaconda3/lib/python3.9/site-packages/sklearn/feature_selection/_univariate_selection.py:109: RuntimeWarning: invalid value encountered in true_divide\n",
      "  msw = sswn / float(dfwn)\n",
      "/Users/kbrewitt/opt/anaconda3/lib/python3.9/site-packages/sklearn/feature_selection/_univariate_selection.py:109: RuntimeWarning: invalid value encountered in true_divide\n",
      "  msw = sswn / float(dfwn)\n",
      "/Users/kbrewitt/opt/anaconda3/lib/python3.9/site-packages/sklearn/feature_selection/_univariate_selection.py:109: RuntimeWarning: invalid value encountered in true_divide\n",
      "  msw = sswn / float(dfwn)\n",
      "/Users/kbrewitt/opt/anaconda3/lib/python3.9/site-packages/sklearn/feature_selection/_univariate_selection.py:109: RuntimeWarning: invalid value encountered in true_divide\n",
      "  msw = sswn / float(dfwn)\n",
      "/Users/kbrewitt/opt/anaconda3/lib/python3.9/site-packages/sklearn/feature_selection/_univariate_selection.py:109: RuntimeWarning: invalid value encountered in true_divide\n",
      "  msw = sswn / float(dfwn)\n",
      "/Users/kbrewitt/opt/anaconda3/lib/python3.9/site-packages/sklearn/feature_selection/_univariate_selection.py:109: RuntimeWarning: invalid value encountered in true_divide\n",
      "  msw = sswn / float(dfwn)\n",
      "/Users/kbrewitt/opt/anaconda3/lib/python3.9/site-packages/sklearn/feature_selection/_univariate_selection.py:109: RuntimeWarning: invalid value encountered in true_divide\n",
      "  msw = sswn / float(dfwn)\n",
      "/Users/kbrewitt/opt/anaconda3/lib/python3.9/site-packages/sklearn/feature_selection/_univariate_selection.py:109: RuntimeWarning: invalid value encountered in true_divide\n",
      "  msw = sswn / float(dfwn)\n",
      "/Users/kbrewitt/opt/anaconda3/lib/python3.9/site-packages/sklearn/feature_selection/_univariate_selection.py:109: RuntimeWarning: invalid value encountered in true_divide\n",
      "  msw = sswn / float(dfwn)\n",
      "/Users/kbrewitt/opt/anaconda3/lib/python3.9/site-packages/sklearn/feature_selection/_univariate_selection.py:109: RuntimeWarning: invalid value encountered in true_divide\n",
      "  msw = sswn / float(dfwn)\n",
      "/Users/kbrewitt/opt/anaconda3/lib/python3.9/site-packages/sklearn/feature_selection/_univariate_selection.py:109: RuntimeWarning: invalid value encountered in true_divide\n",
      "  msw = sswn / float(dfwn)\n",
      "/Users/kbrewitt/opt/anaconda3/lib/python3.9/site-packages/sklearn/feature_selection/_univariate_selection.py:109: RuntimeWarning: invalid value encountered in true_divide\n",
      "  msw = sswn / float(dfwn)\n",
      "/Users/kbrewitt/opt/anaconda3/lib/python3.9/site-packages/sklearn/feature_selection/_univariate_selection.py:109: RuntimeWarning: invalid value encountered in true_divide\n",
      "  msw = sswn / float(dfwn)\n",
      "/Users/kbrewitt/opt/anaconda3/lib/python3.9/site-packages/sklearn/feature_selection/_univariate_selection.py:109: RuntimeWarning: invalid value encountered in true_divide\n",
      "  msw = sswn / float(dfwn)\n",
      "/Users/kbrewitt/opt/anaconda3/lib/python3.9/site-packages/sklearn/feature_selection/_univariate_selection.py:109: RuntimeWarning: invalid value encountered in true_divide\n",
      "  msw = sswn / float(dfwn)\n",
      "/Users/kbrewitt/opt/anaconda3/lib/python3.9/site-packages/sklearn/feature_selection/_univariate_selection.py:109: RuntimeWarning: invalid value encountered in true_divide\n",
      "  msw = sswn / float(dfwn)\n",
      "/Users/kbrewitt/opt/anaconda3/lib/python3.9/site-packages/sklearn/feature_selection/_univariate_selection.py:109: RuntimeWarning: invalid value encountered in true_divide\n",
      "  msw = sswn / float(dfwn)\n",
      "/Users/kbrewitt/opt/anaconda3/lib/python3.9/site-packages/sklearn/feature_selection/_univariate_selection.py:109: RuntimeWarning: invalid value encountered in true_divide\n",
      "  msw = sswn / float(dfwn)\n",
      "/Users/kbrewitt/opt/anaconda3/lib/python3.9/site-packages/sklearn/feature_selection/_univariate_selection.py:109: RuntimeWarning: invalid value encountered in true_divide\n",
      "  msw = sswn / float(dfwn)\n",
      "/Users/kbrewitt/opt/anaconda3/lib/python3.9/site-packages/sklearn/feature_selection/_univariate_selection.py:109: RuntimeWarning: invalid value encountered in true_divide\n",
      "  msw = sswn / float(dfwn)\n",
      "/Users/kbrewitt/opt/anaconda3/lib/python3.9/site-packages/sklearn/feature_selection/_univariate_selection.py:109: RuntimeWarning: invalid value encountered in true_divide\n",
      "  msw = sswn / float(dfwn)\n",
      "/Users/kbrewitt/opt/anaconda3/lib/python3.9/site-packages/sklearn/feature_selection/_univariate_selection.py:109: RuntimeWarning: invalid value encountered in true_divide\n",
      "  msw = sswn / float(dfwn)\n",
      "/Users/kbrewitt/opt/anaconda3/lib/python3.9/site-packages/sklearn/feature_selection/_univariate_selection.py:109: RuntimeWarning: invalid value encountered in true_divide\n",
      "  msw = sswn / float(dfwn)\n",
      "/Users/kbrewitt/opt/anaconda3/lib/python3.9/site-packages/sklearn/feature_selection/_univariate_selection.py:109: RuntimeWarning: invalid value encountered in true_divide\n",
      "  msw = sswn / float(dfwn)\n",
      "/Users/kbrewitt/opt/anaconda3/lib/python3.9/site-packages/sklearn/feature_selection/_univariate_selection.py:109: RuntimeWarning: invalid value encountered in true_divide\n",
      "  msw = sswn / float(dfwn)\n",
      "/Users/kbrewitt/opt/anaconda3/lib/python3.9/site-packages/sklearn/feature_selection/_univariate_selection.py:109: RuntimeWarning: invalid value encountered in true_divide\n",
      "  msw = sswn / float(dfwn)\n",
      "/Users/kbrewitt/opt/anaconda3/lib/python3.9/site-packages/sklearn/feature_selection/_univariate_selection.py:109: RuntimeWarning: invalid value encountered in true_divide\n",
      "  msw = sswn / float(dfwn)\n",
      "/Users/kbrewitt/opt/anaconda3/lib/python3.9/site-packages/sklearn/feature_selection/_univariate_selection.py:109: RuntimeWarning: invalid value encountered in true_divide\n",
      "  msw = sswn / float(dfwn)\n",
      "/Users/kbrewitt/opt/anaconda3/lib/python3.9/site-packages/sklearn/feature_selection/_univariate_selection.py:109: RuntimeWarning: invalid value encountered in true_divide\n",
      "  msw = sswn / float(dfwn)\n",
      "/Users/kbrewitt/opt/anaconda3/lib/python3.9/site-packages/sklearn/feature_selection/_univariate_selection.py:109: RuntimeWarning: invalid value encountered in true_divide\n",
      "  msw = sswn / float(dfwn)\n",
      "/Users/kbrewitt/opt/anaconda3/lib/python3.9/site-packages/sklearn/feature_selection/_univariate_selection.py:109: RuntimeWarning: invalid value encountered in true_divide\n",
      "  msw = sswn / float(dfwn)\n",
      "/Users/kbrewitt/opt/anaconda3/lib/python3.9/site-packages/sklearn/feature_selection/_univariate_selection.py:109: RuntimeWarning: invalid value encountered in true_divide\n",
      "  msw = sswn / float(dfwn)\n",
      "/Users/kbrewitt/opt/anaconda3/lib/python3.9/site-packages/sklearn/feature_selection/_univariate_selection.py:109: RuntimeWarning: invalid value encountered in true_divide\n",
      "  msw = sswn / float(dfwn)\n",
      "/Users/kbrewitt/opt/anaconda3/lib/python3.9/site-packages/sklearn/feature_selection/_univariate_selection.py:109: RuntimeWarning: invalid value encountered in true_divide\n",
      "  msw = sswn / float(dfwn)\n",
      "/Users/kbrewitt/opt/anaconda3/lib/python3.9/site-packages/sklearn/feature_selection/_univariate_selection.py:109: RuntimeWarning: invalid value encountered in true_divide\n",
      "  msw = sswn / float(dfwn)\n",
      "/Users/kbrewitt/opt/anaconda3/lib/python3.9/site-packages/sklearn/feature_selection/_univariate_selection.py:109: RuntimeWarning: invalid value encountered in true_divide\n",
      "  msw = sswn / float(dfwn)\n",
      "/Users/kbrewitt/opt/anaconda3/lib/python3.9/site-packages/sklearn/feature_selection/_univariate_selection.py:109: RuntimeWarning: invalid value encountered in true_divide\n",
      "  msw = sswn / float(dfwn)\n",
      "/Users/kbrewitt/opt/anaconda3/lib/python3.9/site-packages/sklearn/feature_selection/_univariate_selection.py:109: RuntimeWarning: invalid value encountered in true_divide\n",
      "  msw = sswn / float(dfwn)\n",
      "/Users/kbrewitt/opt/anaconda3/lib/python3.9/site-packages/sklearn/feature_selection/_univariate_selection.py:109: RuntimeWarning: invalid value encountered in true_divide\n",
      "  msw = sswn / float(dfwn)\n",
      "/Users/kbrewitt/opt/anaconda3/lib/python3.9/site-packages/sklearn/feature_selection/_univariate_selection.py:109: RuntimeWarning: invalid value encountered in true_divide\n",
      "  msw = sswn / float(dfwn)\n",
      "/Users/kbrewitt/opt/anaconda3/lib/python3.9/site-packages/sklearn/feature_selection/_univariate_selection.py:109: RuntimeWarning: invalid value encountered in true_divide\n",
      "  msw = sswn / float(dfwn)\n",
      "/Users/kbrewitt/opt/anaconda3/lib/python3.9/site-packages/sklearn/feature_selection/_univariate_selection.py:109: RuntimeWarning: invalid value encountered in true_divide\n",
      "  msw = sswn / float(dfwn)\n",
      "/Users/kbrewitt/opt/anaconda3/lib/python3.9/site-packages/sklearn/feature_selection/_univariate_selection.py:109: RuntimeWarning: invalid value encountered in true_divide\n",
      "  msw = sswn / float(dfwn)\n",
      "/Users/kbrewitt/opt/anaconda3/lib/python3.9/site-packages/sklearn/feature_selection/_univariate_selection.py:109: RuntimeWarning: invalid value encountered in true_divide\n",
      "  msw = sswn / float(dfwn)\n",
      "/Users/kbrewitt/opt/anaconda3/lib/python3.9/site-packages/sklearn/feature_selection/_univariate_selection.py:109: RuntimeWarning: invalid value encountered in true_divide\n",
      "  msw = sswn / float(dfwn)\n",
      "/Users/kbrewitt/opt/anaconda3/lib/python3.9/site-packages/sklearn/feature_selection/_univariate_selection.py:109: RuntimeWarning: invalid value encountered in true_divide\n",
      "  msw = sswn / float(dfwn)\n",
      "/Users/kbrewitt/opt/anaconda3/lib/python3.9/site-packages/sklearn/feature_selection/_univariate_selection.py:109: RuntimeWarning: invalid value encountered in true_divide\n",
      "  msw = sswn / float(dfwn)\n",
      "/Users/kbrewitt/opt/anaconda3/lib/python3.9/site-packages/sklearn/feature_selection/_univariate_selection.py:109: RuntimeWarning: invalid value encountered in true_divide\n",
      "  msw = sswn / float(dfwn)\n",
      "/Users/kbrewitt/opt/anaconda3/lib/python3.9/site-packages/sklearn/feature_selection/_univariate_selection.py:109: RuntimeWarning: invalid value encountered in true_divide\n",
      "  msw = sswn / float(dfwn)\n",
      "/Users/kbrewitt/opt/anaconda3/lib/python3.9/site-packages/sklearn/feature_selection/_univariate_selection.py:109: RuntimeWarning: invalid value encountered in true_divide\n",
      "  msw = sswn / float(dfwn)\n"
     ]
    },
    {
     "data": {
      "text/plain": [
       "GridSearchCV(cv=5,\n",
       "             estimator=Pipeline(steps=[('selectkbest', SelectKBest()),\n",
       "                                       ('linearregression',\n",
       "                                        LinearRegression())]),\n",
       "             n_jobs=-1,\n",
       "             param_grid={'selectkbest__k': [1, 2, 3, 4, 5, 6, 7, 8, 9, 10, 11,\n",
       "                                            12, 13, 14, 15, 16, 17, 18, 19, 20,\n",
       "                                            21, 22, 23, 24, 25, 26, 27, 28, 29,\n",
       "                                            30, ...]})"
      ]
     },
     "execution_count": 235,
     "metadata": {},
     "output_type": "execute_result"
    }
   ],
   "source": [
    "# Fit the regression model to training data\n",
    "lr_grid_cv.fit(X_tr, y_tr)"
   ]
  },
  {
   "cell_type": "code",
   "execution_count": 236,
   "id": "1f37419d-0072-42da-a324-cbc83f734b34",
   "metadata": {},
   "outputs": [
    {
     "data": {
      "text/plain": [
       "{'selectkbest__k': 48}"
      ]
     },
     "execution_count": 236,
     "metadata": {},
     "output_type": "execute_result"
    }
   ],
   "source": [
    "lr_grid_cv.best_params_"
   ]
  },
  {
   "cell_type": "code",
   "execution_count": 238,
   "id": "fc588a20-7c16-4033-8301-17af9ca9654f",
   "metadata": {},
   "outputs": [],
   "source": [
    "# Calculate mean r-squared score for plotting\n",
    "score_mean = lr_grid_cv.cv_results_['mean_test_score']\n",
    "score_std = lr_grid_cv.cv_results_['std_test_score']\n",
    "cv_k = [k for k in lr_grid_cv.cv_results_['param_selectkbest__k']]"
   ]
  },
  {
   "cell_type": "code",
   "execution_count": 239,
   "id": "d9625755-261d-48bb-b704-4167c905fd5e",
   "metadata": {},
   "outputs": [
    {
     "data": {
      "image/png": "[encoded data removed]",
      "text/plain": [
       "<Figure size 1000x500 with 1 Axes>"
      ]
     },
     "metadata": {},
     "output_type": "display_data"
    }
   ],
   "source": [
    "#Assign the value of k from the above dict of `best_params_` and assign it to `best_k`\n",
    "best_k = lr_grid_cv.best_params_['selectkbest__k']\n",
    "\n",
    "# Plot the values of CV scores across values of k\n",
    "plt.subplots(figsize=(10, 5))\n",
    "plt.errorbar(cv_k, score_mean, yerr=score_std)\n",
    "plt.axvline(x=best_k, c='r', ls='--', alpha=.5)\n",
    "plt.xlabel('k')\n",
    "plt.ylabel('CV score (r-squared)')\n",
    "plt.title('Pipeline mean CV score (error bars +/- 1sd)');"
   ]
  },
  {
   "cell_type": "markdown",
   "id": "6ac37c9a-842e-424c-bbd6-560a99a38037",
   "metadata": {},
   "source": [
    "### Use cross-validation to fit model using best value of k"
   ]
  },
  {
   "cell_type": "code",
   "execution_count": 131,
   "id": "4544f5c8-9e40-4540-8071-c7383f510cc1",
   "metadata": {},
   "outputs": [],
   "source": [
    "import sklearn.metrics\n",
    "#sklearn.metrics.SCORERS.keys()"
   ]
  },
  {
   "cell_type": "code",
   "execution_count": 240,
   "id": "c69e9ecf-600b-45e5-ba85-468939ed616b",
   "metadata": {},
   "outputs": [
    {
     "name": "stderr",
     "output_type": "stream",
     "text": [
      "/Users/kbrewitt/opt/anaconda3/lib/python3.9/site-packages/sklearn/feature_selection/_univariate_selection.py:109: RuntimeWarning: invalid value encountered in true_divide\n",
      "  msw = sswn / float(dfwn)\n",
      "/Users/kbrewitt/opt/anaconda3/lib/python3.9/site-packages/sklearn/feature_selection/_univariate_selection.py:109: RuntimeWarning: invalid value encountered in true_divide\n",
      "  msw = sswn / float(dfwn)\n",
      "/Users/kbrewitt/opt/anaconda3/lib/python3.9/site-packages/sklearn/feature_selection/_univariate_selection.py:109: RuntimeWarning: invalid value encountered in true_divide\n",
      "  msw = sswn / float(dfwn)\n",
      "/Users/kbrewitt/opt/anaconda3/lib/python3.9/site-packages/sklearn/feature_selection/_univariate_selection.py:109: RuntimeWarning: invalid value encountered in true_divide\n",
      "  msw = sswn / float(dfwn)\n",
      "/Users/kbrewitt/opt/anaconda3/lib/python3.9/site-packages/sklearn/feature_selection/_univariate_selection.py:109: RuntimeWarning: invalid value encountered in true_divide\n",
      "  msw = sswn / float(dfwn)\n"
     ]
    }
   ],
   "source": [
    "# Fit model to training data using best k and cross-validation\n",
    "lr_r2 = cross_validate(lr_grid_cv.best_estimator_, X_tr, y_tr, \n",
    "                            scoring='r2', cv=5, n_jobs=-1)"
   ]
  },
  {
   "cell_type": "code",
   "execution_count": 241,
   "id": "9aa590ae-2aba-4021-b5a5-cb3d44d738c0",
   "metadata": {},
   "outputs": [
    {
     "name": "stdout",
     "output_type": "stream",
     "text": [
      "Mean r-squared for training data:  0.6492181232781948\n",
      "Std of r-squared for training data:  0.01016209351778907\n"
     ]
    }
   ],
   "source": [
    "# Assess r-squared values for model using cross-validated training data\n",
    "lr_r2_mean = np.mean(lr_r2['test_score'])\n",
    "lr_r2_std = np.std(lr_r2['test_score'])\n",
    "\n",
    "print('Mean r-squared for training data: ', lr_r2_mean)\n",
    "print('Std of r-squared for training data: ', lr_r2_std)"
   ]
  },
  {
   "cell_type": "code",
   "execution_count": 242,
   "id": "3f4c687d-425c-4fb0-959a-d43d34b074a6",
   "metadata": {},
   "outputs": [
    {
     "name": "stdout",
     "output_type": "stream",
     "text": [
      "Mean r-squared for test data:\n"
     ]
    },
    {
     "data": {
      "text/plain": [
       "0.6398651667204471"
      ]
     },
     "execution_count": 242,
     "metadata": {},
     "output_type": "execute_result"
    }
   ],
   "source": [
    "# Get r-squared score for test data\n",
    "print('Mean r-squared for test data:')\n",
    "r2_score(y_te, lr_grid_cv.best_estimator_.predict(X_te))"
   ]
  },
  {
   "cell_type": "markdown",
   "id": "994122d2-f922-45ab-a41a-ecd56885613c",
   "metadata": {},
   "source": [
    "This is not a great r-squared score for either the train or test data. "
   ]
  },
  {
   "cell_type": "markdown",
   "id": "f6cc575a-8737-4428-a532-a20f33eeae62",
   "metadata": {},
   "source": [
    "## Model 2: Random Forest Regression Model"
   ]
  },
  {
   "cell_type": "code",
   "execution_count": 195,
   "id": "011be784-22f7-4f66-81a0-7b3a8205362a",
   "metadata": {},
   "outputs": [],
   "source": [
    "# Define the model\n",
    "from sklearn.ensemble import RandomForestRegressor\n",
    "\n",
    "# Create a pipeline -- this leaves room to insert scaling into the pipeline later\n",
    "RFpipe = make_pipeline(\n",
    "    RandomForestRegressor(random_state=43)\n",
    ")"
   ]
  },
  {
   "cell_type": "code",
   "execution_count": 196,
   "id": "048e1a4d-b238-4c61-b568-6cc9be7b1bbe",
   "metadata": {},
   "outputs": [],
   "source": [
    "# Fit model to training data and use cross-validation\n",
    "rf_default_cv_results = cross_validate(RFpipe, X_tr, y_tr, cv=5)"
   ]
  },
  {
   "cell_type": "code",
   "execution_count": 197,
   "id": "c9e0abeb-c765-4e1a-835d-fbd40a5ddb05",
   "metadata": {},
   "outputs": [
    {
     "data": {
      "text/plain": [
       "(0.711091080862237, 0.023932008599288523)"
      ]
     },
     "execution_count": 197,
     "metadata": {},
     "output_type": "execute_result"
    }
   ],
   "source": [
    "# Assess basic linear regression model (default test score for linear regression is r-squared)\n",
    "rf_cv_scores = rf_default_cv_results['test_score']\n",
    "\n",
    "np.mean(rf_cv_scores), np.std(rf_cv_scores)"
   ]
  },
  {
   "cell_type": "markdown",
   "id": "a07d8cd6-27c5-4e80-b84e-c456b368650c",
   "metadata": {},
   "source": [
    "### Hyperparameter tuning using cross-validation and GridSearchCV"
   ]
  },
  {
   "cell_type": "code",
   "execution_count": 208,
   "id": "1a0ebd3d-215a-471b-969f-cf0907680e3e",
   "metadata": {},
   "outputs": [
    {
     "data": {
      "text/plain": [
       "{'randomforestregressor__n_estimators': [100, 400, 700],\n",
       " 'randomforestregressor__max_depth': [5, 10, 15, 20, 50],\n",
       " 'randomforestregressor__max_features': ['auto', 'sqrt']}"
      ]
     },
     "execution_count": 208,
     "metadata": {},
     "output_type": "execute_result"
    }
   ],
   "source": [
    "# Create parameter grid for random forest hyperparameters\n",
    "n_est = [100, 400, 700]\n",
    "max_d = [5, 10, 15, 20, 50]\n",
    "\n",
    "grid_params = {\n",
    "        'randomforestregressor__n_estimators': n_est,\n",
    "        'randomforestregressor__max_depth': max_d,\n",
    "        'randomforestregressor__max_features': ['auto', 'sqrt']\n",
    "}\n",
    "\n",
    "grid_params"
   ]
  },
  {
   "cell_type": "code",
   "execution_count": 203,
   "id": "7b947fb4-9b59-435d-8b4a-448acbb4c7be",
   "metadata": {},
   "outputs": [],
   "source": [
    "#RFpipe.get_params().keys()"
   ]
  },
  {
   "cell_type": "code",
   "execution_count": 209,
   "id": "fbc4dc02-4303-4ca2-8516-4898e719d02d",
   "metadata": {},
   "outputs": [
    {
     "data": {
      "text/plain": [
       "GridSearchCV(cv=5,\n",
       "             estimator=Pipeline(steps=[('randomforestregressor',\n",
       "                                        RandomForestRegressor(random_state=43))]),\n",
       "             n_jobs=-1,\n",
       "             param_grid={'randomforestregressor__max_depth': [5, 10, 15, 20,\n",
       "                                                              50],\n",
       "                         'randomforestregressor__max_features': ['auto',\n",
       "                                                                 'sqrt'],\n",
       "                         'randomforestregressor__n_estimators': [100, 400,\n",
       "                                                                 700]})"
      ]
     },
     "execution_count": 209,
     "metadata": {},
     "output_type": "execute_result"
    }
   ],
   "source": [
    "# Call GridSearchCV with the random forest pipeline passing in the above grid_params\n",
    "rf_grid_cv = GridSearchCV(RFpipe, param_grid=grid_params, cv=5, n_jobs=-1)\n",
    "\n",
    "# Fit to training data\n",
    "rf_grid_cv.fit(X_tr, y_tr)"
   ]
  },
  {
   "cell_type": "code",
   "execution_count": 213,
   "id": "7b406b36-7ad7-4650-bcac-f78e00d531b2",
   "metadata": {},
   "outputs": [
    {
     "data": {
      "text/plain": [
       "{'randomforestregressor__max_depth': 50,\n",
       " 'randomforestregressor__max_features': 'sqrt',\n",
       " 'randomforestregressor__n_estimators': 700}"
      ]
     },
     "execution_count": 213,
     "metadata": {},
     "output_type": "execute_result"
    }
   ],
   "source": [
    "# Print the best params (`best_params_` attribute) from the grid search\n",
    "rf_grid_cv.best_params_"
   ]
  },
  {
   "cell_type": "markdown",
   "id": "815df8f3-bc20-4ccd-a63a-e61fa749d1cc",
   "metadata": {},
   "source": [
    "#### Fit the model with the optimal hyperparameters (from GridSearchCV)"
   ]
  },
  {
   "cell_type": "code",
   "execution_count": 218,
   "id": "73eb50d0-cae7-42c7-9ad9-106589856a7f",
   "metadata": {},
   "outputs": [],
   "source": [
    "# Fit the best model to the training data\n",
    "rf_best_cv_results = cross_validate(rf_grid_cv.best_estimator_, X_tr, y_tr, cv=5)\n",
    "rf_best_scores = rf_best_cv_results['test_score']\n"
   ]
  },
  {
   "cell_type": "code",
   "execution_count": 216,
   "id": "e561edeb-4d39-4b54-a2f0-54b72581cae9",
   "metadata": {},
   "outputs": [
    {
     "name": "stdout",
     "output_type": "stream",
     "text": [
      "Mean r-squared for training data:  0.7156664110981075\n",
      "Std of r-squared for training data:  0.019046209015751773\n"
     ]
    }
   ],
   "source": [
    "print('Mean r-squared for training data: ', np.mean(rf_best_scores))\n",
    "print('Std of r-squared for training data: ', np.std(rf_best_scores))"
   ]
  },
  {
   "cell_type": "code",
   "execution_count": 219,
   "id": "901a928c-2fce-4825-888a-afc9ae85e12a",
   "metadata": {},
   "outputs": [
    {
     "name": "stdout",
     "output_type": "stream",
     "text": [
      "Mean r-squared for test data:\n"
     ]
    },
    {
     "data": {
      "text/plain": [
       "0.7144954332167613"
      ]
     },
     "execution_count": 219,
     "metadata": {},
     "output_type": "execute_result"
    }
   ],
   "source": [
    "# Fit the best model to the test data\n",
    "print('Mean r-squared for test data:', r2_score(y_te, rf_grid_cv.best_estimator_.predict(X_te))\n"
   ]
  },
  {
   "cell_type": "markdown",
   "id": "946ca5b8-c3a8-4421-a3d6-d915323c79bb",
   "metadata": {},
   "source": [
    "### Hyperparameter tuning for random forest model using RandomSearchCV"
   ]
  },
  {
   "cell_type": "code",
   "execution_count": 225,
   "id": "6397ce90-1e37-4ce0-b5bd-3c6f1e59128c",
   "metadata": {},
   "outputs": [
    {
     "data": {
      "text/plain": [
       "{'randomforestregressor__n_estimators': range(100, 1000),\n",
       " 'randomforestregressor__max_depth': range(3, 50)}"
      ]
     },
     "execution_count": 225,
     "metadata": {},
     "output_type": "execute_result"
    }
   ],
   "source": [
    "from sklearn.model_selection import RandomizedSearchCV\n",
    "\n",
    "# Create parameter grid for random forest hyperparameters \n",
    "n_est = range(100, 1000)\n",
    "max_d = range(3, 50)\n",
    "\n",
    "grid_params = {\n",
    "        'randomforestregressor__n_estimators': n_est,\n",
    "        'randomforestregressor__max_depth': max_d,\n",
    "}\n",
    "\n",
    "grid_params"
   ]
  },
  {
   "cell_type": "code",
   "execution_count": 226,
   "id": "852186ab-27cb-43af-86a9-c20b5275c44c",
   "metadata": {},
   "outputs": [
    {
     "data": {
      "text/plain": [
       "RandomizedSearchCV(cv=5,\n",
       "                   estimator=Pipeline(steps=[('randomforestregressor',\n",
       "                                              RandomForestRegressor(random_state=43))]),\n",
       "                   n_jobs=-1,\n",
       "                   param_distributions={'randomforestregressor__max_depth': range(3, 50),\n",
       "                                        'randomforestregressor__n_estimators': range(100, 1000)})"
      ]
     },
     "execution_count": 226,
     "metadata": {},
     "output_type": "execute_result"
    }
   ],
   "source": [
    "# Call RandomizedSearchCV with the random forest pipeline passing in the above grid_params\n",
    "rf_rand_cv = RandomizedSearchCV(RFpipe, param_distributions=grid_params, cv=5, n_jobs=-1)\n",
    "\n",
    "# Fit to training data\n",
    "rf_rand_cv.fit(X_tr, y_tr)"
   ]
  },
  {
   "cell_type": "code",
   "execution_count": 227,
   "id": "ab55a439-c8ea-46e7-bb0d-94390614bfab",
   "metadata": {},
   "outputs": [
    {
     "data": {
      "text/plain": [
       "{'randomforestregressor__n_estimators': 943,\n",
       " 'randomforestregressor__max_depth': 24}"
      ]
     },
     "execution_count": 227,
     "metadata": {},
     "output_type": "execute_result"
    }
   ],
   "source": [
    "# Print the best params (`best_params_` attribute) from the grid search\n",
    "rf_rand_cv.best_params_"
   ]
  },
  {
   "cell_type": "markdown",
   "id": "fdec0efe-f0be-4445-9cce-6a4db2e8fc59",
   "metadata": {},
   "source": [
    "#### Fit the model with the optimal hyperparameters (from RandomizedSearchCV)"
   ]
  },
  {
   "cell_type": "code",
   "execution_count": 228,
   "id": "a254ade1-7be9-4c8c-8238-d4664a832d76",
   "metadata": {},
   "outputs": [],
   "source": [
    "# Fit the best model to the training data\n",
    "rf_rand_best_cv_results = cross_validate(rf_rand_cv.best_estimator_, X_tr, y_tr, cv=5)\n",
    "rf_rand_best_scores = rf_rand_best_cv_results['test_score']\n"
   ]
  },
  {
   "cell_type": "code",
   "execution_count": 229,
   "id": "59b42d6a-03c8-41a9-a802-86634bdf6aca",
   "metadata": {},
   "outputs": [
    {
     "name": "stdout",
     "output_type": "stream",
     "text": [
      "Mean r-squared for training data:  0.7141482329198019\n",
      "Std of r-squared for training data:  0.02202772924018866\n"
     ]
    }
   ],
   "source": [
    "print('Mean r-squared for training data: ', np.mean(rf_rand_best_scores))\n",
    "print('Std of r-squared for training data: ', np.std(rf_rand_best_scores))"
   ]
  },
  {
   "cell_type": "code",
   "execution_count": 232,
   "id": "31c4f653-0f4b-4b56-bd3c-af8307d68bb2",
   "metadata": {},
   "outputs": [
    {
     "name": "stdout",
     "output_type": "stream",
     "text": [
      "Mean r-squared for test data:\n"
     ]
    },
    {
     "data": {
      "text/plain": [
       "0.724441447557346"
      ]
     },
     "execution_count": 232,
     "metadata": {},
     "output_type": "execute_result"
    }
   ],
   "source": [
    "# Fit the best model to the test data\n",
    "print('Mean r-squared for test data:')\n",
    "r2_score(y_te, rf_rand_cv.best_estimator_.predict(X_te))\n"
   ]
  },
  {
   "cell_type": "markdown",
   "id": "2c145baf-d141-455c-adcd-caf170f760bb",
   "metadata": {},
   "source": [
    "# Model 3: Gradient Boosting Regression Model"
   ]
  },
  {
   "cell_type": "code",
   "execution_count": 244,
   "id": "806e57bc-b9d2-4e89-8978-743de5734416",
   "metadata": {},
   "outputs": [
    {
     "name": "stdout",
     "output_type": "stream",
     "text": [
      "GradientBoostingRegressor(max_depth=5, max_features='auto', n_estimators=300)\n",
      "0.7699063006320556\n"
     ]
    }
   ],
   "source": [
    "from sklearn.ensemble import GradientBoostingRegressor\n",
    "\n",
    "GB = GradientBoostingRegressor()\n",
    "gb_param = {\n",
    "        'n_estimators' : [100,300],\n",
    "        'max_depth': [5, 25, 50],\n",
    "        'max_features': ['auto', 'sqrt'] \n",
    "        }\n",
    "\n",
    "GBmodel = GridSearchCV(GB, param_grid = gb_param, cv=5, n_jobs= -1)\n",
    "GBmodel.fit(X_tr,y_tr)\n",
    "print(GBmodel.best_estimator_)\n",
    "print(GBmodel.best_score_)"
   ]
  },
  {
   "cell_type": "markdown",
   "id": "4912a83e-04bb-4ebb-92c1-d4f8bb84b4a0",
   "metadata": {},
   "source": [
    "#### Fit the model with the optimal hyperparameters (from GridSearchCV)"
   ]
  },
  {
   "cell_type": "code",
   "execution_count": 246,
   "id": "99ca89a6-e595-402f-9628-3f8139d01eb0",
   "metadata": {},
   "outputs": [
    {
     "name": "stdout",
     "output_type": "stream",
     "text": [
      "Mean r-squared for training data:  0.7702422541083747\n",
      "Std of r-squared for training data:  0.019874968353136114\n"
     ]
    }
   ],
   "source": [
    "# Fit the best model to the training data\n",
    "GB_cv_results = cross_validate(GBmodel.best_estimator_, X_tr, y_tr, cv=5)\n",
    "GB_best_scores = GB_cv_results['test_score']\n",
    "\n",
    "print('Mean r-squared for training data: ', np.mean(GB_best_scores))\n",
    "print('Std of r-squared for training data: ', np.std(GB_best_scores))"
   ]
  },
  {
   "cell_type": "code",
   "execution_count": 247,
   "id": "297d11db-520e-4edc-8dad-feaf1a93af39",
   "metadata": {},
   "outputs": [
    {
     "name": "stdout",
     "output_type": "stream",
     "text": [
      "Mean r-squared for test data:\n"
     ]
    },
    {
     "data": {
      "text/plain": [
       "0.7886641954125077"
      ]
     },
     "execution_count": 247,
     "metadata": {},
     "output_type": "execute_result"
    }
   ],
   "source": [
    "# Fit the best model to the test data\n",
    "print('Mean r-squared for test data:')\n",
    "r2_score(y_te, GBmodel.best_estimator_.predict(X_te))\n"
   ]
  },
  {
   "cell_type": "markdown",
   "id": "ed0389cf-2d3c-4657-8a01-9ea219ef1189",
   "metadata": {},
   "source": [
    "# Model 4: Support Vector Regressor\n",
    "The goal of SVR is to find a function that approximates the relationship between the input variables and a continuous target variable, while minimizing the prediction error."
   ]
  },
  {
   "cell_type": "code",
   "execution_count": 253,
   "id": "978fb33f-ee61-4e25-b6df-0931f586b4e8",
   "metadata": {},
   "outputs": [],
   "source": [
    "# Import and fit the default model to the training data\n",
    "from sklearn.svm import SVR\n",
    "\n",
    "SVRregressor = SVR(kernel = 'rbf')\n",
    "SVRregressor.fit(X_tr, y_tr)\n",
    "\n",
    "SVR_y_pred = SVRregressor.predict(X_tr)"
   ]
  },
  {
   "cell_type": "code",
   "execution_count": 255,
   "id": "b21714c6-df12-4f55-b730-6f2d1fb401c2",
   "metadata": {},
   "outputs": [
    {
     "name": "stdout",
     "output_type": "stream",
     "text": [
      "Mean r-squared for training data before hyperparameter tuning:\n"
     ]
    },
    {
     "data": {
      "text/plain": [
       "0.7404400271352147"
      ]
     },
     "execution_count": 255,
     "metadata": {},
     "output_type": "execute_result"
    }
   ],
   "source": [
    "print('Mean r-squared for training data before hyperparameter tuning:')\n",
    "r2_score(y_tr, SVR_y_pred)"
   ]
  },
  {
   "cell_type": "markdown",
   "id": "4b794c26-dc14-457d-a736-ee44bb1e23c8",
   "metadata": {},
   "source": [
    "### Hyperparameter tuning for SVR"
   ]
  },
  {
   "cell_type": "code",
   "execution_count": 256,
   "id": "a8f873dc-4f36-4361-852f-e7345b58e4e8",
   "metadata": {},
   "outputs": [
    {
     "data": {
      "text/plain": [
       "dict_keys(['C', 'cache_size', 'coef0', 'degree', 'epsilon', 'gamma', 'kernel', 'max_iter', 'shrinking', 'tol', 'verbose'])"
      ]
     },
     "execution_count": 256,
     "metadata": {},
     "output_type": "execute_result"
    }
   ],
   "source": [
    "SVRregressor.get_params().keys()"
   ]
  },
  {
   "cell_type": "code",
   "execution_count": 272,
   "id": "0484d1b5-8311-47d7-98bb-121e5ca38027",
   "metadata": {},
   "outputs": [],
   "source": [
    "SVR_param = {\n",
    "        'C': range(1,10),\n",
    "        'epsilon': np.linspace(0.1,1)\n",
    "        }\n",
    "\n",
    "#SVR_param"
   ]
  },
  {
   "cell_type": "code",
   "execution_count": 269,
   "id": "19f6e8ef-75dc-43aa-8cff-f35ffed440aa",
   "metadata": {},
   "outputs": [
    {
     "name": "stdout",
     "output_type": "stream",
     "text": [
      "Best SVR with params: {'epsilon': 0.43061224489795924, 'C': 9} and R2 score: 0.739\n"
     ]
    }
   ],
   "source": [
    "# Use RandomizedSearchCV to search for best hyperparameters (kernel=rbf)\n",
    "SVR_rbf = RandomizedSearchCV(SVRregressor, param_distributions = SVR_param, cv=5, n_iter=60, n_jobs= -1)\n",
    "SVR_rbf.fit(X_tr,y_tr)\n",
    "\n",
    "print(f\"Best SVR with params: {SVR_rbf.best_params_} and R2 score: {SVR_rbf.best_score_:.3f}\")"
   ]
  },
  {
   "cell_type": "markdown",
   "id": "0a949f71-6623-4fa9-afd0-3417fd7aac84",
   "metadata": {},
   "source": [
    "#### Compare to SVR using a poly kernel"
   ]
  },
  {
   "cell_type": "code",
   "execution_count": 273,
   "id": "e421200e-4360-4e77-96dd-626fdcfe70e7",
   "metadata": {},
   "outputs": [
    {
     "name": "stdout",
     "output_type": "stream",
     "text": [
      "Best SVR with params: {'epsilon': 0.2469387755102041, 'C': 1} and R2 score: 0.647\n"
     ]
    }
   ],
   "source": [
    "# Use RandomizedSearchCV to search for best hyperparameters (kernel=poly)\n",
    "SVRregressor = SVR(kernel = 'linear')\n",
    "SVR_poly = RandomizedSearchCV(SVRregressor, param_distributions = SVR_param,  n_iter=60, cv=5, n_jobs= -1)\n",
    "SVR_poly.fit(X_tr,y_tr)\n",
    "\n",
    "print(f\"Best SVR with params: {SVR_poly.best_params_} and R2 score: {SVR_poly.best_score_:.3f}\")"
   ]
  },
  {
   "cell_type": "markdown",
   "id": "3afcbd4b-59c2-49b9-8d58-9c041f2e239d",
   "metadata": {},
   "source": [
    "#### Fit the model with the optimal hyperparameters"
   ]
  },
  {
   "cell_type": "code",
   "execution_count": 276,
   "id": "4b00130a-5016-4eeb-9fb5-7cd225b4aaa5",
   "metadata": {},
   "outputs": [
    {
     "name": "stdout",
     "output_type": "stream",
     "text": [
      "Mean r-squared for training data:  0.7385116447828395\n",
      "Std of r-squared for training data:  0.019978382071725066\n"
     ]
    }
   ],
   "source": [
    "# Fit the best model to the training data using the rbf kernel\n",
    "SVR_cv = cross_validate(SVR_rbf.best_estimator_, X_tr, y_tr, cv=5)\n",
    "SVR_cv_score = SVR_cv['test_score']\n",
    "\n",
    "print('Mean r-squared for training data: ', np.mean(SVR_cv_score))\n",
    "print('Std of r-squared for training data: ', np.std(SVR_cv_score))"
   ]
  },
  {
   "cell_type": "code",
   "execution_count": 277,
   "id": "736e11ac-3d19-4cf5-af98-f55b8830854c",
   "metadata": {},
   "outputs": [
    {
     "name": "stdout",
     "output_type": "stream",
     "text": [
      "Mean r-squared for test data:\n"
     ]
    },
    {
     "data": {
      "text/plain": [
       "0.7343758572983305"
      ]
     },
     "execution_count": 277,
     "metadata": {},
     "output_type": "execute_result"
    }
   ],
   "source": [
    "# Fit the best model to the test data\n",
    "print('Mean r-squared for test data:')\n",
    "r2_score(y_te, SVR_rbf.best_estimator_.predict(X_te))\n"
   ]
  },
  {
   "cell_type": "code",
   "execution_count": null,
   "id": "4c91cb32-e485-41ab-b209-eaa0d1017947",
   "metadata": {},
   "outputs": [],
   "source": []
  }
 ],
 "metadata": {
  "kernelspec": {
   "display_name": "Python 3 (ipykernel)",
   "language": "python",
   "name": "python3"
  },
  "language_info": {
   "codemirror_mode": {
    "name": "ipython",
    "version": 3
   },
   "file_extension": ".py",
   "mimetype": "text/x-python",
   "name": "python",
   "nbconvert_exporter": "python",
   "pygments_lexer": "ipython3",
   "version": "3.9.13"
  }
 },
 "nbformat": 4,
 "nbformat_minor": 5
}
