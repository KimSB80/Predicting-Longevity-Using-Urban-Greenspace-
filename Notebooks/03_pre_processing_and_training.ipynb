{
 "cells": [
  {
   "cell_type": "markdown",
   "id": "e669f2b8-792a-420b-a9f5-685c9f791a2a",
   "metadata": {},
   "source": [
    "# Step 3: Pre-processing and Training Data Development"
   ]
  },
  {
   "cell_type": "markdown",
   "id": "8b7dd881-a1c6-438e-b5ac-bfcccb4c06f1",
   "metadata": {},
   "source": [
    "### Load Data and Import Packages"
   ]
  },
  {
   "cell_type": "code",
   "execution_count": 2,
   "id": "811f24f4-3acd-49be-b28f-0b0c3470427c",
   "metadata": {},
   "outputs": [],
   "source": [
    "import os\n",
    "import pandas as pd\n",
    "import numpy as np\n",
    "import matplotlib.pyplot as plt\n",
    "import seaborn as sns\n",
    "from scipy import stats\n",
    "\n",
    "from sklearn.preprocessing import StandardScaler, MinMaxScaler, scale, OneHotEncoder\n",
    "from sklearn.model_selection import train_test_split, cross_validate, GridSearchCV, learning_curve\n"
   ]
  },
  {
   "cell_type": "code",
   "execution_count": 3,
   "id": "4e68d54e-23ab-4f9f-ab79-366aee2c907f",
   "metadata": {},
   "outputs": [],
   "source": [
    "# Import clean data\n",
    "datapath = '/Users/kbrewitt/Github/Predicting Longevity Using Urban Greenspace/clean_data/London_data_cleaned.csv'\n",
    "df = pd.read_csv(datapath, index_col=0)\n"
   ]
  },
  {
   "cell_type": "code",
   "execution_count": 4,
   "id": "3df5dc1b-75db-42e2-b32f-83eeaa202dea",
   "metadata": {},
   "outputs": [
    {
     "name": "stdout",
     "output_type": "stream",
     "text": [
      "<class 'pandas.core.frame.DataFrame'>\n",
      "Int64Index: 3275 entries, 0 to 3274\n",
      "Data columns (total 16 columns):\n",
      " #   Column                       Non-Null Count  Dtype  \n",
      "---  ------                       --------------  -----  \n",
      " 0   New ward code                3275 non-null   object \n",
      " 1   Ward                         3275 non-null   object \n",
      " 2   Borough                      3275 non-null   object \n",
      " 3   Year                         3275 non-null   int64  \n",
      " 4   Life_Expectancy              3275 non-null   float64\n",
      " 5   Childhood_Obesity            3275 non-null   float64\n",
      " 6   Incapacity_Benefit           3275 non-null   float64\n",
      " 7   Unemployment                 3275 non-null   float64\n",
      " 8   Crime                        3275 non-null   float64\n",
      " 9   Deliberate_Fires             3275 non-null   float64\n",
      " 10  GCSE_points                  3275 non-null   float64\n",
      " 11  Unauthorised_School_Absence  3275 non-null   float64\n",
      " 12  Dependent_children           3275 non-null   float64\n",
      " 13  Public_Transport_Access      3275 non-null   float64\n",
      " 14  Greespace_Access             3275 non-null   float64\n",
      " 15  Borough Green Space Surface  3275 non-null   float64\n",
      "dtypes: float64(12), int64(1), object(3)\n",
      "memory usage: 435.0+ KB\n"
     ]
    },
    {
     "data": {
      "text/html": [
       "<div>\n",
       "<style scoped>\n",
       "    .dataframe tbody tr th:only-of-type {\n",
       "        vertical-align: middle;\n",
       "    }\n",
       "\n",
       "    .dataframe tbody tr th {\n",
       "        vertical-align: top;\n",
       "    }\n",
       "\n",
       "    .dataframe thead th {\n",
       "        text-align: right;\n",
       "    }\n",
       "</style>\n",
       "<table border=\"1\" class=\"dataframe\">\n",
       "  <thead>\n",
       "    <tr style=\"text-align: right;\">\n",
       "      <th></th>\n",
       "      <th>New ward code</th>\n",
       "      <th>Ward</th>\n",
       "      <th>Borough</th>\n",
       "      <th>Year</th>\n",
       "      <th>Life_Expectancy</th>\n",
       "      <th>Childhood_Obesity</th>\n",
       "      <th>Incapacity_Benefit</th>\n",
       "      <th>Unemployment</th>\n",
       "      <th>Crime</th>\n",
       "      <th>Deliberate_Fires</th>\n",
       "      <th>GCSE_points</th>\n",
       "      <th>Unauthorised_School_Absence</th>\n",
       "      <th>Dependent_children</th>\n",
       "      <th>Public_Transport_Access</th>\n",
       "      <th>Greespace_Access</th>\n",
       "      <th>Borough Green Space Surface</th>\n",
       "    </tr>\n",
       "  </thead>\n",
       "  <tbody>\n",
       "    <tr>\n",
       "      <th>0</th>\n",
       "      <td>E09000001</td>\n",
       "      <td>City of London</td>\n",
       "      <td>City of London</td>\n",
       "      <td>2009</td>\n",
       "      <td>84.329356</td>\n",
       "      <td>22.220000</td>\n",
       "      <td>3.333333</td>\n",
       "      <td>2.999195</td>\n",
       "      <td>18.389167</td>\n",
       "      <td>0.684932</td>\n",
       "      <td>346.80</td>\n",
       "      <td>0.24</td>\n",
       "      <td>17.14</td>\n",
       "      <td>7.723401</td>\n",
       "      <td>-6.478752</td>\n",
       "      <td>4.8</td>\n",
       "    </tr>\n",
       "    <tr>\n",
       "      <th>1</th>\n",
       "      <td>E05000026</td>\n",
       "      <td>Abbey</td>\n",
       "      <td>Barking and Dagenham</td>\n",
       "      <td>2009</td>\n",
       "      <td>82.076112</td>\n",
       "      <td>21.700880</td>\n",
       "      <td>4.586610</td>\n",
       "      <td>8.325803</td>\n",
       "      <td>180.721564</td>\n",
       "      <td>1.908646</td>\n",
       "      <td>311.29</td>\n",
       "      <td>1.22</td>\n",
       "      <td>37.71</td>\n",
       "      <td>5.987356</td>\n",
       "      <td>-0.889538</td>\n",
       "      <td>33.6</td>\n",
       "    </tr>\n",
       "    <tr>\n",
       "      <th>2</th>\n",
       "      <td>E05000027</td>\n",
       "      <td>Alibon</td>\n",
       "      <td>Barking and Dagenham</td>\n",
       "      <td>2009</td>\n",
       "      <td>77.828392</td>\n",
       "      <td>25.974026</td>\n",
       "      <td>7.033561</td>\n",
       "      <td>9.857754</td>\n",
       "      <td>125.168618</td>\n",
       "      <td>1.099268</td>\n",
       "      <td>302.16</td>\n",
       "      <td>1.53</td>\n",
       "      <td>40.00</td>\n",
       "      <td>3.275530</td>\n",
       "      <td>-1.790968</td>\n",
       "      <td>33.6</td>\n",
       "    </tr>\n",
       "    <tr>\n",
       "      <th>3</th>\n",
       "      <td>E05000028</td>\n",
       "      <td>Becontree</td>\n",
       "      <td>Barking and Dagenham</td>\n",
       "      <td>2009</td>\n",
       "      <td>78.430683</td>\n",
       "      <td>22.448980</td>\n",
       "      <td>6.734643</td>\n",
       "      <td>9.405173</td>\n",
       "      <td>149.022537</td>\n",
       "      <td>0.967892</td>\n",
       "      <td>320.30</td>\n",
       "      <td>1.55</td>\n",
       "      <td>37.59</td>\n",
       "      <td>2.848544</td>\n",
       "      <td>-5.469666</td>\n",
       "      <td>33.6</td>\n",
       "    </tr>\n",
       "    <tr>\n",
       "      <th>4</th>\n",
       "      <td>E05000029</td>\n",
       "      <td>Chadwell Heath</td>\n",
       "      <td>Barking and Dagenham</td>\n",
       "      <td>2009</td>\n",
       "      <td>79.887841</td>\n",
       "      <td>23.795181</td>\n",
       "      <td>6.675432</td>\n",
       "      <td>8.567379</td>\n",
       "      <td>135.434080</td>\n",
       "      <td>1.850122</td>\n",
       "      <td>324.70</td>\n",
       "      <td>1.22</td>\n",
       "      <td>39.66</td>\n",
       "      <td>2.272302</td>\n",
       "      <td>1.977718</td>\n",
       "      <td>33.6</td>\n",
       "    </tr>\n",
       "  </tbody>\n",
       "</table>\n",
       "</div>"
      ],
      "text/plain": [
       "  New ward code            Ward               Borough  Year  Life_Expectancy  \\\n",
       "0     E09000001  City of London        City of London  2009        84.329356   \n",
       "1     E05000026           Abbey  Barking and Dagenham  2009        82.076112   \n",
       "2     E05000027          Alibon  Barking and Dagenham  2009        77.828392   \n",
       "3     E05000028       Becontree  Barking and Dagenham  2009        78.430683   \n",
       "4     E05000029  Chadwell Heath  Barking and Dagenham  2009        79.887841   \n",
       "\n",
       "   Childhood_Obesity  Incapacity_Benefit  Unemployment       Crime  \\\n",
       "0          22.220000            3.333333      2.999195   18.389167   \n",
       "1          21.700880            4.586610      8.325803  180.721564   \n",
       "2          25.974026            7.033561      9.857754  125.168618   \n",
       "3          22.448980            6.734643      9.405173  149.022537   \n",
       "4          23.795181            6.675432      8.567379  135.434080   \n",
       "\n",
       "   Deliberate_Fires  GCSE_points  Unauthorised_School_Absence  \\\n",
       "0          0.684932       346.80                         0.24   \n",
       "1          1.908646       311.29                         1.22   \n",
       "2          1.099268       302.16                         1.53   \n",
       "3          0.967892       320.30                         1.55   \n",
       "4          1.850122       324.70                         1.22   \n",
       "\n",
       "   Dependent_children  Public_Transport_Access  Greespace_Access  \\\n",
       "0               17.14                 7.723401         -6.478752   \n",
       "1               37.71                 5.987356         -0.889538   \n",
       "2               40.00                 3.275530         -1.790968   \n",
       "3               37.59                 2.848544         -5.469666   \n",
       "4               39.66                 2.272302          1.977718   \n",
       "\n",
       "   Borough Green Space Surface  \n",
       "0                          4.8  \n",
       "1                         33.6  \n",
       "2                         33.6  \n",
       "3                         33.6  \n",
       "4                         33.6  "
      ]
     },
     "execution_count": 4,
     "metadata": {},
     "output_type": "execute_result"
    }
   ],
   "source": [
    "# Check imported data\n",
    "df.info()\n",
    "df.head()"
   ]
  },
  {
   "cell_type": "markdown",
   "id": "bf0dbcb7-96da-4e74-b81e-e8c8a70b6881",
   "metadata": {},
   "source": [
    "### 1a. Convert Borough Greenspace into a categorical variable"
   ]
  },
  {
   "cell_type": "code",
   "execution_count": 5,
   "id": "bc501f18-2484-4251-bc61-6217f7efb681",
   "metadata": {},
   "outputs": [
    {
     "data": {
      "image/png": "[encoded data removed]",
      "text/plain": [
       "<Figure size 640x480 with 1 Axes>"
      ]
     },
     "metadata": {},
     "output_type": "display_data"
    }
   ],
   "source": [
    "df.rename(columns={'Borough Green Space Surface': 'Greenspace_Surface_Area'}, inplace=True) \n",
    "sns.histplot(df['Greenspace_Surface_Area'])\n",
    "plt.show();"
   ]
  },
  {
   "cell_type": "code",
   "execution_count": 6,
   "id": "578e65ed-2633-405e-b44a-ac69b0be2c66",
   "metadata": {},
   "outputs": [
    {
     "data": {
      "image/png": "[encoded data removed]",
      "text/plain": [
       "<Figure size 640x480 with 1 Axes>"
      ]
     },
     "metadata": {},
     "output_type": "display_data"
    }
   ],
   "source": [
    "# Examine quantiles\n",
    "sns.boxplot(y='Greenspace_Surface_Area', data=df);"
   ]
  },
  {
   "cell_type": "code",
   "execution_count": 7,
   "id": "78d07973-8d5b-4245-baa4-e943cca7a58d",
   "metadata": {},
   "outputs": [
    {
     "data": {
      "text/html": [
       "<div>\n",
       "<style scoped>\n",
       "    .dataframe tbody tr th:only-of-type {\n",
       "        vertical-align: middle;\n",
       "    }\n",
       "\n",
       "    .dataframe tbody tr th {\n",
       "        vertical-align: top;\n",
       "    }\n",
       "\n",
       "    .dataframe thead th {\n",
       "        text-align: right;\n",
       "    }\n",
       "</style>\n",
       "<table border=\"1\" class=\"dataframe\">\n",
       "  <thead>\n",
       "    <tr style=\"text-align: right;\">\n",
       "      <th></th>\n",
       "      <th>New ward code</th>\n",
       "      <th>Ward</th>\n",
       "      <th>Borough</th>\n",
       "      <th>Year</th>\n",
       "      <th>Life_Expectancy</th>\n",
       "      <th>Childhood_Obesity</th>\n",
       "      <th>Incapacity_Benefit</th>\n",
       "      <th>Unemployment</th>\n",
       "      <th>Crime</th>\n",
       "      <th>Deliberate_Fires</th>\n",
       "      <th>GCSE_points</th>\n",
       "      <th>Unauthorised_School_Absence</th>\n",
       "      <th>Dependent_children</th>\n",
       "      <th>Public_Transport_Access</th>\n",
       "      <th>Greespace_Access</th>\n",
       "      <th>Greenspace_Surface_Area</th>\n",
       "      <th>Total_Greenspace</th>\n",
       "    </tr>\n",
       "  </thead>\n",
       "  <tbody>\n",
       "    <tr>\n",
       "      <th>0</th>\n",
       "      <td>E09000001</td>\n",
       "      <td>City of London</td>\n",
       "      <td>City of London</td>\n",
       "      <td>2009</td>\n",
       "      <td>84.329356</td>\n",
       "      <td>22.220000</td>\n",
       "      <td>3.333333</td>\n",
       "      <td>2.999195</td>\n",
       "      <td>18.389167</td>\n",
       "      <td>0.684932</td>\n",
       "      <td>346.80</td>\n",
       "      <td>0.24</td>\n",
       "      <td>17.14</td>\n",
       "      <td>7.723401</td>\n",
       "      <td>-6.478752</td>\n",
       "      <td>4.8</td>\n",
       "      <td>Low</td>\n",
       "    </tr>\n",
       "    <tr>\n",
       "      <th>1</th>\n",
       "      <td>E05000026</td>\n",
       "      <td>Abbey</td>\n",
       "      <td>Barking and Dagenham</td>\n",
       "      <td>2009</td>\n",
       "      <td>82.076112</td>\n",
       "      <td>21.700880</td>\n",
       "      <td>4.586610</td>\n",
       "      <td>8.325803</td>\n",
       "      <td>180.721564</td>\n",
       "      <td>1.908646</td>\n",
       "      <td>311.29</td>\n",
       "      <td>1.22</td>\n",
       "      <td>37.71</td>\n",
       "      <td>5.987356</td>\n",
       "      <td>-0.889538</td>\n",
       "      <td>33.6</td>\n",
       "      <td>Medium</td>\n",
       "    </tr>\n",
       "    <tr>\n",
       "      <th>2</th>\n",
       "      <td>E05000027</td>\n",
       "      <td>Alibon</td>\n",
       "      <td>Barking and Dagenham</td>\n",
       "      <td>2009</td>\n",
       "      <td>77.828392</td>\n",
       "      <td>25.974026</td>\n",
       "      <td>7.033561</td>\n",
       "      <td>9.857754</td>\n",
       "      <td>125.168618</td>\n",
       "      <td>1.099268</td>\n",
       "      <td>302.16</td>\n",
       "      <td>1.53</td>\n",
       "      <td>40.00</td>\n",
       "      <td>3.275530</td>\n",
       "      <td>-1.790968</td>\n",
       "      <td>33.6</td>\n",
       "      <td>Medium</td>\n",
       "    </tr>\n",
       "    <tr>\n",
       "      <th>3</th>\n",
       "      <td>E05000028</td>\n",
       "      <td>Becontree</td>\n",
       "      <td>Barking and Dagenham</td>\n",
       "      <td>2009</td>\n",
       "      <td>78.430683</td>\n",
       "      <td>22.448980</td>\n",
       "      <td>6.734643</td>\n",
       "      <td>9.405173</td>\n",
       "      <td>149.022537</td>\n",
       "      <td>0.967892</td>\n",
       "      <td>320.30</td>\n",
       "      <td>1.55</td>\n",
       "      <td>37.59</td>\n",
       "      <td>2.848544</td>\n",
       "      <td>-5.469666</td>\n",
       "      <td>33.6</td>\n",
       "      <td>Medium</td>\n",
       "    </tr>\n",
       "    <tr>\n",
       "      <th>4</th>\n",
       "      <td>E05000029</td>\n",
       "      <td>Chadwell Heath</td>\n",
       "      <td>Barking and Dagenham</td>\n",
       "      <td>2009</td>\n",
       "      <td>79.887841</td>\n",
       "      <td>23.795181</td>\n",
       "      <td>6.675432</td>\n",
       "      <td>8.567379</td>\n",
       "      <td>135.434080</td>\n",
       "      <td>1.850122</td>\n",
       "      <td>324.70</td>\n",
       "      <td>1.22</td>\n",
       "      <td>39.66</td>\n",
       "      <td>2.272302</td>\n",
       "      <td>1.977718</td>\n",
       "      <td>33.6</td>\n",
       "      <td>Medium</td>\n",
       "    </tr>\n",
       "  </tbody>\n",
       "</table>\n",
       "</div>"
      ],
      "text/plain": [
       "  New ward code            Ward               Borough  Year  Life_Expectancy  \\\n",
       "0     E09000001  City of London        City of London  2009        84.329356   \n",
       "1     E05000026           Abbey  Barking and Dagenham  2009        82.076112   \n",
       "2     E05000027          Alibon  Barking and Dagenham  2009        77.828392   \n",
       "3     E05000028       Becontree  Barking and Dagenham  2009        78.430683   \n",
       "4     E05000029  Chadwell Heath  Barking and Dagenham  2009        79.887841   \n",
       "\n",
       "   Childhood_Obesity  Incapacity_Benefit  Unemployment       Crime  \\\n",
       "0          22.220000            3.333333      2.999195   18.389167   \n",
       "1          21.700880            4.586610      8.325803  180.721564   \n",
       "2          25.974026            7.033561      9.857754  125.168618   \n",
       "3          22.448980            6.734643      9.405173  149.022537   \n",
       "4          23.795181            6.675432      8.567379  135.434080   \n",
       "\n",
       "   Deliberate_Fires  GCSE_points  Unauthorised_School_Absence  \\\n",
       "0          0.684932       346.80                         0.24   \n",
       "1          1.908646       311.29                         1.22   \n",
       "2          1.099268       302.16                         1.53   \n",
       "3          0.967892       320.30                         1.55   \n",
       "4          1.850122       324.70                         1.22   \n",
       "\n",
       "   Dependent_children  Public_Transport_Access  Greespace_Access  \\\n",
       "0               17.14                 7.723401         -6.478752   \n",
       "1               37.71                 5.987356         -0.889538   \n",
       "2               40.00                 3.275530         -1.790968   \n",
       "3               37.59                 2.848544         -5.469666   \n",
       "4               39.66                 2.272302          1.977718   \n",
       "\n",
       "   Greenspace_Surface_Area Total_Greenspace  \n",
       "0                      4.8              Low  \n",
       "1                     33.6           Medium  \n",
       "2                     33.6           Medium  \n",
       "3                     33.6           Medium  \n",
       "4                     33.6           Medium  "
      ]
     },
     "execution_count": 7,
     "metadata": {},
     "output_type": "execute_result"
    }
   ],
   "source": [
    "#Create new categorical column for greenspace (Low, Medium, High)\n",
    "df['Total_Greenspace'] = pd.cut(df['Greenspace_Surface_Area'], bins=3, labels=['Low', 'Medium', 'High'])\n",
    "df.head()"
   ]
  },
  {
   "cell_type": "code",
   "execution_count": 8,
   "id": "0b820e3a-a135-4379-bd51-4d91e4ca7ae4",
   "metadata": {},
   "outputs": [
    {
     "data": {
      "image/png": "[encoded data removed]",
      "text/plain": [
       "<Figure size 640x480 with 1 Axes>"
      ]
     },
     "metadata": {},
     "output_type": "display_data"
    }
   ],
   "source": [
    "# Examine new categorical column for greenspace\n",
    "sns.boxplot(x='Total_Greenspace', y='Life_Expectancy', data=df);"
   ]
  },
  {
   "cell_type": "code",
   "execution_count": 9,
   "id": "61d47c48-38b4-4dc2-af81-7eb830da328e",
   "metadata": {},
   "outputs": [
    {
     "data": {
      "text/plain": [
       "Medium    1860\n",
       "Low        775\n",
       "High       640\n",
       "Name: Total_Greenspace, dtype: int64"
      ]
     },
     "execution_count": 9,
     "metadata": {},
     "output_type": "execute_result"
    }
   ],
   "source": [
    "# Examine new categorical column for greenspace\n",
    "df['Total_Greenspace'].value_counts()"
   ]
  },
  {
   "cell_type": "markdown",
   "id": "640a3e50-f1c9-4bb5-8b70-e13bf4a320aa",
   "metadata": {},
   "source": [
    "### 1b. Compute new greenspace feature column\n",
    "Use median values for the Low, Median, High categories of total greenspace to create a new numerical measure of greenspace."
   ]
  },
  {
   "cell_type": "code",
   "execution_count": 19,
   "id": "c7b9071e-a85e-4848-a6c3-af0cae43b8c0",
   "metadata": {},
   "outputs": [
    {
     "name": "stdout",
     "output_type": "stream",
     "text": [
      "  Total_Greenspace  Greenspace_Surface_Area\n",
      "0              Low                     19.1\n",
      "1           Medium                     31.7\n",
      "2             High                     49.2\n",
      "<class 'pandas.core.frame.DataFrame'>\n",
      "Int64Index: 3275 entries, 0 to 3274\n",
      "Data columns (total 19 columns):\n",
      " #   Column                       Non-Null Count  Dtype   \n",
      "---  ------                       --------------  -----   \n",
      " 0   New ward code                3275 non-null   object  \n",
      " 1   Ward                         3275 non-null   object  \n",
      " 2   Borough                      3275 non-null   object  \n",
      " 3   Year                         3275 non-null   int64   \n",
      " 4   Life_Expectancy              3275 non-null   float64 \n",
      " 5   Childhood_Obesity            3275 non-null   float64 \n",
      " 6   Incapacity_Benefit           3275 non-null   float64 \n",
      " 7   Unemployment                 3275 non-null   float64 \n",
      " 8   Crime                        3275 non-null   float64 \n",
      " 9   Deliberate_Fires             3275 non-null   float64 \n",
      " 10  GCSE_points                  3275 non-null   float64 \n",
      " 11  Unauthorised_School_Absence  3275 non-null   float64 \n",
      " 12  Dependent_children           3275 non-null   float64 \n",
      " 13  Public_Transport_Access      3275 non-null   float64 \n",
      " 14  Greespace_Access             3275 non-null   float64 \n",
      " 15  Greenspace_Surface_Area      3275 non-null   float64 \n",
      " 16  Total_Greenspace             3275 non-null   category\n",
      " 17  Binned_Median_Greenspace     3275 non-null   float64 \n",
      " 18  Ranked_Greenspace            3275 non-null   float64 \n",
      "dtypes: category(1), float64(14), int64(1), object(3)\n",
      "memory usage: 489.5+ KB\n"
     ]
    }
   ],
   "source": [
    "# Calculate median value for 'Borough Green Space Surface' for each grouping (Low/Med/High) of Total_Greenspace\n",
    "# This will give me a numerical column for greenspace based on binned category median values\n",
    "\n",
    "median_vals = df.groupby('Total_Greenspace', as_index=False)['Greenspace_Surface_Area'].median()\n",
    "print(median_vals)\n",
    "\n",
    "df['Binned_Median_Greenspace'] = df['Total_Greenspace'].map({'Low': median_vals.iloc[0][1], 'Medium': median_vals.iloc[1][1], 'High': median_vals.iloc[2][1]}).values.astype(float)\n",
    "\n",
    "# Create another column with a simple numerical ranking for greenspace\n",
    "df['Ranked_Greenspace'] = df['Total_Greenspace'].map({'Low': 0, 'Medium': 1, 'High': 2}).values.astype(float)\n",
    "\n",
    "#print(df.Binned_Median_Greenspace.value_counts())\n",
    "#print(df.Ranked_Greenspace.value_counts())\n",
    "\n",
    "df.info()"
   ]
  },
  {
   "cell_type": "markdown",
   "id": "6b5375ec-7861-44db-aea2-226b98e3062b",
   "metadata": {},
   "source": [
    "## 1c. Remove columns unnecessary for model\n",
    "Since I a not looking at the change in time as a variable, I will remove the Year variable. <br>\n",
    "The Ward variables are also redundant with Borough -- I will keep Borough only (to be used as a categorical variable) since that is the level of detail with which the data was collected. "
   ]
  },
  {
   "cell_type": "code",
   "execution_count": 11,
   "id": "8820761e-243a-468b-af8f-1bea3a271385",
   "metadata": {},
   "outputs": [
    {
     "data": {
      "image/png": "[encoded data removed]",
      "text/plain": [
       "<Figure size 640x480 with 1 Axes>"
      ]
     },
     "metadata": {},
     "output_type": "display_data"
    }
   ],
   "source": [
    "# Examine Life Expectancy Across Years\n",
    "sns.boxplot(x='Year', y='Life_Expectancy', data=df);"
   ]
  },
  {
   "cell_type": "code",
   "execution_count": 36,
   "id": "83e2710d-b178-4b39-89e4-7076a8799c17",
   "metadata": {},
   "outputs": [],
   "source": [
    "# Drop unwanted columns\n",
    "# Dropping Ward columns, Year\n",
    "df_longevity = df.drop(columns=['New ward code', 'Ward', 'Year'])"
   ]
  },
  {
   "cell_type": "code",
   "execution_count": 37,
   "id": "714ba03d-47e1-4e14-816c-53008f728385",
   "metadata": {},
   "outputs": [
    {
     "name": "stdout",
     "output_type": "stream",
     "text": [
      "<class 'pandas.core.frame.DataFrame'>\n",
      "Int64Index: 3275 entries, 0 to 3274\n",
      "Data columns (total 15 columns):\n",
      " #   Column                       Non-Null Count  Dtype   \n",
      "---  ------                       --------------  -----   \n",
      " 0   Borough                      3275 non-null   object  \n",
      " 1   Life_Expectancy              3275 non-null   float64 \n",
      " 2   Childhood_Obesity            3275 non-null   float64 \n",
      " 3   Incapacity_Benefit           3275 non-null   float64 \n",
      " 4   Unemployment                 3275 non-null   float64 \n",
      " 5   Crime                        3275 non-null   float64 \n",
      " 6   Deliberate_Fires             3275 non-null   float64 \n",
      " 7   GCSE_points                  3275 non-null   float64 \n",
      " 8   Unauthorised_School_Absence  3275 non-null   float64 \n",
      " 9   Dependent_children           3275 non-null   float64 \n",
      " 10  Public_Transport_Access      3275 non-null   float64 \n",
      " 11  Greespace_Access             3275 non-null   float64 \n",
      " 12  Greenspace_Surface_Area      3275 non-null   float64 \n",
      " 13  Total_Greenspace             3275 non-null   category\n",
      " 14  Binned_Median_Greenspace     3275 non-null   float64 \n",
      "dtypes: category(1), float64(13), object(1)\n",
      "memory usage: 387.1+ KB\n"
     ]
    }
   ],
   "source": [
    "df_longevity.info()"
   ]
  },
  {
   "cell_type": "markdown",
   "id": "3bb5bcde-1c60-47d6-abfd-08985d8a58d9",
   "metadata": {},
   "source": [
    "## 1. Train-test split data"
   ]
  },
  {
   "cell_type": "code",
   "execution_count": 38,
   "id": "dd5c623c-d1cc-4315-84d5-03648c8d54b4",
   "metadata": {},
   "outputs": [
    {
     "data": {
      "text/plain": [
       "(3275, 15)"
      ]
     },
     "execution_count": 38,
     "metadata": {},
     "output_type": "execute_result"
    }
   ],
   "source": [
    "df_longevity.shape"
   ]
  },
  {
   "cell_type": "code",
   "execution_count": 39,
   "id": "f3b09a54-730b-4224-a355-dea12fde2cb4",
   "metadata": {},
   "outputs": [],
   "source": [
    "X_train, X_test, y_train, y_test = train_test_split(df_longevity.drop(columns='Life_Expectancy'), \n",
    "                                                    df_longevity.Life_Expectancy, test_size=0.3, \n",
    "                                                    random_state=43)"
   ]
  },
  {
   "cell_type": "code",
   "execution_count": 40,
   "id": "60474cb3-7841-408c-b9ec-98d43af13e3b",
   "metadata": {},
   "outputs": [
    {
     "data": {
      "text/plain": [
       "((2292, 14), (983, 14))"
      ]
     },
     "execution_count": 40,
     "metadata": {},
     "output_type": "execute_result"
    }
   ],
   "source": [
    "X_train.shape, X_test.shape"
   ]
  },
  {
   "cell_type": "code",
   "execution_count": 41,
   "id": "f417713b-2e30-4fea-9087-a9d94f7a0252",
   "metadata": {},
   "outputs": [
    {
     "data": {
      "text/plain": [
       "((2292,), (983,))"
      ]
     },
     "execution_count": 41,
     "metadata": {},
     "output_type": "execute_result"
    }
   ],
   "source": [
    "y_train.shape, y_test.shape"
   ]
  },
  {
   "cell_type": "code",
   "execution_count": 42,
   "id": "7961a5f0-0270-43da-a159-91fc0d0639fd",
   "metadata": {},
   "outputs": [
    {
     "data": {
      "text/plain": [
       "Borough                          object\n",
       "Childhood_Obesity               float64\n",
       "Incapacity_Benefit              float64\n",
       "Unemployment                    float64\n",
       "Crime                           float64\n",
       "Deliberate_Fires                float64\n",
       "GCSE_points                     float64\n",
       "Unauthorised_School_Absence     float64\n",
       "Dependent_children              float64\n",
       "Public_Transport_Access         float64\n",
       "Greespace_Access                float64\n",
       "Greenspace_Surface_Area         float64\n",
       "Total_Greenspace               category\n",
       "Binned_Median_Greenspace        float64\n",
       "dtype: object"
      ]
     },
     "execution_count": 42,
     "metadata": {},
     "output_type": "execute_result"
    }
   ],
   "source": [
    "#Check the `dtypes` attribute of `X_train` \n",
    "X_train.dtypes"
   ]
  },
  {
   "cell_type": "markdown",
   "id": "b83be364-e283-424f-831a-727f0edd3122",
   "metadata": {},
   "source": [
    "## 2. Scale numberical variables\n",
    "Use StandardScalar to scale numeric variables to a standardized scale. The StandardScaler scales each feature to zero mean and unit variance."
   ]
  },
  {
   "cell_type": "code",
   "execution_count": 43,
   "id": "fffecace-0652-4282-87d9-46b387f14db2",
   "metadata": {},
   "outputs": [],
   "source": [
    "# Drop categorical features\n",
    "cat_cols = ['Borough', 'Total_Greenspace']\n",
    "X_train_num = X_train.drop(columns=cat_cols)\n",
    "X_test_num = X_test.drop(columns=cat_cols)"
   ]
  },
  {
   "cell_type": "code",
   "execution_count": 44,
   "id": "028930df-0a60-4619-8504-b177f4e2b59e",
   "metadata": {},
   "outputs": [],
   "source": [
    "# Fit scaler to training data and transform training and test data\n",
    "scaler = StandardScaler()\n",
    "scaler.fit(X_train_num)\n",
    "X_tr_scaled = scaler.transform(X_train_num)\n",
    "X_te_scaled = scaler.transform(X_test_num)\n"
   ]
  },
  {
   "cell_type": "code",
   "execution_count": 45,
   "id": "e5c68e3b-e113-439a-a6ca-6affeb981739",
   "metadata": {},
   "outputs": [
    {
     "data": {
      "text/plain": [
       "(2292, 12)"
      ]
     },
     "execution_count": 45,
     "metadata": {},
     "output_type": "execute_result"
    }
   ],
   "source": [
    "X_tr_scaled.shape"
   ]
  },
  {
   "cell_type": "code",
   "execution_count": 46,
   "id": "2a3b7e2d-4ccc-409c-8f3d-0c77ca96780f",
   "metadata": {},
   "outputs": [
    {
     "data": {
      "text/plain": [
       "(983, 12)"
      ]
     },
     "execution_count": 46,
     "metadata": {},
     "output_type": "execute_result"
    }
   ],
   "source": [
    "X_te_scaled.shape"
   ]
  },
  {
   "cell_type": "code",
   "execution_count": 49,
   "id": "7eba14a6-6250-490a-b6eb-949de5197abb",
   "metadata": {},
   "outputs": [],
   "source": [
    "# Create new scaled dataframes for X_train and X_test data\n",
    "col_names = X_train.columns.drop(['Borough', 'Total_Greenspace'])\n",
    "\n",
    "# Training data\n",
    "X_tr_num = pd.DataFrame(X_tr_scaled, columns=col_names)\n",
    "\n",
    "# Test data\n",
    "X_te_num = pd.DataFrame(X_te_scaled, columns=col_names)\n"
   ]
  },
  {
   "cell_type": "code",
   "execution_count": 50,
   "id": "a9abdf2f-3e3c-4082-b7c5-309dc1159d63",
   "metadata": {},
   "outputs": [
    {
     "data": {
      "text/plain": [
       "(983, 12)"
      ]
     },
     "execution_count": 50,
     "metadata": {},
     "output_type": "execute_result"
    }
   ],
   "source": [
    "X_te_num.shape"
   ]
  },
  {
   "cell_type": "markdown",
   "id": "44610cad-2b37-40b9-a705-537bbe00d426",
   "metadata": {},
   "source": [
    "## 3. Create dummy variables for categorical data\n",
    "Categorical columns are Borough and Total_Greenspace. <br>\n",
    "I previously tried using pandas get_dummies for dummy encoding the data, but this produced a test dataset with fewer columns (due to the small size of the dataset). Therefore, I'm using sklearn's OneHotEncoder to deal with this problem."
   ]
  },
  {
   "cell_type": "code",
   "execution_count": 51,
   "id": "9dcdfb66-6743-4fe8-b85a-eb215c80cf5b",
   "metadata": {},
   "outputs": [],
   "source": [
    "# Get categorical features\n",
    "cat_cols = ['Borough', 'Total_Greenspace']\n",
    "\n",
    "X_train_cat = X_train[cat_cols]\n",
    "X_test_cat = X_test[cat_cols]"
   ]
  },
  {
   "cell_type": "code",
   "execution_count": 52,
   "id": "586003cb-4558-4be5-a789-f5a75e652b1e",
   "metadata": {},
   "outputs": [
    {
     "data": {
      "text/plain": [
       "(2292, 2)"
      ]
     },
     "execution_count": 52,
     "metadata": {},
     "output_type": "execute_result"
    }
   ],
   "source": [
    "X_train_cat.shape"
   ]
  },
  {
   "cell_type": "code",
   "execution_count": 53,
   "id": "f75bbe70-f8e7-4055-bca7-138d890365f3",
   "metadata": {},
   "outputs": [
    {
     "data": {
      "text/plain": [
       "(983, 2)"
      ]
     },
     "execution_count": 53,
     "metadata": {},
     "output_type": "execute_result"
    }
   ],
   "source": [
    "X_test_cat.shape"
   ]
  },
  {
   "cell_type": "code",
   "execution_count": 55,
   "id": "b5b8d012-1712-45c3-bf45-3e16cb927213",
   "metadata": {},
   "outputs": [],
   "source": [
    "# Convert the Borough and Total Greenspace columns to a one hot encoded Data Frame on both training and test data\n",
    "\n",
    "enc = OneHotEncoder(handle_unknown='ignore')\n",
    "\n",
    "# Fit and transform \n",
    "X_train_transformed = enc.fit_transform(X_train_cat)\n",
    "X_test_transformed = enc.transform(X_test_cat)\n",
    "\n",
    "# Convert back to data frame\n",
    "X_train_ohe = pd.DataFrame(X_train_transformed.toarray(), columns = enc.get_feature_names_out())\n",
    "X_test_ohe = pd.DataFrame(X_test_transformed.toarray(), columns = enc.get_feature_names_out())\n",
    "\n",
    "# Concat with numerical scaled data\n",
    "X_train_complete = pd.concat([X_tr_num, X_train_ohe], axis=1)\n",
    "X_test_complete = pd.concat([X_te_num, X_test_ohe], axis=1)\n",
    "\n"
   ]
  },
  {
   "cell_type": "code",
   "execution_count": 56,
   "id": "46423a93-3d1b-48fe-a130-acb4086b4ab9",
   "metadata": {},
   "outputs": [
    {
     "data": {
      "text/plain": [
       "(2292, 48)"
      ]
     },
     "execution_count": 56,
     "metadata": {},
     "output_type": "execute_result"
    }
   ],
   "source": [
    "X_train_complete.shape"
   ]
  },
  {
   "cell_type": "code",
   "execution_count": 57,
   "id": "c47f8a0e-1c7c-406e-9ef7-361e3c022652",
   "metadata": {},
   "outputs": [
    {
     "data": {
      "text/plain": [
       "(983, 48)"
      ]
     },
     "execution_count": 57,
     "metadata": {},
     "output_type": "execute_result"
    }
   ],
   "source": [
    "X_test_complete.shape"
   ]
  },
  {
   "cell_type": "code",
   "execution_count": 59,
   "id": "ae99552b-7479-4462-97e5-8dc9ee13896f",
   "metadata": {},
   "outputs": [],
   "source": [
    "#X_train_complete.info()"
   ]
  },
  {
   "cell_type": "markdown",
   "id": "176270f1-4d73-433d-83d8-e47a0ec087c4",
   "metadata": {},
   "source": [
    "I now have an all numeric dataset that is ready for modeling. It contains scaled numerical variables, as well as two categorical variables (Borough and Total_Greenspace) that have been one-hot-encoded for modeling. <br>\n",
    "<br>"
   ]
  },
  {
   "cell_type": "code",
   "execution_count": null,
   "id": "5fd1fd83-150e-4d39-ac2f-10a1ee42c675",
   "metadata": {},
   "outputs": [],
   "source": []
  }
 ],
 "metadata": {
  "kernelspec": {
   "display_name": "Python 3 (ipykernel)",
   "language": "python",
   "name": "python3"
  },
  "language_info": {
   "codemirror_mode": {
    "name": "ipython",
    "version": 3
   },
   "file_extension": ".py",
   "mimetype": "text/x-python",
   "name": "python",
   "nbconvert_exporter": "python",
   "pygments_lexer": "ipython3",
   "version": "3.9.13"
  }
 },
 "nbformat": 4,
 "nbformat_minor": 5
}
