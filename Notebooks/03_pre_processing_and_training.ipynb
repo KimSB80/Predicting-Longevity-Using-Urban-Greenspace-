{
 "cells": [
  {
   "cell_type": "markdown",
   "id": "e669f2b8-792a-420b-a9f5-685c9f791a2a",
   "metadata": {},
   "source": [
    "# Step 3: Pre-processing and Training Data Development"
   ]
  },
  {
   "cell_type": "markdown",
   "id": "8b7dd881-a1c6-438e-b5ac-bfcccb4c06f1",
   "metadata": {},
   "source": [
    "### Load Data and Import Packages"
   ]
  },
  {
   "cell_type": "code",
   "execution_count": 49,
   "id": "811f24f4-3acd-49be-b28f-0b0c3470427c",
   "metadata": {},
   "outputs": [],
   "source": [
    "import os\n",
    "import pandas as pd\n",
    "import numpy as np\n",
    "import matplotlib.pyplot as plt\n",
    "import seaborn as sns\n",
    "from scipy import stats\n",
    "\n",
    "from sklearn.preprocessing import scale\n",
    "from sklearn.preprocessing import StandardScaler, MinMaxScaler\n",
    "from sklearn.model_selection import train_test_split, cross_validate, GridSearchCV, learning_curve\n"
   ]
  },
  {
   "cell_type": "code",
   "execution_count": 4,
   "id": "4e68d54e-23ab-4f9f-ab79-366aee2c907f",
   "metadata": {},
   "outputs": [],
   "source": [
    "# Import clean data\n",
    "datapath = '/Users/kbrewitt/Github/Predicting Longevity Using Urban Greenspace/clean_data/London_data_cleaned.csv'\n",
    "df = pd.read_csv(datapath, index_col=0)"
   ]
  },
  {
   "cell_type": "code",
   "execution_count": 7,
   "id": "3df5dc1b-75db-42e2-b32f-83eeaa202dea",
   "metadata": {},
   "outputs": [
    {
     "name": "stdout",
     "output_type": "stream",
     "text": [
      "<class 'pandas.core.frame.DataFrame'>\n",
      "Int64Index: 3275 entries, 0 to 3274\n",
      "Data columns (total 16 columns):\n",
      " #   Column                       Non-Null Count  Dtype  \n",
      "---  ------                       --------------  -----  \n",
      " 0   New ward code                3275 non-null   object \n",
      " 1   Ward                         3275 non-null   object \n",
      " 2   Borough                      3275 non-null   object \n",
      " 3   Year                         3275 non-null   int64  \n",
      " 4   Life_Expectancy              3275 non-null   float64\n",
      " 5   Childhood_Obesity            3275 non-null   float64\n",
      " 6   Incapacity_Benefit           3275 non-null   float64\n",
      " 7   Unemployment                 3275 non-null   float64\n",
      " 8   Crime                        3275 non-null   float64\n",
      " 9   Deliberate_Fires             3275 non-null   float64\n",
      " 10  GCSE_points                  3275 non-null   float64\n",
      " 11  Unauthorised_School_Absence  3275 non-null   float64\n",
      " 12  Dependent_children           3275 non-null   float64\n",
      " 13  Public_Transport_Access      3275 non-null   float64\n",
      " 14  Greespace_Access             3275 non-null   float64\n",
      " 15  Borough Green Space Surface  3275 non-null   float64\n",
      "dtypes: float64(12), int64(1), object(3)\n",
      "memory usage: 435.0+ KB\n"
     ]
    },
    {
     "data": {
      "text/html": [
       "<div>\n",
       "<style scoped>\n",
       "    .dataframe tbody tr th:only-of-type {\n",
       "        vertical-align: middle;\n",
       "    }\n",
       "\n",
       "    .dataframe tbody tr th {\n",
       "        vertical-align: top;\n",
       "    }\n",
       "\n",
       "    .dataframe thead th {\n",
       "        text-align: right;\n",
       "    }\n",
       "</style>\n",
       "<table border=\"1\" class=\"dataframe\">\n",
       "  <thead>\n",
       "    <tr style=\"text-align: right;\">\n",
       "      <th></th>\n",
       "      <th>New ward code</th>\n",
       "      <th>Ward</th>\n",
       "      <th>Borough</th>\n",
       "      <th>Year</th>\n",
       "      <th>Life_Expectancy</th>\n",
       "      <th>Childhood_Obesity</th>\n",
       "      <th>Incapacity_Benefit</th>\n",
       "      <th>Unemployment</th>\n",
       "      <th>Crime</th>\n",
       "      <th>Deliberate_Fires</th>\n",
       "      <th>GCSE_points</th>\n",
       "      <th>Unauthorised_School_Absence</th>\n",
       "      <th>Dependent_children</th>\n",
       "      <th>Public_Transport_Access</th>\n",
       "      <th>Greespace_Access</th>\n",
       "      <th>Borough Green Space Surface</th>\n",
       "    </tr>\n",
       "  </thead>\n",
       "  <tbody>\n",
       "    <tr>\n",
       "      <th>0</th>\n",
       "      <td>E09000001</td>\n",
       "      <td>City of London</td>\n",
       "      <td>City of London</td>\n",
       "      <td>2009</td>\n",
       "      <td>84.329356</td>\n",
       "      <td>22.220000</td>\n",
       "      <td>3.333333</td>\n",
       "      <td>2.999195</td>\n",
       "      <td>18.389167</td>\n",
       "      <td>0.684932</td>\n",
       "      <td>346.80</td>\n",
       "      <td>0.24</td>\n",
       "      <td>17.14</td>\n",
       "      <td>7.723401</td>\n",
       "      <td>-6.478752</td>\n",
       "      <td>4.8</td>\n",
       "    </tr>\n",
       "    <tr>\n",
       "      <th>1</th>\n",
       "      <td>E05000026</td>\n",
       "      <td>Abbey</td>\n",
       "      <td>Barking and Dagenham</td>\n",
       "      <td>2009</td>\n",
       "      <td>82.076112</td>\n",
       "      <td>21.700880</td>\n",
       "      <td>4.586610</td>\n",
       "      <td>8.325803</td>\n",
       "      <td>180.721564</td>\n",
       "      <td>1.908646</td>\n",
       "      <td>311.29</td>\n",
       "      <td>1.22</td>\n",
       "      <td>37.71</td>\n",
       "      <td>5.987356</td>\n",
       "      <td>-0.889538</td>\n",
       "      <td>33.6</td>\n",
       "    </tr>\n",
       "    <tr>\n",
       "      <th>2</th>\n",
       "      <td>E05000027</td>\n",
       "      <td>Alibon</td>\n",
       "      <td>Barking and Dagenham</td>\n",
       "      <td>2009</td>\n",
       "      <td>77.828392</td>\n",
       "      <td>25.974026</td>\n",
       "      <td>7.033561</td>\n",
       "      <td>9.857754</td>\n",
       "      <td>125.168618</td>\n",
       "      <td>1.099268</td>\n",
       "      <td>302.16</td>\n",
       "      <td>1.53</td>\n",
       "      <td>40.00</td>\n",
       "      <td>3.275530</td>\n",
       "      <td>-1.790968</td>\n",
       "      <td>33.6</td>\n",
       "    </tr>\n",
       "    <tr>\n",
       "      <th>3</th>\n",
       "      <td>E05000028</td>\n",
       "      <td>Becontree</td>\n",
       "      <td>Barking and Dagenham</td>\n",
       "      <td>2009</td>\n",
       "      <td>78.430683</td>\n",
       "      <td>22.448980</td>\n",
       "      <td>6.734643</td>\n",
       "      <td>9.405173</td>\n",
       "      <td>149.022537</td>\n",
       "      <td>0.967892</td>\n",
       "      <td>320.30</td>\n",
       "      <td>1.55</td>\n",
       "      <td>37.59</td>\n",
       "      <td>2.848544</td>\n",
       "      <td>-5.469666</td>\n",
       "      <td>33.6</td>\n",
       "    </tr>\n",
       "    <tr>\n",
       "      <th>4</th>\n",
       "      <td>E05000029</td>\n",
       "      <td>Chadwell Heath</td>\n",
       "      <td>Barking and Dagenham</td>\n",
       "      <td>2009</td>\n",
       "      <td>79.887841</td>\n",
       "      <td>23.795181</td>\n",
       "      <td>6.675432</td>\n",
       "      <td>8.567379</td>\n",
       "      <td>135.434080</td>\n",
       "      <td>1.850122</td>\n",
       "      <td>324.70</td>\n",
       "      <td>1.22</td>\n",
       "      <td>39.66</td>\n",
       "      <td>2.272302</td>\n",
       "      <td>1.977718</td>\n",
       "      <td>33.6</td>\n",
       "    </tr>\n",
       "  </tbody>\n",
       "</table>\n",
       "</div>"
      ],
      "text/plain": [
       "  New ward code            Ward               Borough  Year  Life_Expectancy  \\\n",
       "0     E09000001  City of London        City of London  2009        84.329356   \n",
       "1     E05000026           Abbey  Barking and Dagenham  2009        82.076112   \n",
       "2     E05000027          Alibon  Barking and Dagenham  2009        77.828392   \n",
       "3     E05000028       Becontree  Barking and Dagenham  2009        78.430683   \n",
       "4     E05000029  Chadwell Heath  Barking and Dagenham  2009        79.887841   \n",
       "\n",
       "   Childhood_Obesity  Incapacity_Benefit  Unemployment       Crime  \\\n",
       "0          22.220000            3.333333      2.999195   18.389167   \n",
       "1          21.700880            4.586610      8.325803  180.721564   \n",
       "2          25.974026            7.033561      9.857754  125.168618   \n",
       "3          22.448980            6.734643      9.405173  149.022537   \n",
       "4          23.795181            6.675432      8.567379  135.434080   \n",
       "\n",
       "   Deliberate_Fires  GCSE_points  Unauthorised_School_Absence  \\\n",
       "0          0.684932       346.80                         0.24   \n",
       "1          1.908646       311.29                         1.22   \n",
       "2          1.099268       302.16                         1.53   \n",
       "3          0.967892       320.30                         1.55   \n",
       "4          1.850122       324.70                         1.22   \n",
       "\n",
       "   Dependent_children  Public_Transport_Access  Greespace_Access  \\\n",
       "0               17.14                 7.723401         -6.478752   \n",
       "1               37.71                 5.987356         -0.889538   \n",
       "2               40.00                 3.275530         -1.790968   \n",
       "3               37.59                 2.848544         -5.469666   \n",
       "4               39.66                 2.272302          1.977718   \n",
       "\n",
       "   Borough Green Space Surface  \n",
       "0                          4.8  \n",
       "1                         33.6  \n",
       "2                         33.6  \n",
       "3                         33.6  \n",
       "4                         33.6  "
      ]
     },
     "execution_count": 7,
     "metadata": {},
     "output_type": "execute_result"
    }
   ],
   "source": [
    "# Check imported data\n",
    "df.info()\n",
    "df.head()"
   ]
  },
  {
   "cell_type": "markdown",
   "id": "bf0dbcb7-96da-4e74-b81e-e8c8a70b6881",
   "metadata": {},
   "source": [
    "### 1a. Convert Borough Greenspace into a categorical variable"
   ]
  },
  {
   "cell_type": "code",
   "execution_count": 13,
   "id": "bc501f18-2484-4251-bc61-6217f7efb681",
   "metadata": {},
   "outputs": [
    {
     "data": {
      "image/png": "[encoded data removed]",
      "text/plain": [
       "<Figure size 640x480 with 1 Axes>"
      ]
     },
     "metadata": {},
     "output_type": "display_data"
    }
   ],
   "source": [
    "sns.histplot(df['Borough Green Space Surface'])\n",
    "plt.show();"
   ]
  },
  {
   "cell_type": "code",
   "execution_count": 34,
   "id": "578e65ed-2633-405e-b44a-ac69b0be2c66",
   "metadata": {},
   "outputs": [
    {
     "data": {
      "image/png": "[encoded data removed]",
      "text/plain": [
       "<Figure size 640x480 with 1 Axes>"
      ]
     },
     "metadata": {},
     "output_type": "display_data"
    }
   ],
   "source": [
    "# Examine quantiles\n",
    "sns.boxplot(y='Borough Green Space Surface', data=df);"
   ]
  },
  {
   "cell_type": "code",
   "execution_count": 35,
   "id": "78d07973-8d5b-4245-baa4-e943cca7a58d",
   "metadata": {},
   "outputs": [
    {
     "data": {
      "text/html": [
       "<div>\n",
       "<style scoped>\n",
       "    .dataframe tbody tr th:only-of-type {\n",
       "        vertical-align: middle;\n",
       "    }\n",
       "\n",
       "    .dataframe tbody tr th {\n",
       "        vertical-align: top;\n",
       "    }\n",
       "\n",
       "    .dataframe thead th {\n",
       "        text-align: right;\n",
       "    }\n",
       "</style>\n",
       "<table border=\"1\" class=\"dataframe\">\n",
       "  <thead>\n",
       "    <tr style=\"text-align: right;\">\n",
       "      <th></th>\n",
       "      <th>New ward code</th>\n",
       "      <th>Ward</th>\n",
       "      <th>Borough</th>\n",
       "      <th>Year</th>\n",
       "      <th>Life_Expectancy</th>\n",
       "      <th>Childhood_Obesity</th>\n",
       "      <th>Incapacity_Benefit</th>\n",
       "      <th>Unemployment</th>\n",
       "      <th>Crime</th>\n",
       "      <th>Deliberate_Fires</th>\n",
       "      <th>GCSE_points</th>\n",
       "      <th>Unauthorised_School_Absence</th>\n",
       "      <th>Dependent_children</th>\n",
       "      <th>Public_Transport_Access</th>\n",
       "      <th>Greespace_Access</th>\n",
       "      <th>Borough Green Space Surface</th>\n",
       "      <th>Total_Greenspace</th>\n",
       "    </tr>\n",
       "  </thead>\n",
       "  <tbody>\n",
       "    <tr>\n",
       "      <th>0</th>\n",
       "      <td>E09000001</td>\n",
       "      <td>City of London</td>\n",
       "      <td>City of London</td>\n",
       "      <td>2009</td>\n",
       "      <td>84.329356</td>\n",
       "      <td>22.220000</td>\n",
       "      <td>3.333333</td>\n",
       "      <td>2.999195</td>\n",
       "      <td>18.389167</td>\n",
       "      <td>0.684932</td>\n",
       "      <td>346.80</td>\n",
       "      <td>0.24</td>\n",
       "      <td>17.14</td>\n",
       "      <td>7.723401</td>\n",
       "      <td>-6.478752</td>\n",
       "      <td>4.8</td>\n",
       "      <td>Low</td>\n",
       "    </tr>\n",
       "    <tr>\n",
       "      <th>1</th>\n",
       "      <td>E05000026</td>\n",
       "      <td>Abbey</td>\n",
       "      <td>Barking and Dagenham</td>\n",
       "      <td>2009</td>\n",
       "      <td>82.076112</td>\n",
       "      <td>21.700880</td>\n",
       "      <td>4.586610</td>\n",
       "      <td>8.325803</td>\n",
       "      <td>180.721564</td>\n",
       "      <td>1.908646</td>\n",
       "      <td>311.29</td>\n",
       "      <td>1.22</td>\n",
       "      <td>37.71</td>\n",
       "      <td>5.987356</td>\n",
       "      <td>-0.889538</td>\n",
       "      <td>33.6</td>\n",
       "      <td>Medium</td>\n",
       "    </tr>\n",
       "    <tr>\n",
       "      <th>2</th>\n",
       "      <td>E05000027</td>\n",
       "      <td>Alibon</td>\n",
       "      <td>Barking and Dagenham</td>\n",
       "      <td>2009</td>\n",
       "      <td>77.828392</td>\n",
       "      <td>25.974026</td>\n",
       "      <td>7.033561</td>\n",
       "      <td>9.857754</td>\n",
       "      <td>125.168618</td>\n",
       "      <td>1.099268</td>\n",
       "      <td>302.16</td>\n",
       "      <td>1.53</td>\n",
       "      <td>40.00</td>\n",
       "      <td>3.275530</td>\n",
       "      <td>-1.790968</td>\n",
       "      <td>33.6</td>\n",
       "      <td>Medium</td>\n",
       "    </tr>\n",
       "    <tr>\n",
       "      <th>3</th>\n",
       "      <td>E05000028</td>\n",
       "      <td>Becontree</td>\n",
       "      <td>Barking and Dagenham</td>\n",
       "      <td>2009</td>\n",
       "      <td>78.430683</td>\n",
       "      <td>22.448980</td>\n",
       "      <td>6.734643</td>\n",
       "      <td>9.405173</td>\n",
       "      <td>149.022537</td>\n",
       "      <td>0.967892</td>\n",
       "      <td>320.30</td>\n",
       "      <td>1.55</td>\n",
       "      <td>37.59</td>\n",
       "      <td>2.848544</td>\n",
       "      <td>-5.469666</td>\n",
       "      <td>33.6</td>\n",
       "      <td>Medium</td>\n",
       "    </tr>\n",
       "    <tr>\n",
       "      <th>4</th>\n",
       "      <td>E05000029</td>\n",
       "      <td>Chadwell Heath</td>\n",
       "      <td>Barking and Dagenham</td>\n",
       "      <td>2009</td>\n",
       "      <td>79.887841</td>\n",
       "      <td>23.795181</td>\n",
       "      <td>6.675432</td>\n",
       "      <td>8.567379</td>\n",
       "      <td>135.434080</td>\n",
       "      <td>1.850122</td>\n",
       "      <td>324.70</td>\n",
       "      <td>1.22</td>\n",
       "      <td>39.66</td>\n",
       "      <td>2.272302</td>\n",
       "      <td>1.977718</td>\n",
       "      <td>33.6</td>\n",
       "      <td>Medium</td>\n",
       "    </tr>\n",
       "  </tbody>\n",
       "</table>\n",
       "</div>"
      ],
      "text/plain": [
       "  New ward code            Ward               Borough  Year  Life_Expectancy  \\\n",
       "0     E09000001  City of London        City of London  2009        84.329356   \n",
       "1     E05000026           Abbey  Barking and Dagenham  2009        82.076112   \n",
       "2     E05000027          Alibon  Barking and Dagenham  2009        77.828392   \n",
       "3     E05000028       Becontree  Barking and Dagenham  2009        78.430683   \n",
       "4     E05000029  Chadwell Heath  Barking and Dagenham  2009        79.887841   \n",
       "\n",
       "   Childhood_Obesity  Incapacity_Benefit  Unemployment       Crime  \\\n",
       "0          22.220000            3.333333      2.999195   18.389167   \n",
       "1          21.700880            4.586610      8.325803  180.721564   \n",
       "2          25.974026            7.033561      9.857754  125.168618   \n",
       "3          22.448980            6.734643      9.405173  149.022537   \n",
       "4          23.795181            6.675432      8.567379  135.434080   \n",
       "\n",
       "   Deliberate_Fires  GCSE_points  Unauthorised_School_Absence  \\\n",
       "0          0.684932       346.80                         0.24   \n",
       "1          1.908646       311.29                         1.22   \n",
       "2          1.099268       302.16                         1.53   \n",
       "3          0.967892       320.30                         1.55   \n",
       "4          1.850122       324.70                         1.22   \n",
       "\n",
       "   Dependent_children  Public_Transport_Access  Greespace_Access  \\\n",
       "0               17.14                 7.723401         -6.478752   \n",
       "1               37.71                 5.987356         -0.889538   \n",
       "2               40.00                 3.275530         -1.790968   \n",
       "3               37.59                 2.848544         -5.469666   \n",
       "4               39.66                 2.272302          1.977718   \n",
       "\n",
       "   Borough Green Space Surface Total_Greenspace  \n",
       "0                          4.8              Low  \n",
       "1                         33.6           Medium  \n",
       "2                         33.6           Medium  \n",
       "3                         33.6           Medium  \n",
       "4                         33.6           Medium  "
      ]
     },
     "execution_count": 35,
     "metadata": {},
     "output_type": "execute_result"
    }
   ],
   "source": [
    "#Create new categorical column for greenspace (Low, Medium, High)\n",
    "df['Total_Greenspace'] = pd.cut(df['Borough Green Space Surface'], bins=3, labels=['Low', 'Medium', 'High'])\n",
    "df.head()"
   ]
  },
  {
   "cell_type": "code",
   "execution_count": 41,
   "id": "0b820e3a-a135-4379-bd51-4d91e4ca7ae4",
   "metadata": {},
   "outputs": [
    {
     "data": {
      "image/png": "[encoded data removed]",
      "text/plain": [
       "<Figure size 640x480 with 1 Axes>"
      ]
     },
     "metadata": {},
     "output_type": "display_data"
    }
   ],
   "source": [
    "# Examine new categorical column for greenspace\n",
    "sns.boxplot(x='Total_Greenspace', y='Life_Expectancy', data=df);"
   ]
  },
  {
   "cell_type": "markdown",
   "id": "6b5375ec-7861-44db-aea2-226b98e3062b",
   "metadata": {},
   "source": [
    "## 1b. Remove columns unnecessary for model\n",
    "Since I a not looking at the change in time as a variable, I will remove the Year variable. <br>\n",
    "The Ward variables are also redundant with Borough -- I will keep Borough only (to be used as a categorical variable) since that is the level of detail with which the data was collected. "
   ]
  },
  {
   "cell_type": "code",
   "execution_count": 42,
   "id": "8820761e-243a-468b-af8f-1bea3a271385",
   "metadata": {},
   "outputs": [
    {
     "data": {
      "image/png": "[encoded data removed]",
      "text/plain": [
       "<Figure size 640x480 with 1 Axes>"
      ]
     },
     "metadata": {},
     "output_type": "display_data"
    }
   ],
   "source": [
    "# Examine Life Expectancy Across Years\n",
    "sns.boxplot(x='Year', y='Life_Expectancy', data=df);"
   ]
  },
  {
   "cell_type": "code",
   "execution_count": 45,
   "id": "83e2710d-b178-4b39-89e4-7076a8799c17",
   "metadata": {},
   "outputs": [],
   "source": [
    "# Drop unwanted columns\n",
    "# Dropping Ward columns, Year, and old greenspace column (replaced by categorical variable)\n",
    "df_longevity = df.drop(columns=['New ward code', 'Ward', 'Year', 'Borough Green Space Surface'])"
   ]
  },
  {
   "cell_type": "code",
   "execution_count": 46,
   "id": "714ba03d-47e1-4e14-816c-53008f728385",
   "metadata": {},
   "outputs": [
    {
     "name": "stdout",
     "output_type": "stream",
     "text": [
      "<class 'pandas.core.frame.DataFrame'>\n",
      "Int64Index: 3275 entries, 0 to 3274\n",
      "Data columns (total 13 columns):\n",
      " #   Column                       Non-Null Count  Dtype   \n",
      "---  ------                       --------------  -----   \n",
      " 0   Borough                      3275 non-null   object  \n",
      " 1   Life_Expectancy              3275 non-null   float64 \n",
      " 2   Childhood_Obesity            3275 non-null   float64 \n",
      " 3   Incapacity_Benefit           3275 non-null   float64 \n",
      " 4   Unemployment                 3275 non-null   float64 \n",
      " 5   Crime                        3275 non-null   float64 \n",
      " 6   Deliberate_Fires             3275 non-null   float64 \n",
      " 7   GCSE_points                  3275 non-null   float64 \n",
      " 8   Unauthorised_School_Absence  3275 non-null   float64 \n",
      " 9   Dependent_children           3275 non-null   float64 \n",
      " 10  Public_Transport_Access      3275 non-null   float64 \n",
      " 11  Greespace_Access             3275 non-null   float64 \n",
      " 12  Total_Greenspace             3275 non-null   category\n",
      "dtypes: category(1), float64(11), object(1)\n",
      "memory usage: 335.9+ KB\n"
     ]
    }
   ],
   "source": [
    "df_longevity.info()"
   ]
  },
  {
   "cell_type": "markdown",
   "id": "3bb5bcde-1c60-47d6-abfd-08985d8a58d9",
   "metadata": {},
   "source": [
    "## 1. Train-test split data"
   ]
  },
  {
   "cell_type": "code",
   "execution_count": 152,
   "id": "dd5c623c-d1cc-4315-84d5-03648c8d54b4",
   "metadata": {},
   "outputs": [
    {
     "data": {
      "text/plain": [
       "(3275, 13)"
      ]
     },
     "execution_count": 152,
     "metadata": {},
     "output_type": "execute_result"
    }
   ],
   "source": [
    "df_longevity.shape"
   ]
  },
  {
   "cell_type": "code",
   "execution_count": 153,
   "id": "f3b09a54-730b-4224-a355-dea12fde2cb4",
   "metadata": {},
   "outputs": [],
   "source": [
    "X_train, X_test, y_train, y_test = train_test_split(df_longevity.drop(columns='Life_Expectancy'), \n",
    "                                                    df_longevity.Life_Expectancy, test_size=0.2, \n",
    "                                                    random_state=43)"
   ]
  },
  {
   "cell_type": "code",
   "execution_count": 154,
   "id": "60474cb3-7841-408c-b9ec-98d43af13e3b",
   "metadata": {},
   "outputs": [
    {
     "data": {
      "text/plain": [
       "((2620, 12), (655, 12))"
      ]
     },
     "execution_count": 154,
     "metadata": {},
     "output_type": "execute_result"
    }
   ],
   "source": [
    "X_train.shape, X_test.shape"
   ]
  },
  {
   "cell_type": "code",
   "execution_count": 155,
   "id": "f417713b-2e30-4fea-9087-a9d94f7a0252",
   "metadata": {},
   "outputs": [
    {
     "data": {
      "text/plain": [
       "((2620,), (655,))"
      ]
     },
     "execution_count": 155,
     "metadata": {},
     "output_type": "execute_result"
    }
   ],
   "source": [
    "y_train.shape, y_test.shape"
   ]
  },
  {
   "cell_type": "code",
   "execution_count": 156,
   "id": "7961a5f0-0270-43da-a159-91fc0d0639fd",
   "metadata": {},
   "outputs": [
    {
     "data": {
      "text/plain": [
       "Borough                          object\n",
       "Childhood_Obesity               float64\n",
       "Incapacity_Benefit              float64\n",
       "Unemployment                    float64\n",
       "Crime                           float64\n",
       "Deliberate_Fires                float64\n",
       "GCSE_points                     float64\n",
       "Unauthorised_School_Absence     float64\n",
       "Dependent_children              float64\n",
       "Public_Transport_Access         float64\n",
       "Greespace_Access                float64\n",
       "Total_Greenspace               category\n",
       "dtype: object"
      ]
     },
     "execution_count": 156,
     "metadata": {},
     "output_type": "execute_result"
    }
   ],
   "source": [
    "#Check the `dtypes` attribute of `X_train` \n",
    "X_train.dtypes"
   ]
  },
  {
   "cell_type": "markdown",
   "id": "b83be364-e283-424f-831a-727f0edd3122",
   "metadata": {},
   "source": [
    "## 2. Scale numberical variables\n",
    "Use StandardScalar to scale numeric variables to a standardized scale. The StandardScaler scales each feature to zero mean and unit variance."
   ]
  },
  {
   "cell_type": "code",
   "execution_count": 172,
   "id": "fffecace-0652-4282-87d9-46b387f14db2",
   "metadata": {},
   "outputs": [],
   "source": [
    "# Drop categorical features\n",
    "cat_cols = ['Borough', 'Total_Greenspace']\n",
    "X_train_num = X_train.drop(columns=cat_cols)\n",
    "X_test_num = X_test.drop(columns=cat_cols)"
   ]
  },
  {
   "cell_type": "code",
   "execution_count": 173,
   "id": "028930df-0a60-4619-8504-b177f4e2b59e",
   "metadata": {},
   "outputs": [],
   "source": [
    "# Fit scaler to training data and transform training and test data\n",
    "scaler = StandardScaler()\n",
    "scaler.fit(X_train_num)\n",
    "X_tr_scaled = scaler.transform(X_train_num)\n",
    "X_te_scaled = scaler.transform(X_test_num)\n"
   ]
  },
  {
   "cell_type": "code",
   "execution_count": 174,
   "id": "e5c68e3b-e113-439a-a6ca-6affeb981739",
   "metadata": {},
   "outputs": [
    {
     "data": {
      "text/plain": [
       "(2620, 10)"
      ]
     },
     "execution_count": 174,
     "metadata": {},
     "output_type": "execute_result"
    }
   ],
   "source": [
    "X_tr_scaled.shape"
   ]
  },
  {
   "cell_type": "code",
   "execution_count": 175,
   "id": "2a3b7e2d-4ccc-409c-8f3d-0c77ca96780f",
   "metadata": {},
   "outputs": [
    {
     "data": {
      "text/plain": [
       "(655, 10)"
      ]
     },
     "execution_count": 175,
     "metadata": {},
     "output_type": "execute_result"
    }
   ],
   "source": [
    "X_te_scaled.shape"
   ]
  },
  {
   "cell_type": "code",
   "execution_count": 176,
   "id": "7eba14a6-6250-490a-b6eb-949de5197abb",
   "metadata": {},
   "outputs": [],
   "source": [
    "# Create new scaled dataframes for X_train and X_test data\n",
    "col_names = X_train.columns.drop(['Borough', 'Total_Greenspace'])\n",
    "\n",
    "# Training data\n",
    "X_tr_num = pd.DataFrame(X_tr_scaled, columns=col_names)\n",
    "X_tr_num['Borough'] = X_train['Borough']\n",
    "X_tr_num['Total_Greenspace'] = X_train['Total_Greenspace']\n",
    "\n",
    "# Test data\n",
    "X_te_num = pd.DataFrame(X_te_scaled, columns=col_names)\n",
    "X_te_num['Borough'] = X_test['Borough']\n",
    "X_te_num['Total_Greenspace'] = X_test['Total_Greenspace']\n"
   ]
  },
  {
   "cell_type": "code",
   "execution_count": 177,
   "id": "2095a990-0379-42fb-8182-3e9fd98970f7",
   "metadata": {},
   "outputs": [],
   "source": [
    "## TRYING SOMETHING OUT -- Trying to use pd.concat method to join dataframes but it's not working!\n",
    "# Training data \n",
    "col_names = X_train.columns.drop(['Borough', 'Total_Greenspace'])\n",
    "\n",
    "X_tr_num_trial = pd.DataFrame(X_tr_scaled, columns=col_names)\n",
    "X_tr_num_trial1 = pd.concat([X_tr_num, X_train[['Borough', 'Total_Greenspace']]], axis=1)\n",
    "#X_tr_num_trial1"
   ]
  },
  {
   "cell_type": "code",
   "execution_count": 178,
   "id": "5fcb4b2e-a75e-4f41-aa78-25f8a244ccfc",
   "metadata": {},
   "outputs": [
    {
     "data": {
      "text/plain": [
       "(2620, 12)"
      ]
     },
     "execution_count": 178,
     "metadata": {},
     "output_type": "execute_result"
    }
   ],
   "source": [
    "X_tr_num.shape"
   ]
  },
  {
   "cell_type": "code",
   "execution_count": 179,
   "id": "a9abdf2f-3e3c-4082-b7c5-309dc1159d63",
   "metadata": {},
   "outputs": [
    {
     "data": {
      "text/plain": [
       "(655, 12)"
      ]
     },
     "execution_count": 179,
     "metadata": {},
     "output_type": "execute_result"
    }
   ],
   "source": [
    "X_te_num.shape"
   ]
  },
  {
   "cell_type": "markdown",
   "id": "44610cad-2b37-40b9-a705-537bbe00d426",
   "metadata": {},
   "source": [
    "## 3. Create dummy variables for categorical data\n",
    "Categorical columns are Borough and Total_Greenspace"
   ]
  },
  {
   "cell_type": "code",
   "execution_count": 180,
   "id": "b5b8d012-1712-45c3-bf45-3e16cb927213",
   "metadata": {},
   "outputs": [],
   "source": [
    "# Convert the Borough and Total Greenspace columns to a one hot encoded Data Frame on both training and test data\n",
    "X_train_oh = pd.get_dummies(X_tr_num, columns=['Borough', 'Total_Greenspace'], prefix=['B','TG'])\n",
    "X_test_oh = pd.get_dummies(X_te_num, columns=['Borough', 'Total_Greenspace'], prefix=['B','TG'])\n"
   ]
  },
  {
   "cell_type": "code",
   "execution_count": 181,
   "id": "46423a93-3d1b-48fe-a130-acb4086b4ab9",
   "metadata": {},
   "outputs": [
    {
     "data": {
      "text/plain": [
       "(2620, 46)"
      ]
     },
     "execution_count": 181,
     "metadata": {},
     "output_type": "execute_result"
    }
   ],
   "source": [
    "X_train_oh.shape"
   ]
  },
  {
   "cell_type": "code",
   "execution_count": 183,
   "id": "8925ce5f-4752-41d4-8b86-cb4d708af963",
   "metadata": {},
   "outputs": [
    {
     "data": {
      "text/plain": [
       "(655, 44)"
      ]
     },
     "execution_count": 183,
     "metadata": {},
     "output_type": "execute_result"
    }
   ],
   "source": [
    "# NOTE -- this has two fewer columns that the X_train\n",
    "# Is this because it's a smaller dataset? \n",
    "# Indicating we should create dummy variables before the train/test split?\n",
    "X_test_oh.shape"
   ]
  },
  {
   "cell_type": "code",
   "execution_count": 150,
   "id": "5292eaa7-22d6-4f88-88e7-b13520159d7e",
   "metadata": {},
   "outputs": [
    {
     "data": {
      "text/html": [
       "<div>\n",
       "<style scoped>\n",
       "    .dataframe tbody tr th:only-of-type {\n",
       "        vertical-align: middle;\n",
       "    }\n",
       "\n",
       "    .dataframe tbody tr th {\n",
       "        vertical-align: top;\n",
       "    }\n",
       "\n",
       "    .dataframe thead th {\n",
       "        text-align: right;\n",
       "    }\n",
       "</style>\n",
       "<table border=\"1\" class=\"dataframe\">\n",
       "  <thead>\n",
       "    <tr style=\"text-align: right;\">\n",
       "      <th></th>\n",
       "      <th>Childhood_Obesity</th>\n",
       "      <th>Incapacity_Benefit</th>\n",
       "      <th>Unemployment</th>\n",
       "      <th>Crime</th>\n",
       "      <th>Deliberate_Fires</th>\n",
       "      <th>GCSE_points</th>\n",
       "      <th>Unauthorised_School_Absence</th>\n",
       "      <th>Dependent_children</th>\n",
       "      <th>Public_Transport_Access</th>\n",
       "      <th>Greespace_Access</th>\n",
       "      <th>...</th>\n",
       "      <th>B_Richmond upon Thames</th>\n",
       "      <th>B_Southwark</th>\n",
       "      <th>B_Sutton</th>\n",
       "      <th>B_Tower Hamlets</th>\n",
       "      <th>B_Waltham Forest</th>\n",
       "      <th>B_Wandsworth</th>\n",
       "      <th>B_Westminster</th>\n",
       "      <th>TG_Low</th>\n",
       "      <th>TG_Medium</th>\n",
       "      <th>TG_High</th>\n",
       "    </tr>\n",
       "  </thead>\n",
       "  <tbody>\n",
       "    <tr>\n",
       "      <th>0</th>\n",
       "      <td>0.526738</td>\n",
       "      <td>1.084823</td>\n",
       "      <td>0.979146</td>\n",
       "      <td>0.606967</td>\n",
       "      <td>1.165893</td>\n",
       "      <td>-0.684345</td>\n",
       "      <td>0.841939</td>\n",
       "      <td>0.847403</td>\n",
       "      <td>-0.493617</td>\n",
       "      <td>-0.214932</td>\n",
       "      <td>...</td>\n",
       "      <td>0</td>\n",
       "      <td>0</td>\n",
       "      <td>0</td>\n",
       "      <td>0</td>\n",
       "      <td>0</td>\n",
       "      <td>0</td>\n",
       "      <td>0</td>\n",
       "      <td>1</td>\n",
       "      <td>0</td>\n",
       "      <td>0</td>\n",
       "    </tr>\n",
       "    <tr>\n",
       "      <th>1</th>\n",
       "      <td>-0.464170</td>\n",
       "      <td>-0.608248</td>\n",
       "      <td>-1.105710</td>\n",
       "      <td>-1.322560</td>\n",
       "      <td>-0.467811</td>\n",
       "      <td>0.037330</td>\n",
       "      <td>-1.206214</td>\n",
       "      <td>-1.228399</td>\n",
       "      <td>-1.189103</td>\n",
       "      <td>-0.704068</td>\n",
       "      <td>...</td>\n",
       "      <td>0</td>\n",
       "      <td>0</td>\n",
       "      <td>0</td>\n",
       "      <td>0</td>\n",
       "      <td>0</td>\n",
       "      <td>0</td>\n",
       "      <td>0</td>\n",
       "      <td>0</td>\n",
       "      <td>1</td>\n",
       "      <td>0</td>\n",
       "    </tr>\n",
       "    <tr>\n",
       "      <th>2</th>\n",
       "      <td>-0.588929</td>\n",
       "      <td>-0.715846</td>\n",
       "      <td>-0.438911</td>\n",
       "      <td>-0.322606</td>\n",
       "      <td>-0.655606</td>\n",
       "      <td>0.722037</td>\n",
       "      <td>-0.091025</td>\n",
       "      <td>-0.980037</td>\n",
       "      <td>-0.203790</td>\n",
       "      <td>-1.287273</td>\n",
       "      <td>...</td>\n",
       "      <td>0</td>\n",
       "      <td>0</td>\n",
       "      <td>0</td>\n",
       "      <td>0</td>\n",
       "      <td>0</td>\n",
       "      <td>0</td>\n",
       "      <td>0</td>\n",
       "      <td>0</td>\n",
       "      <td>1</td>\n",
       "      <td>0</td>\n",
       "    </tr>\n",
       "    <tr>\n",
       "      <th>3</th>\n",
       "      <td>0.677987</td>\n",
       "      <td>2.221829</td>\n",
       "      <td>0.676289</td>\n",
       "      <td>1.214693</td>\n",
       "      <td>-0.095602</td>\n",
       "      <td>-2.233604</td>\n",
       "      <td>1.763608</td>\n",
       "      <td>1.955701</td>\n",
       "      <td>1.472619</td>\n",
       "      <td>-0.955020</td>\n",
       "      <td>...</td>\n",
       "      <td>0</td>\n",
       "      <td>0</td>\n",
       "      <td>0</td>\n",
       "      <td>0</td>\n",
       "      <td>0</td>\n",
       "      <td>0</td>\n",
       "      <td>0</td>\n",
       "      <td>0</td>\n",
       "      <td>1</td>\n",
       "      <td>0</td>\n",
       "    </tr>\n",
       "    <tr>\n",
       "      <th>4</th>\n",
       "      <td>-1.556106</td>\n",
       "      <td>-1.278908</td>\n",
       "      <td>-0.838376</td>\n",
       "      <td>-1.146580</td>\n",
       "      <td>0.217088</td>\n",
       "      <td>1.125096</td>\n",
       "      <td>-0.245492</td>\n",
       "      <td>-1.089755</td>\n",
       "      <td>-1.190706</td>\n",
       "      <td>2.640664</td>\n",
       "      <td>...</td>\n",
       "      <td>0</td>\n",
       "      <td>0</td>\n",
       "      <td>0</td>\n",
       "      <td>0</td>\n",
       "      <td>0</td>\n",
       "      <td>0</td>\n",
       "      <td>0</td>\n",
       "      <td>0</td>\n",
       "      <td>1</td>\n",
       "      <td>0</td>\n",
       "    </tr>\n",
       "    <tr>\n",
       "      <th>...</th>\n",
       "      <td>...</td>\n",
       "      <td>...</td>\n",
       "      <td>...</td>\n",
       "      <td>...</td>\n",
       "      <td>...</td>\n",
       "      <td>...</td>\n",
       "      <td>...</td>\n",
       "      <td>...</td>\n",
       "      <td>...</td>\n",
       "      <td>...</td>\n",
       "      <td>...</td>\n",
       "      <td>...</td>\n",
       "      <td>...</td>\n",
       "      <td>...</td>\n",
       "      <td>...</td>\n",
       "      <td>...</td>\n",
       "      <td>...</td>\n",
       "      <td>...</td>\n",
       "      <td>...</td>\n",
       "      <td>...</td>\n",
       "      <td>...</td>\n",
       "    </tr>\n",
       "    <tr>\n",
       "      <th>2615</th>\n",
       "      <td>-1.827854</td>\n",
       "      <td>-1.350301</td>\n",
       "      <td>-1.259221</td>\n",
       "      <td>-1.172001</td>\n",
       "      <td>-0.590286</td>\n",
       "      <td>2.051663</td>\n",
       "      <td>-1.813596</td>\n",
       "      <td>-1.697643</td>\n",
       "      <td>-0.818300</td>\n",
       "      <td>-0.025566</td>\n",
       "      <td>...</td>\n",
       "      <td>1</td>\n",
       "      <td>0</td>\n",
       "      <td>0</td>\n",
       "      <td>0</td>\n",
       "      <td>0</td>\n",
       "      <td>0</td>\n",
       "      <td>0</td>\n",
       "      <td>0</td>\n",
       "      <td>0</td>\n",
       "      <td>1</td>\n",
       "    </tr>\n",
       "    <tr>\n",
       "      <th>2616</th>\n",
       "      <td>0.954665</td>\n",
       "      <td>-0.286079</td>\n",
       "      <td>0.601459</td>\n",
       "      <td>0.090562</td>\n",
       "      <td>-0.741846</td>\n",
       "      <td>0.405441</td>\n",
       "      <td>0.274087</td>\n",
       "      <td>-0.169391</td>\n",
       "      <td>-0.540088</td>\n",
       "      <td>0.137349</td>\n",
       "      <td>...</td>\n",
       "      <td>0</td>\n",
       "      <td>1</td>\n",
       "      <td>0</td>\n",
       "      <td>0</td>\n",
       "      <td>0</td>\n",
       "      <td>0</td>\n",
       "      <td>0</td>\n",
       "      <td>0</td>\n",
       "      <td>1</td>\n",
       "      <td>0</td>\n",
       "    </tr>\n",
       "    <tr>\n",
       "      <th>2617</th>\n",
       "      <td>1.091483</td>\n",
       "      <td>0.773789</td>\n",
       "      <td>0.041706</td>\n",
       "      <td>3.578440</td>\n",
       "      <td>-0.834321</td>\n",
       "      <td>0.457820</td>\n",
       "      <td>0.180082</td>\n",
       "      <td>0.292161</td>\n",
       "      <td>1.402247</td>\n",
       "      <td>0.946535</td>\n",
       "      <td>...</td>\n",
       "      <td>0</td>\n",
       "      <td>0</td>\n",
       "      <td>1</td>\n",
       "      <td>0</td>\n",
       "      <td>0</td>\n",
       "      <td>0</td>\n",
       "      <td>0</td>\n",
       "      <td>0</td>\n",
       "      <td>1</td>\n",
       "      <td>0</td>\n",
       "    </tr>\n",
       "    <tr>\n",
       "      <th>2618</th>\n",
       "      <td>-0.738009</td>\n",
       "      <td>-1.085944</td>\n",
       "      <td>-0.978977</td>\n",
       "      <td>-1.063732</td>\n",
       "      <td>-0.025481</td>\n",
       "      <td>1.243431</td>\n",
       "      <td>-0.527610</td>\n",
       "      <td>-1.253124</td>\n",
       "      <td>-0.557988</td>\n",
       "      <td>1.354058</td>\n",
       "      <td>...</td>\n",
       "      <td>0</td>\n",
       "      <td>0</td>\n",
       "      <td>0</td>\n",
       "      <td>1</td>\n",
       "      <td>0</td>\n",
       "      <td>0</td>\n",
       "      <td>0</td>\n",
       "      <td>1</td>\n",
       "      <td>0</td>\n",
       "      <td>0</td>\n",
       "    </tr>\n",
       "    <tr>\n",
       "      <th>2619</th>\n",
       "      <td>0.819040</td>\n",
       "      <td>-0.087406</td>\n",
       "      <td>-0.482507</td>\n",
       "      <td>-1.006657</td>\n",
       "      <td>1.467497</td>\n",
       "      <td>-1.028312</td>\n",
       "      <td>0.713930</td>\n",
       "      <td>1.825710</td>\n",
       "      <td>-0.121758</td>\n",
       "      <td>0.488525</td>\n",
       "      <td>...</td>\n",
       "      <td>0</td>\n",
       "      <td>0</td>\n",
       "      <td>0</td>\n",
       "      <td>0</td>\n",
       "      <td>1</td>\n",
       "      <td>0</td>\n",
       "      <td>0</td>\n",
       "      <td>0</td>\n",
       "      <td>1</td>\n",
       "      <td>0</td>\n",
       "    </tr>\n",
       "  </tbody>\n",
       "</table>\n",
       "<p>2620 rows × 46 columns</p>\n",
       "</div>"
      ],
      "text/plain": [
       "      Childhood_Obesity  Incapacity_Benefit  Unemployment     Crime  \\\n",
       "0              0.526738            1.084823      0.979146  0.606967   \n",
       "1             -0.464170           -0.608248     -1.105710 -1.322560   \n",
       "2             -0.588929           -0.715846     -0.438911 -0.322606   \n",
       "3              0.677987            2.221829      0.676289  1.214693   \n",
       "4             -1.556106           -1.278908     -0.838376 -1.146580   \n",
       "...                 ...                 ...           ...       ...   \n",
       "2615          -1.827854           -1.350301     -1.259221 -1.172001   \n",
       "2616           0.954665           -0.286079      0.601459  0.090562   \n",
       "2617           1.091483            0.773789      0.041706  3.578440   \n",
       "2618          -0.738009           -1.085944     -0.978977 -1.063732   \n",
       "2619           0.819040           -0.087406     -0.482507 -1.006657   \n",
       "\n",
       "      Deliberate_Fires  GCSE_points  Unauthorised_School_Absence  \\\n",
       "0             1.165893    -0.684345                     0.841939   \n",
       "1            -0.467811     0.037330                    -1.206214   \n",
       "2            -0.655606     0.722037                    -0.091025   \n",
       "3            -0.095602    -2.233604                     1.763608   \n",
       "4             0.217088     1.125096                    -0.245492   \n",
       "...                ...          ...                          ...   \n",
       "2615         -0.590286     2.051663                    -1.813596   \n",
       "2616         -0.741846     0.405441                     0.274087   \n",
       "2617         -0.834321     0.457820                     0.180082   \n",
       "2618         -0.025481     1.243431                    -0.527610   \n",
       "2619          1.467497    -1.028312                     0.713930   \n",
       "\n",
       "      Dependent_children  Public_Transport_Access  Greespace_Access  ...  \\\n",
       "0               0.847403                -0.493617         -0.214932  ...   \n",
       "1              -1.228399                -1.189103         -0.704068  ...   \n",
       "2              -0.980037                -0.203790         -1.287273  ...   \n",
       "3               1.955701                 1.472619         -0.955020  ...   \n",
       "4              -1.089755                -1.190706          2.640664  ...   \n",
       "...                  ...                      ...               ...  ...   \n",
       "2615           -1.697643                -0.818300         -0.025566  ...   \n",
       "2616           -0.169391                -0.540088          0.137349  ...   \n",
       "2617            0.292161                 1.402247          0.946535  ...   \n",
       "2618           -1.253124                -0.557988          1.354058  ...   \n",
       "2619            1.825710                -0.121758          0.488525  ...   \n",
       "\n",
       "      B_Richmond upon Thames  B_Southwark  B_Sutton  B_Tower Hamlets  \\\n",
       "0                          0            0         0                0   \n",
       "1                          0            0         0                0   \n",
       "2                          0            0         0                0   \n",
       "3                          0            0         0                0   \n",
       "4                          0            0         0                0   \n",
       "...                      ...          ...       ...              ...   \n",
       "2615                       1            0         0                0   \n",
       "2616                       0            1         0                0   \n",
       "2617                       0            0         1                0   \n",
       "2618                       0            0         0                1   \n",
       "2619                       0            0         0                0   \n",
       "\n",
       "      B_Waltham Forest  B_Wandsworth  B_Westminster  TG_Low  TG_Medium  \\\n",
       "0                    0             0              0       1          0   \n",
       "1                    0             0              0       0          1   \n",
       "2                    0             0              0       0          1   \n",
       "3                    0             0              0       0          1   \n",
       "4                    0             0              0       0          1   \n",
       "...                ...           ...            ...     ...        ...   \n",
       "2615                 0             0              0       0          0   \n",
       "2616                 0             0              0       0          1   \n",
       "2617                 0             0              0       0          1   \n",
       "2618                 0             0              0       1          0   \n",
       "2619                 1             0              0       0          1   \n",
       "\n",
       "      TG_High  \n",
       "0           0  \n",
       "1           0  \n",
       "2           0  \n",
       "3           0  \n",
       "4           0  \n",
       "...       ...  \n",
       "2615        1  \n",
       "2616        0  \n",
       "2617        0  \n",
       "2618        0  \n",
       "2619        0  \n",
       "\n",
       "[2620 rows x 46 columns]"
      ]
     },
     "execution_count": 150,
     "metadata": {},
     "output_type": "execute_result"
    }
   ],
   "source": [
    "X_train_oh"
   ]
  },
  {
   "cell_type": "code",
   "execution_count": 184,
   "id": "8acd8425-f98f-439d-96e9-edb47e9ad29f",
   "metadata": {},
   "outputs": [
    {
     "data": {
      "text/plain": [
       "Childhood_Obesity              float64\n",
       "Incapacity_Benefit             float64\n",
       "Unemployment                   float64\n",
       "Crime                          float64\n",
       "Deliberate_Fires               float64\n",
       "GCSE_points                    float64\n",
       "Unauthorised_School_Absence    float64\n",
       "Dependent_children             float64\n",
       "Public_Transport_Access        float64\n",
       "Greespace_Access               float64\n",
       "B_Barking and Dagenham           uint8\n",
       "B_Barnet                         uint8\n",
       "B_Bexley                         uint8\n",
       "B_Brent                          uint8\n",
       "B_Bromley                        uint8\n",
       "B_Camden                         uint8\n",
       "B_City of London                 uint8\n",
       "B_Croydon                        uint8\n",
       "B_Ealing                         uint8\n",
       "B_Enfield                        uint8\n",
       "B_Greenwich                      uint8\n",
       "B_Hackney                        uint8\n",
       "B_Hammersmith and Fulham         uint8\n",
       "B_Haringey                       uint8\n",
       "B_Harrow                         uint8\n",
       "B_Havering                       uint8\n",
       "B_Hillingdon                     uint8\n",
       "B_Hounslow                       uint8\n",
       "B_Islington                      uint8\n",
       "B_Kensington and Chelsea         uint8\n",
       "B_Kingston upon Thames           uint8\n",
       "B_Lambeth                        uint8\n",
       "B_Lewisham                       uint8\n",
       "B_Merton                         uint8\n",
       "B_Newham                         uint8\n",
       "B_Redbridge                      uint8\n",
       "B_Richmond upon Thames           uint8\n",
       "B_Southwark                      uint8\n",
       "B_Sutton                         uint8\n",
       "B_Tower Hamlets                  uint8\n",
       "B_Waltham Forest                 uint8\n",
       "B_Wandsworth                     uint8\n",
       "B_Westminster                    uint8\n",
       "TG_Low                           uint8\n",
       "TG_Medium                        uint8\n",
       "TG_High                          uint8\n",
       "dtype: object"
      ]
     },
     "execution_count": 184,
     "metadata": {},
     "output_type": "execute_result"
    }
   ],
   "source": [
    "X_train_oh.dtypes"
   ]
  },
  {
   "cell_type": "markdown",
   "id": "176270f1-4d73-433d-83d8-e47a0ec087c4",
   "metadata": {},
   "source": [
    "I now have an all numeric dataset that is ready for modeling. It contains scaled numerical variables, as well as two categorical variables (Borough and Total_Greenspace) that have been dummy-encoded for modeling. The final matrix is 2620 x 46. <br>\n",
    "<br>\n",
    "One issue that needs to be resolved is that the test set (X_test) is only 2620 x 44 (two columns fewer). I suspect the problem was in creating the dummy variables for a smaller dataset, and ending up with some all 0 columns. "
   ]
  },
  {
   "cell_type": "code",
   "execution_count": null,
   "id": "5fd1fd83-150e-4d39-ac2f-10a1ee42c675",
   "metadata": {},
   "outputs": [],
   "source": []
  }
 ],
 "metadata": {
  "kernelspec": {
   "display_name": "Python 3 (ipykernel)",
   "language": "python",
   "name": "python3"
  },
  "language_info": {
   "codemirror_mode": {
    "name": "ipython",
    "version": 3
   },
   "file_extension": ".py",
   "mimetype": "text/x-python",
   "name": "python",
   "nbconvert_exporter": "python",
   "pygments_lexer": "ipython3",
   "version": "3.9.13"
  }
 },
 "nbformat": 4,
 "nbformat_minor": 5
}
