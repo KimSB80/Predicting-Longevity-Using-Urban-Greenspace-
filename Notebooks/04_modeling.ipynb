{
 "cells": [
  {
   "cell_type": "markdown",
   "id": "e669f2b8-792a-420b-a9f5-685c9f791a2a",
   "metadata": {},
   "source": [
    "# Step 4: ML Modeling and Model Comparison\n",
    "\n",
    "## Introduction: Overview of Data Science Problem\n",
    "With the current population of London at around 9,648,000, and a trend of ~1-1.5% population increase per year over the past few years1, the importance of urban design has become an important consideration for the city’s urban planning commissions. Over the past few years, London’s local government has been making a push for “greening London”; the London Plan 2021 outlines an integrated environmental strategy for increasing urban greenspace, as well as improving air quality and mitigating the effects of climate change. <br>\n",
    "<br>\n",
    "The focus of this project is on developing a model to predict which factors, including access to urban greenspace, are most important for predicting longevity within the London boroughs. I will use data from the London Ward Well-Being Scores dataset, collected by the Greater London Authority over the period of 2009-2013. This dataset includes information on life-expectancy, as well as 12 different well-being indicators such as childhood obesity rates, crime rates, unemployment rates, and access to greenspace and public transport. "
   ]
  },
  {
   "cell_type": "markdown",
   "id": "8b7dd881-a1c6-438e-b5ac-bfcccb4c06f1",
   "metadata": {},
   "source": [
    "### Load Data and Import Packages"
   ]
  },
  {
   "cell_type": "code",
   "execution_count": 13,
   "id": "811f24f4-3acd-49be-b28f-0b0c3470427c",
   "metadata": {},
   "outputs": [],
   "source": [
    "import os\n",
    "import pandas as pd\n",
    "import numpy as np\n",
    "import matplotlib.pyplot as plt\n",
    "import seaborn as sns\n",
    "from scipy import stats\n",
    "\n",
    "from sklearn.preprocessing import StandardScaler, MinMaxScaler, scale, OneHotEncoder\n",
    "from sklearn.model_selection import train_test_split, cross_validate, GridSearchCV\n",
    "from sklearn.pipeline import make_pipeline\n",
    "from sklearn.linear_model import LinearRegression\n",
    "from sklearn.metrics import mean_squared_error, mean_absolute_error, r2_score\n",
    "\n",
    "\n",
    "import warnings\n",
    "warnings.filterwarnings('ignore')\n"
   ]
  },
  {
   "cell_type": "code",
   "execution_count": 14,
   "id": "4e68d54e-23ab-4f9f-ab79-366aee2c907f",
   "metadata": {},
   "outputs": [],
   "source": [
    "# Import updated dataframe\n",
    "datapath = '/Users/kbrewitt/Github/Predicting Longevity Using Urban Greenspace/clean_data/'\n",
    "df_longevity = pd.read_csv(datapath + 'Longevity_DF.csv', index_col=0)\n"
   ]
  },
  {
   "cell_type": "code",
   "execution_count": 15,
   "id": "3df5dc1b-75db-42e2-b32f-83eeaa202dea",
   "metadata": {},
   "outputs": [
    {
     "name": "stdout",
     "output_type": "stream",
     "text": [
      "<class 'pandas.core.frame.DataFrame'>\n",
      "Int64Index: 3275 entries, 0 to 3274\n",
      "Data columns (total 16 columns):\n",
      " #   Column                       Non-Null Count  Dtype  \n",
      "---  ------                       --------------  -----  \n",
      " 0   Borough                      3275 non-null   object \n",
      " 1   Life_Expectancy              3275 non-null   float64\n",
      " 2   Childhood_Obesity            3275 non-null   float64\n",
      " 3   Incapacity_Benefit           3275 non-null   float64\n",
      " 4   Unemployment                 3275 non-null   float64\n",
      " 5   Crime                        3275 non-null   float64\n",
      " 6   Deliberate_Fires             3275 non-null   float64\n",
      " 7   GCSE_points                  3275 non-null   float64\n",
      " 8   Unauthorised_School_Absence  3275 non-null   float64\n",
      " 9   Dependent_children           3275 non-null   float64\n",
      " 10  Public_Transport_Access      3275 non-null   float64\n",
      " 11  Greespace_Access             3275 non-null   float64\n",
      " 12  Greenspace_Surface_Area      3275 non-null   float64\n",
      " 13  Total_Greenspace             3275 non-null   object \n",
      " 14  Binned_Median_Greenspace     3275 non-null   float64\n",
      " 15  Ranked_Greenspace            3275 non-null   float64\n",
      "dtypes: float64(14), object(2)\n",
      "memory usage: 435.0+ KB\n"
     ]
    }
   ],
   "source": [
    "# Check imported data\n",
    "df_longevity.info()\n",
    "#df_longevity.head()"
   ]
  },
  {
   "cell_type": "markdown",
   "id": "6b5375ec-7861-44db-aea2-226b98e3062b",
   "metadata": {},
   "source": [
    "# 1. Final Preprocessing of Data\n",
    "### 1a. Remove unwanted columns from model\n",
    "I am removing the Borough column, since all the other metrics are of more interest in terms of explaining the health impacts of living in a particular Borough. I am also dropping redundant (colinear) metrics for total greenspace per Borough. "
   ]
  },
  {
   "cell_type": "code",
   "execution_count": 16,
   "id": "83e2710d-b178-4b39-89e4-7076a8799c17",
   "metadata": {},
   "outputs": [],
   "source": [
    "# Drop Borough column\n",
    "df_longevity = df_longevity.drop(columns=['Borough','Binned_Median_Greenspace','Ranked_Greenspace'])\n",
    "\n",
    "# Define target (y-variable)\n",
    "target_name = \"Life_Expectancy\"\n",
    "target = df_longevity[target_name]\n",
    "\n",
    "data = df_longevity.drop(columns=[target_name])"
   ]
  },
  {
   "cell_type": "markdown",
   "id": "bf0dbcb7-96da-4e74-b81e-e8c8a70b6881",
   "metadata": {},
   "source": [
    "### 1b. Select columns based on data type (categorical vs numeric)"
   ]
  },
  {
   "cell_type": "code",
   "execution_count": 17,
   "id": "bc501f18-2484-4251-bc61-6217f7efb681",
   "metadata": {},
   "outputs": [],
   "source": [
    "from sklearn.compose import make_column_selector as selector\n",
    "\n",
    "numerical_columns_selector = selector(dtype_exclude=object)\n",
    "categorical_columns_selector = selector(dtype_include=object)\n",
    "\n",
    "numerical_columns = numerical_columns_selector(data)\n",
    "categorical_columns = categorical_columns_selector(data)\n"
   ]
  },
  {
   "cell_type": "code",
   "execution_count": 18,
   "id": "3909560a-6e33-4173-b13c-0d4103a6b606",
   "metadata": {},
   "outputs": [],
   "source": [
    "# Create the preprocessors for the numerical and categorical columns \n",
    "categorical_preprocessor = OneHotEncoder(handle_unknown=\"ignore\")\n",
    "numerical_preprocessor = StandardScaler()"
   ]
  },
  {
   "cell_type": "code",
   "execution_count": 19,
   "id": "0616645f-4a51-4c77-9fde-c23758736b7f",
   "metadata": {},
   "outputs": [],
   "source": [
    "# Create the transformer and associate each of these preprocessors with their respective columns\n",
    "# This will split the data based on column type, process that column, and concatenate the columns back into a dataframe\n",
    "from sklearn.compose import ColumnTransformer\n",
    "\n",
    "preprocessor = ColumnTransformer([\n",
    "    ('one-hot-encoder', categorical_preprocessor, categorical_columns),\n",
    "    ('standard_scaler', numerical_preprocessor, numerical_columns)])\n"
   ]
  },
  {
   "cell_type": "markdown",
   "id": "3bb5bcde-1c60-47d6-abfd-08985d8a58d9",
   "metadata": {},
   "source": [
    "## 2. Train-test split data\n",
    "Split the data into test and training sets before preprocessing."
   ]
  },
  {
   "cell_type": "code",
   "execution_count": 9,
   "id": "dd5c623c-d1cc-4315-84d5-03648c8d54b4",
   "metadata": {},
   "outputs": [
    {
     "data": {
      "text/plain": [
       "(3275, 12)"
      ]
     },
     "execution_count": 9,
     "metadata": {},
     "output_type": "execute_result"
    }
   ],
   "source": [
    "data.shape"
   ]
  },
  {
   "cell_type": "code",
   "execution_count": 10,
   "id": "f3b09a54-730b-4224-a355-dea12fde2cb4",
   "metadata": {},
   "outputs": [],
   "source": [
    "X_tr, X_te, y_tr, y_te = train_test_split(data, target,\n",
    "                                                    test_size=0.3, \n",
    "                                                    random_state=43)"
   ]
  },
  {
   "cell_type": "code",
   "execution_count": 11,
   "id": "60474cb3-7841-408c-b9ec-98d43af13e3b",
   "metadata": {},
   "outputs": [
    {
     "data": {
      "text/plain": [
       "((2292, 12), (983, 12))"
      ]
     },
     "execution_count": 11,
     "metadata": {},
     "output_type": "execute_result"
    }
   ],
   "source": [
    "X_tr.shape, X_te.shape"
   ]
  },
  {
   "cell_type": "code",
   "execution_count": 12,
   "id": "f417713b-2e30-4fea-9087-a9d94f7a0252",
   "metadata": {},
   "outputs": [
    {
     "data": {
      "text/plain": [
       "((2292,), (983,))"
      ]
     },
     "execution_count": 12,
     "metadata": {},
     "output_type": "execute_result"
    }
   ],
   "source": [
    "y_tr.shape, y_te.shape"
   ]
  },
  {
   "cell_type": "markdown",
   "id": "78925837-61a9-4fb9-b949-9c7f0478b8c6",
   "metadata": {},
   "source": [
    "# 3. Applying ML Models\n",
    "This is a regression problem in supervised machine learning. Here I have used the following regression models:\n",
    "\n",
    "-- Linear Regression<br>\n",
    "-- Random Forest <br>\n",
    "-- Gradient Boosting Regressor<br>\n",
    "-- Support Vector Regressor (SVR)<br>\n"
   ]
  },
  {
   "cell_type": "markdown",
   "id": "ee2f5cfd-4fa4-48fa-8a6a-5ce086beead9",
   "metadata": {},
   "source": [
    "## Model 1: Linear regression \n",
    "Fit a simple linear regression model using a pipeline."
   ]
  },
  {
   "cell_type": "code",
   "execution_count": 13,
   "id": "ae75a42c-72c1-4368-9c71-7de289813863",
   "metadata": {},
   "outputs": [],
   "source": [
    "# Make a pipeline for linear regression model\n",
    "from sklearn.feature_selection import SelectKBest, f_regression\n",
    "\n",
    "LRpipe = make_pipeline(preprocessor,\n",
    "    SelectKBest(),\n",
    "    LinearRegression()\n",
    ")"
   ]
  },
  {
   "cell_type": "code",
   "execution_count": 14,
   "id": "324b60e3-0e1e-456a-8a26-a077da3281d5",
   "metadata": {},
   "outputs": [],
   "source": [
    "#  Pass the pipe object and use 5-fold cross-validation to assess fit on training data\n",
    "lr_default_cv_results = cross_validate(LRpipe, X_tr, y_tr, cv=5)"
   ]
  },
  {
   "cell_type": "code",
   "execution_count": 15,
   "id": "85ea9291-56db-432e-8736-889a217bd092",
   "metadata": {},
   "outputs": [
    {
     "data": {
      "text/plain": [
       "(0.5494834600459377, 0.02770005281159515)"
      ]
     },
     "execution_count": 15,
     "metadata": {},
     "output_type": "execute_result"
    }
   ],
   "source": [
    "# Assess basic linear regression model (default test score for linear regression is r-squared)\n",
    "lr_cv_scores = lr_default_cv_results['test_score']\n",
    "np.mean(lr_cv_scores), np.std(lr_cv_scores)"
   ]
  },
  {
   "cell_type": "markdown",
   "id": "522c5f1e-ff5c-41b4-8200-8c0155b0933f",
   "metadata": {},
   "source": [
    "### Use GridSearchCV for selecting k best parameters in the regression model\n",
    "Note: There are no hyperparameters to tune in the basic lr model. "
   ]
  },
  {
   "cell_type": "code",
   "execution_count": 40,
   "id": "67644dc2-52a1-4c71-aa80-48d64ca06ef5",
   "metadata": {},
   "outputs": [],
   "source": [
    "#LRpipe.get_params().keys()"
   ]
  },
  {
   "cell_type": "code",
   "execution_count": 17,
   "id": "5bc04bcc-ce1c-4515-8494-02e7c5aa8f29",
   "metadata": {},
   "outputs": [],
   "source": [
    "# GridSearchCV \n",
    "# Create a range of k for selecting k-best features \n",
    "k = [k+1 for k in range(1,16)]\n",
    "lr_params = {'selectkbest__k': k}\n",
    "\n",
    "lr_grid_cv = GridSearchCV(LRpipe, param_grid=lr_params, cv=5, n_jobs=-1)"
   ]
  },
  {
   "cell_type": "code",
   "execution_count": 18,
   "id": "0eb30d71-07b0-4bd0-9f94-2397078f6d76",
   "metadata": {},
   "outputs": [
    {
     "name": "stderr",
     "output_type": "stream",
     "text": [
      "/Users/kbrewitt/opt/anaconda3/lib/python3.9/site-packages/sklearn/feature_selection/_univariate_selection.py:109: RuntimeWarning: invalid value encountered in true_divide\n",
      "  msw = sswn / float(dfwn)\n",
      "/Users/kbrewitt/opt/anaconda3/lib/python3.9/site-packages/sklearn/feature_selection/_univariate_selection.py:109: RuntimeWarning: invalid value encountered in true_divide\n",
      "  msw = sswn / float(dfwn)\n",
      "/Users/kbrewitt/opt/anaconda3/lib/python3.9/site-packages/sklearn/feature_selection/_univariate_selection.py:109: RuntimeWarning: invalid value encountered in true_divide\n",
      "  msw = sswn / float(dfwn)\n",
      "/Users/kbrewitt/opt/anaconda3/lib/python3.9/site-packages/sklearn/feature_selection/_univariate_selection.py:109: RuntimeWarning: invalid value encountered in true_divide\n",
      "  msw = sswn / float(dfwn)\n",
      "/Users/kbrewitt/opt/anaconda3/lib/python3.9/site-packages/sklearn/feature_selection/_univariate_selection.py:109: RuntimeWarning: invalid value encountered in true_divide\n",
      "  msw = sswn / float(dfwn)\n",
      "/Users/kbrewitt/opt/anaconda3/lib/python3.9/site-packages/sklearn/feature_selection/_univariate_selection.py:109: RuntimeWarning: invalid value encountered in true_divide\n",
      "  msw = sswn / float(dfwn)\n",
      "/Users/kbrewitt/opt/anaconda3/lib/python3.9/site-packages/sklearn/feature_selection/_univariate_selection.py:109: RuntimeWarning: invalid value encountered in true_divide\n",
      "  msw = sswn / float(dfwn)\n",
      "/Users/kbrewitt/opt/anaconda3/lib/python3.9/site-packages/sklearn/feature_selection/_univariate_selection.py:109: RuntimeWarning: invalid value encountered in true_divide\n",
      "  msw = sswn / float(dfwn)\n",
      "/Users/kbrewitt/opt/anaconda3/lib/python3.9/site-packages/sklearn/feature_selection/_univariate_selection.py:109: RuntimeWarning: invalid value encountered in true_divide\n",
      "  msw = sswn / float(dfwn)\n",
      "/Users/kbrewitt/opt/anaconda3/lib/python3.9/site-packages/sklearn/feature_selection/_univariate_selection.py:109: RuntimeWarning: invalid value encountered in true_divide\n",
      "  msw = sswn / float(dfwn)\n",
      "/Users/kbrewitt/opt/anaconda3/lib/python3.9/site-packages/sklearn/feature_selection/_univariate_selection.py:109: RuntimeWarning: invalid value encountered in true_divide\n",
      "  msw = sswn / float(dfwn)\n",
      "/Users/kbrewitt/opt/anaconda3/lib/python3.9/site-packages/sklearn/feature_selection/_univariate_selection.py:109: RuntimeWarning: invalid value encountered in true_divide\n",
      "  msw = sswn / float(dfwn)\n",
      "/Users/kbrewitt/opt/anaconda3/lib/python3.9/site-packages/sklearn/feature_selection/_univariate_selection.py:109: RuntimeWarning: invalid value encountered in true_divide\n",
      "  msw = sswn / float(dfwn)\n",
      "/Users/kbrewitt/opt/anaconda3/lib/python3.9/site-packages/sklearn/feature_selection/_univariate_selection.py:109: RuntimeWarning: invalid value encountered in true_divide\n",
      "  msw = sswn / float(dfwn)\n",
      "/Users/kbrewitt/opt/anaconda3/lib/python3.9/site-packages/sklearn/feature_selection/_univariate_selection.py:109: RuntimeWarning: invalid value encountered in true_divide\n",
      "  msw = sswn / float(dfwn)\n",
      "/Users/kbrewitt/opt/anaconda3/lib/python3.9/site-packages/sklearn/feature_selection/_univariate_selection.py:109: RuntimeWarning: invalid value encountered in true_divide\n",
      "  msw = sswn / float(dfwn)\n",
      "/Users/kbrewitt/opt/anaconda3/lib/python3.9/site-packages/sklearn/feature_selection/_univariate_selection.py:109: RuntimeWarning: invalid value encountered in true_divide\n",
      "  msw = sswn / float(dfwn)\n",
      "/Users/kbrewitt/opt/anaconda3/lib/python3.9/site-packages/sklearn/feature_selection/_univariate_selection.py:109: RuntimeWarning: invalid value encountered in true_divide\n",
      "  msw = sswn / float(dfwn)\n",
      "/Users/kbrewitt/opt/anaconda3/lib/python3.9/site-packages/sklearn/feature_selection/_univariate_selection.py:109: RuntimeWarning: invalid value encountered in true_divide\n",
      "  msw = sswn / float(dfwn)\n",
      "/Users/kbrewitt/opt/anaconda3/lib/python3.9/site-packages/sklearn/feature_selection/_univariate_selection.py:109: RuntimeWarning: invalid value encountered in true_divide\n",
      "  msw = sswn / float(dfwn)\n",
      "/Users/kbrewitt/opt/anaconda3/lib/python3.9/site-packages/sklearn/feature_selection/_univariate_selection.py:109: RuntimeWarning: invalid value encountered in true_divide\n",
      "  msw = sswn / float(dfwn)\n",
      "/Users/kbrewitt/opt/anaconda3/lib/python3.9/site-packages/sklearn/feature_selection/_univariate_selection.py:109: RuntimeWarning: invalid value encountered in true_divide\n",
      "  msw = sswn / float(dfwn)\n",
      "/Users/kbrewitt/opt/anaconda3/lib/python3.9/site-packages/sklearn/feature_selection/_univariate_selection.py:109: RuntimeWarning: invalid value encountered in true_divide\n",
      "  msw = sswn / float(dfwn)\n",
      "/Users/kbrewitt/opt/anaconda3/lib/python3.9/site-packages/sklearn/feature_selection/_univariate_selection.py:109: RuntimeWarning: invalid value encountered in true_divide\n",
      "  msw = sswn / float(dfwn)\n",
      "/Users/kbrewitt/opt/anaconda3/lib/python3.9/site-packages/sklearn/feature_selection/_univariate_selection.py:109: RuntimeWarning: invalid value encountered in true_divide\n",
      "  msw = sswn / float(dfwn)\n",
      "/Users/kbrewitt/opt/anaconda3/lib/python3.9/site-packages/sklearn/feature_selection/_univariate_selection.py:109: RuntimeWarning: invalid value encountered in true_divide\n",
      "  msw = sswn / float(dfwn)\n",
      "/Users/kbrewitt/opt/anaconda3/lib/python3.9/site-packages/sklearn/feature_selection/_univariate_selection.py:109: RuntimeWarning: invalid value encountered in true_divide\n",
      "  msw = sswn / float(dfwn)\n",
      "/Users/kbrewitt/opt/anaconda3/lib/python3.9/site-packages/sklearn/feature_selection/_univariate_selection.py:109: RuntimeWarning: invalid value encountered in true_divide\n",
      "  msw = sswn / float(dfwn)\n",
      "/Users/kbrewitt/opt/anaconda3/lib/python3.9/site-packages/sklearn/feature_selection/_univariate_selection.py:109: RuntimeWarning: invalid value encountered in true_divide\n",
      "  msw = sswn / float(dfwn)\n",
      "/Users/kbrewitt/opt/anaconda3/lib/python3.9/site-packages/sklearn/feature_selection/_univariate_selection.py:109: RuntimeWarning: invalid value encountered in true_divide\n",
      "  msw = sswn / float(dfwn)\n",
      "/Users/kbrewitt/opt/anaconda3/lib/python3.9/site-packages/sklearn/feature_selection/_univariate_selection.py:109: RuntimeWarning: invalid value encountered in true_divide\n",
      "  msw = sswn / float(dfwn)\n",
      "/Users/kbrewitt/opt/anaconda3/lib/python3.9/site-packages/sklearn/feature_selection/_univariate_selection.py:109: RuntimeWarning: invalid value encountered in true_divide\n",
      "  msw = sswn / float(dfwn)\n",
      "/Users/kbrewitt/opt/anaconda3/lib/python3.9/site-packages/sklearn/feature_selection/_univariate_selection.py:109: RuntimeWarning: invalid value encountered in true_divide\n",
      "  msw = sswn / float(dfwn)\n",
      "/Users/kbrewitt/opt/anaconda3/lib/python3.9/site-packages/sklearn/feature_selection/_univariate_selection.py:109: RuntimeWarning: invalid value encountered in true_divide\n",
      "  msw = sswn / float(dfwn)\n",
      "/Users/kbrewitt/opt/anaconda3/lib/python3.9/site-packages/sklearn/feature_selection/_univariate_selection.py:109: RuntimeWarning: invalid value encountered in true_divide\n",
      "  msw = sswn / float(dfwn)\n",
      "/Users/kbrewitt/opt/anaconda3/lib/python3.9/site-packages/sklearn/feature_selection/_univariate_selection.py:109: RuntimeWarning: invalid value encountered in true_divide\n",
      "  msw = sswn / float(dfwn)\n",
      "/Users/kbrewitt/opt/anaconda3/lib/python3.9/site-packages/sklearn/feature_selection/_univariate_selection.py:109: RuntimeWarning: invalid value encountered in true_divide\n",
      "  msw = sswn / float(dfwn)\n",
      "/Users/kbrewitt/opt/anaconda3/lib/python3.9/site-packages/sklearn/feature_selection/_univariate_selection.py:109: RuntimeWarning: invalid value encountered in true_divide\n",
      "  msw = sswn / float(dfwn)\n",
      "/Users/kbrewitt/opt/anaconda3/lib/python3.9/site-packages/sklearn/feature_selection/_univariate_selection.py:109: RuntimeWarning: invalid value encountered in true_divide\n",
      "  msw = sswn / float(dfwn)\n",
      "/Users/kbrewitt/opt/anaconda3/lib/python3.9/site-packages/sklearn/feature_selection/_univariate_selection.py:109: RuntimeWarning: invalid value encountered in true_divide\n",
      "  msw = sswn / float(dfwn)\n",
      "/Users/kbrewitt/opt/anaconda3/lib/python3.9/site-packages/sklearn/feature_selection/_univariate_selection.py:109: RuntimeWarning: invalid value encountered in true_divide\n",
      "  msw = sswn / float(dfwn)\n",
      "/Users/kbrewitt/opt/anaconda3/lib/python3.9/site-packages/sklearn/feature_selection/_univariate_selection.py:109: RuntimeWarning: invalid value encountered in true_divide\n",
      "  msw = sswn / float(dfwn)\n",
      "/Users/kbrewitt/opt/anaconda3/lib/python3.9/site-packages/sklearn/feature_selection/_univariate_selection.py:109: RuntimeWarning: invalid value encountered in true_divide\n",
      "  msw = sswn / float(dfwn)\n",
      "/Users/kbrewitt/opt/anaconda3/lib/python3.9/site-packages/sklearn/feature_selection/_univariate_selection.py:109: RuntimeWarning: invalid value encountered in true_divide\n",
      "  msw = sswn / float(dfwn)\n",
      "/Users/kbrewitt/opt/anaconda3/lib/python3.9/site-packages/sklearn/feature_selection/_univariate_selection.py:109: RuntimeWarning: invalid value encountered in true_divide\n",
      "  msw = sswn / float(dfwn)\n",
      "/Users/kbrewitt/opt/anaconda3/lib/python3.9/site-packages/sklearn/feature_selection/_univariate_selection.py:109: RuntimeWarning: invalid value encountered in true_divide\n",
      "  msw = sswn / float(dfwn)\n",
      "/Users/kbrewitt/opt/anaconda3/lib/python3.9/site-packages/sklearn/feature_selection/_univariate_selection.py:109: RuntimeWarning: invalid value encountered in true_divide\n",
      "  msw = sswn / float(dfwn)\n",
      "/Users/kbrewitt/opt/anaconda3/lib/python3.9/site-packages/sklearn/feature_selection/_univariate_selection.py:109: RuntimeWarning: invalid value encountered in true_divide\n",
      "  msw = sswn / float(dfwn)\n",
      "/Users/kbrewitt/opt/anaconda3/lib/python3.9/site-packages/sklearn/feature_selection/_univariate_selection.py:109: RuntimeWarning: invalid value encountered in true_divide\n",
      "  msw = sswn / float(dfwn)\n",
      "/Users/kbrewitt/opt/anaconda3/lib/python3.9/site-packages/sklearn/feature_selection/_univariate_selection.py:109: RuntimeWarning: invalid value encountered in true_divide\n",
      "  msw = sswn / float(dfwn)\n",
      "/Users/kbrewitt/opt/anaconda3/lib/python3.9/site-packages/sklearn/feature_selection/_univariate_selection.py:109: RuntimeWarning: invalid value encountered in true_divide\n",
      "  msw = sswn / float(dfwn)\n",
      "/Users/kbrewitt/opt/anaconda3/lib/python3.9/site-packages/sklearn/feature_selection/_univariate_selection.py:109: RuntimeWarning: invalid value encountered in true_divide\n",
      "  msw = sswn / float(dfwn)\n",
      "/Users/kbrewitt/opt/anaconda3/lib/python3.9/site-packages/sklearn/feature_selection/_univariate_selection.py:109: RuntimeWarning: invalid value encountered in true_divide\n",
      "  msw = sswn / float(dfwn)\n",
      "/Users/kbrewitt/opt/anaconda3/lib/python3.9/site-packages/sklearn/feature_selection/_univariate_selection.py:109: RuntimeWarning: invalid value encountered in true_divide\n",
      "  msw = sswn / float(dfwn)\n",
      "/Users/kbrewitt/opt/anaconda3/lib/python3.9/site-packages/sklearn/feature_selection/_univariate_selection.py:109: RuntimeWarning: invalid value encountered in true_divide\n",
      "  msw = sswn / float(dfwn)\n",
      "/Users/kbrewitt/opt/anaconda3/lib/python3.9/site-packages/sklearn/feature_selection/_univariate_selection.py:109: RuntimeWarning: invalid value encountered in true_divide\n",
      "  msw = sswn / float(dfwn)\n",
      "/Users/kbrewitt/opt/anaconda3/lib/python3.9/site-packages/sklearn/feature_selection/_univariate_selection.py:109: RuntimeWarning: invalid value encountered in true_divide\n",
      "  msw = sswn / float(dfwn)\n",
      "/Users/kbrewitt/opt/anaconda3/lib/python3.9/site-packages/sklearn/feature_selection/_univariate_selection.py:109: RuntimeWarning: invalid value encountered in true_divide\n",
      "  msw = sswn / float(dfwn)\n",
      "/Users/kbrewitt/opt/anaconda3/lib/python3.9/site-packages/sklearn/feature_selection/_univariate_selection.py:109: RuntimeWarning: invalid value encountered in true_divide\n",
      "  msw = sswn / float(dfwn)\n",
      "/Users/kbrewitt/opt/anaconda3/lib/python3.9/site-packages/sklearn/feature_selection/_univariate_selection.py:109: RuntimeWarning: invalid value encountered in true_divide\n",
      "  msw = sswn / float(dfwn)\n",
      "/Users/kbrewitt/opt/anaconda3/lib/python3.9/site-packages/sklearn/feature_selection/_univariate_selection.py:109: RuntimeWarning: invalid value encountered in true_divide\n",
      "  msw = sswn / float(dfwn)\n",
      "/Users/kbrewitt/opt/anaconda3/lib/python3.9/site-packages/sklearn/feature_selection/_univariate_selection.py:109: RuntimeWarning: invalid value encountered in true_divide\n",
      "  msw = sswn / float(dfwn)\n",
      "/Users/kbrewitt/opt/anaconda3/lib/python3.9/site-packages/sklearn/feature_selection/_univariate_selection.py:109: RuntimeWarning: invalid value encountered in true_divide\n",
      "  msw = sswn / float(dfwn)\n",
      "/Users/kbrewitt/opt/anaconda3/lib/python3.9/site-packages/sklearn/feature_selection/_univariate_selection.py:109: RuntimeWarning: invalid value encountered in true_divide\n",
      "  msw = sswn / float(dfwn)\n",
      "/Users/kbrewitt/opt/anaconda3/lib/python3.9/site-packages/sklearn/feature_selection/_univariate_selection.py:109: RuntimeWarning: invalid value encountered in true_divide\n",
      "  msw = sswn / float(dfwn)\n",
      "/Users/kbrewitt/opt/anaconda3/lib/python3.9/site-packages/sklearn/feature_selection/_univariate_selection.py:109: RuntimeWarning: invalid value encountered in true_divide\n",
      "  msw = sswn / float(dfwn)\n",
      "/Users/kbrewitt/opt/anaconda3/lib/python3.9/site-packages/sklearn/feature_selection/_univariate_selection.py:109: RuntimeWarning: invalid value encountered in true_divide\n",
      "  msw = sswn / float(dfwn)\n",
      "/Users/kbrewitt/opt/anaconda3/lib/python3.9/site-packages/sklearn/feature_selection/_univariate_selection.py:109: RuntimeWarning: invalid value encountered in true_divide\n",
      "  msw = sswn / float(dfwn)\n",
      "/Users/kbrewitt/opt/anaconda3/lib/python3.9/site-packages/sklearn/feature_selection/_univariate_selection.py:109: RuntimeWarning: invalid value encountered in true_divide\n",
      "  msw = sswn / float(dfwn)\n",
      "/Users/kbrewitt/opt/anaconda3/lib/python3.9/site-packages/sklearn/feature_selection/_univariate_selection.py:109: RuntimeWarning: invalid value encountered in true_divide\n",
      "  msw = sswn / float(dfwn)\n",
      "/Users/kbrewitt/opt/anaconda3/lib/python3.9/site-packages/sklearn/feature_selection/_univariate_selection.py:109: RuntimeWarning: invalid value encountered in true_divide\n",
      "  msw = sswn / float(dfwn)\n",
      "/Users/kbrewitt/opt/anaconda3/lib/python3.9/site-packages/sklearn/feature_selection/_univariate_selection.py:109: RuntimeWarning: invalid value encountered in true_divide\n",
      "  msw = sswn / float(dfwn)\n",
      "/Users/kbrewitt/opt/anaconda3/lib/python3.9/site-packages/sklearn/feature_selection/_univariate_selection.py:109: RuntimeWarning: invalid value encountered in true_divide\n",
      "  msw = sswn / float(dfwn)\n",
      "/Users/kbrewitt/opt/anaconda3/lib/python3.9/site-packages/sklearn/feature_selection/_univariate_selection.py:109: RuntimeWarning: invalid value encountered in true_divide\n",
      "  msw = sswn / float(dfwn)\n",
      "/Users/kbrewitt/opt/anaconda3/lib/python3.9/site-packages/sklearn/feature_selection/_univariate_selection.py:109: RuntimeWarning: invalid value encountered in true_divide\n",
      "  msw = sswn / float(dfwn)\n"
     ]
    },
    {
     "data": {
      "text/plain": [
       "GridSearchCV(cv=5,\n",
       "             estimator=Pipeline(steps=[('columntransformer',\n",
       "                                        ColumnTransformer(transformers=[('one-hot-encoder',\n",
       "                                                                         OneHotEncoder(handle_unknown='ignore'),\n",
       "                                                                         ['Total_Greenspace']),\n",
       "                                                                        ('standard_scaler',\n",
       "                                                                         StandardScaler(),\n",
       "                                                                         ['Childhood_Obesity',\n",
       "                                                                          'Incapacity_Benefit',\n",
       "                                                                          'Unemployment',\n",
       "                                                                          'Crime',\n",
       "                                                                          'Deliberate_Fires',\n",
       "                                                                          'GCSE_points',\n",
       "                                                                          'Unauthorised_School_Absence',\n",
       "                                                                          'Dependent_children',\n",
       "                                                                          'Public_Transport_Access',\n",
       "                                                                          'Greespace_Access',\n",
       "                                                                          'Greenspace_Surface_Area',\n",
       "                                                                          'Binned_Median_Greenspace',\n",
       "                                                                          'Ranked_Greenspace'])])),\n",
       "                                       ('selectkbest', SelectKBest()),\n",
       "                                       ('linearregression',\n",
       "                                        LinearRegression())]),\n",
       "             n_jobs=-1,\n",
       "             param_grid={'selectkbest__k': [2, 3, 4, 5, 6, 7, 8, 9, 10, 11, 12,\n",
       "                                            13, 14, 15, 16]})"
      ]
     },
     "execution_count": 18,
     "metadata": {},
     "output_type": "execute_result"
    }
   ],
   "source": [
    "# Fit the regression model to training data\n",
    "lr_grid_cv.fit(X_tr, y_tr)"
   ]
  },
  {
   "cell_type": "code",
   "execution_count": 20,
   "id": "1f37419d-0072-42da-a324-cbc83f734b34",
   "metadata": {},
   "outputs": [
    {
     "data": {
      "text/plain": [
       "{'selectkbest__k': 13}"
      ]
     },
     "execution_count": 20,
     "metadata": {},
     "output_type": "execute_result"
    }
   ],
   "source": [
    "lr_grid_cv.best_params_"
   ]
  },
  {
   "cell_type": "code",
   "execution_count": 21,
   "id": "fc588a20-7c16-4033-8301-17af9ca9654f",
   "metadata": {},
   "outputs": [],
   "source": [
    "# Calculate mean r-squared score for plotting\n",
    "score_mean = lr_grid_cv.cv_results_['mean_test_score']\n",
    "score_std = lr_grid_cv.cv_results_['std_test_score']\n",
    "cv_k = [k for k in lr_grid_cv.cv_results_['param_selectkbest__k']]"
   ]
  },
  {
   "cell_type": "code",
   "execution_count": 22,
   "id": "d9625755-261d-48bb-b704-4167c905fd5e",
   "metadata": {},
   "outputs": [
    {
     "data": {
      "image/png": "[encoded data removed]",
      "text/plain": [
       "<Figure size 1000x500 with 1 Axes>"
      ]
     },
     "metadata": {},
     "output_type": "display_data"
    }
   ],
   "source": [
    "#Assign the value of k from the above dict of `best_params_` and assign it to `best_k`\n",
    "best_k = lr_grid_cv.best_params_['selectkbest__k']\n",
    "\n",
    "# Plot the values of CV scores across values of k\n",
    "plt.subplots(figsize=(10, 5))\n",
    "plt.errorbar(cv_k, score_mean, yerr=score_std)\n",
    "plt.axvline(x=best_k, c='r', ls='--', alpha=.5)\n",
    "plt.xlabel('k')\n",
    "plt.ylabel('CV score (r-squared)')\n",
    "plt.title('Pipeline mean CV score (error bars +/- 1sd)');"
   ]
  },
  {
   "cell_type": "markdown",
   "id": "6ac37c9a-842e-424c-bbd6-560a99a38037",
   "metadata": {},
   "source": [
    "### Use cross-validation to fit model using best value of k"
   ]
  },
  {
   "cell_type": "code",
   "execution_count": 23,
   "id": "c69e9ecf-600b-45e5-ba85-468939ed616b",
   "metadata": {},
   "outputs": [
    {
     "name": "stderr",
     "output_type": "stream",
     "text": [
      "/Users/kbrewitt/opt/anaconda3/lib/python3.9/site-packages/sklearn/feature_selection/_univariate_selection.py:109: RuntimeWarning: invalid value encountered in true_divide\n",
      "  msw = sswn / float(dfwn)\n",
      "/Users/kbrewitt/opt/anaconda3/lib/python3.9/site-packages/sklearn/feature_selection/_univariate_selection.py:109: RuntimeWarning: invalid value encountered in true_divide\n",
      "  msw = sswn / float(dfwn)\n",
      "/Users/kbrewitt/opt/anaconda3/lib/python3.9/site-packages/sklearn/feature_selection/_univariate_selection.py:109: RuntimeWarning: invalid value encountered in true_divide\n",
      "  msw = sswn / float(dfwn)\n",
      "/Users/kbrewitt/opt/anaconda3/lib/python3.9/site-packages/sklearn/feature_selection/_univariate_selection.py:109: RuntimeWarning: invalid value encountered in true_divide\n",
      "  msw = sswn / float(dfwn)\n",
      "/Users/kbrewitt/opt/anaconda3/lib/python3.9/site-packages/sklearn/feature_selection/_univariate_selection.py:109: RuntimeWarning: invalid value encountered in true_divide\n",
      "  msw = sswn / float(dfwn)\n"
     ]
    }
   ],
   "source": [
    "# Fit model to training data using best k and cross-validation\n",
    "lr_cv = cross_validate(lr_grid_cv.best_estimator_, X_tr, y_tr, \n",
    "                            scoring=['r2','neg_root_mean_squared_error'], cv=5, n_jobs=-1)\n"
   ]
  },
  {
   "cell_type": "code",
   "execution_count": 24,
   "id": "9aa590ae-2aba-4021-b5a5-cb3d44d738c0",
   "metadata": {},
   "outputs": [
    {
     "name": "stdout",
     "output_type": "stream",
     "text": [
      "Mean r-squared for training data:  0.5612457340973179\n",
      "Mean MAE for training data:  1.5431446863270695\n"
     ]
    }
   ],
   "source": [
    "# Assess r-squared values for model using cross-validated training data\n",
    "r2score_lr_train = np.mean(lr_cv['test_r2'])\n",
    "mae_lr_train = -np.mean(lr_cv['test_neg_root_mean_squared_error'])\n",
    "\n",
    "print('Mean r-squared for training data: ', r2score_lr_train)\n",
    "print('Mean MAE for training data: ', mae_lr_train)"
   ]
  },
  {
   "cell_type": "code",
   "execution_count": 81,
   "id": "3f4c687d-425c-4fb0-959a-d43d34b074a6",
   "metadata": {},
   "outputs": [
    {
     "name": "stdout",
     "output_type": "stream",
     "text": [
      "Mean r-squared for test data: 0.5419035014468032\n",
      "Mean MAE for test data: 1.231804640623877\n"
     ]
    }
   ],
   "source": [
    "# Get r-squared score for test data\n",
    "r2score_lr_test = r2_score(y_te, lr_grid_cv.best_estimator_.predict(X_te))\n",
    "mae_lr_test = mean_absolute_error(y_te, lr_grid_cv.best_estimator_.predict(X_te))\n",
    "\n",
    "print('Mean r-squared for test data:', r2score_lr_test)\n",
    "print('Mean MAE for test data:', mae_lr_test)"
   ]
  },
  {
   "cell_type": "markdown",
   "id": "994122d2-f922-45ab-a41a-ecd56885613c",
   "metadata": {},
   "source": [
    "This is not a great r-squared score for either the train or test data. "
   ]
  },
  {
   "cell_type": "markdown",
   "id": "f6cc575a-8737-4428-a532-a20f33eeae62",
   "metadata": {},
   "source": [
    "## Model 2: Random Forest Regression Model"
   ]
  },
  {
   "cell_type": "code",
   "execution_count": 83,
   "id": "011be784-22f7-4f66-81a0-7b3a8205362a",
   "metadata": {},
   "outputs": [],
   "source": [
    "# Define the model\n",
    "from sklearn.ensemble import RandomForestRegressor\n",
    "\n",
    "# Create a pipeline \n",
    "RFpipe = make_pipeline(preprocessor,\n",
    "    RandomForestRegressor(random_state=43)\n",
    ")"
   ]
  },
  {
   "cell_type": "code",
   "execution_count": 84,
   "id": "048e1a4d-b238-4c61-b568-6cc9be7b1bbe",
   "metadata": {},
   "outputs": [],
   "source": [
    "# Fit model to training data and use cross-validation\n",
    "rf_default_cv_results = cross_validate(RFpipe, X_tr, y_tr, cv=5)"
   ]
  },
  {
   "cell_type": "code",
   "execution_count": 85,
   "id": "c9e0abeb-c765-4e1a-835d-fbd40a5ddb05",
   "metadata": {},
   "outputs": [
    {
     "data": {
      "text/plain": [
       "(0.6899438102174261, 0.029251211818207664)"
      ]
     },
     "execution_count": 85,
     "metadata": {},
     "output_type": "execute_result"
    }
   ],
   "source": [
    "# Assess basic linear regression model (default test score for linear regression is r-squared)\n",
    "rf_cv_scores = rf_default_cv_results['test_score']\n",
    "\n",
    "np.mean(rf_cv_scores), np.std(rf_cv_scores)"
   ]
  },
  {
   "cell_type": "markdown",
   "id": "a07d8cd6-27c5-4e80-b84e-c456b368650c",
   "metadata": {},
   "source": [
    "### Hyperparameter tuning using cross-validation and GridSearchCV"
   ]
  },
  {
   "cell_type": "code",
   "execution_count": 93,
   "id": "1a0ebd3d-215a-471b-969f-cf0907680e3e",
   "metadata": {},
   "outputs": [
    {
     "data": {
      "text/plain": [
       "{'randomforestregressor__n_estimators': [100, 400, 700, 1000],\n",
       " 'randomforestregressor__max_depth': [3, 6, 10, 15],\n",
       " 'randomforestregressor__max_features': ['auto', 'sqrt']}"
      ]
     },
     "execution_count": 93,
     "metadata": {},
     "output_type": "execute_result"
    }
   ],
   "source": [
    "# Create parameter grid for random forest hyperparameters\n",
    "n_est = [100, 400, 700, 1000]\n",
    "max_d = [3, 6, 10, 15]\n",
    "\n",
    "rf_params = {\n",
    "        'randomforestregressor__n_estimators': n_est,\n",
    "        'randomforestregressor__max_depth': max_d,\n",
    "        'randomforestregressor__max_features': ['auto', 'sqrt']\n",
    "}\n",
    "\n",
    "rf_params"
   ]
  },
  {
   "cell_type": "code",
   "execution_count": 94,
   "id": "7b947fb4-9b59-435d-8b4a-448acbb4c7be",
   "metadata": {},
   "outputs": [],
   "source": [
    "#RFpipe.get_params().keys()"
   ]
  },
  {
   "cell_type": "code",
   "execution_count": 95,
   "id": "fbc4dc02-4303-4ca2-8516-4898e719d02d",
   "metadata": {},
   "outputs": [
    {
     "data": {
      "text/plain": [
       "GridSearchCV(cv=5,\n",
       "             estimator=Pipeline(steps=[('columntransformer',\n",
       "                                        ColumnTransformer(transformers=[('one-hot-encoder',\n",
       "                                                                         OneHotEncoder(handle_unknown='ignore'),\n",
       "                                                                         ['Total_Greenspace']),\n",
       "                                                                        ('standard_scaler',\n",
       "                                                                         StandardScaler(),\n",
       "                                                                         ['Childhood_Obesity',\n",
       "                                                                          'Incapacity_Benefit',\n",
       "                                                                          'Unemployment',\n",
       "                                                                          'Crime',\n",
       "                                                                          'Deliberate_Fires',\n",
       "                                                                          'GCSE_points',\n",
       "                                                                          'Unauthorised_School_Absence',\n",
       "                                                                          'Dependen...\n",
       "                                                                          'Public_Transport_Access',\n",
       "                                                                          'Greespace_Access',\n",
       "                                                                          'Greenspace_Surface_Area',\n",
       "                                                                          'Binned_Median_Greenspace',\n",
       "                                                                          'Ranked_Greenspace'])])),\n",
       "                                       ('randomforestregressor',\n",
       "                                        RandomForestRegressor(random_state=43))]),\n",
       "             n_jobs=-1,\n",
       "             param_grid={'randomforestregressor__max_depth': [3, 6, 10, 15],\n",
       "                         'randomforestregressor__max_features': ['auto',\n",
       "                                                                 'sqrt'],\n",
       "                         'randomforestregressor__n_estimators': [100, 400, 700,\n",
       "                                                                 1000]})"
      ]
     },
     "execution_count": 95,
     "metadata": {},
     "output_type": "execute_result"
    }
   ],
   "source": [
    "# Call GridSearchCV with the random forest pipeline passing in the above grid_params\n",
    "rf_grid_cv = GridSearchCV(RFpipe, param_grid=rf_params, cv=5, n_jobs=-1)\n",
    "\n",
    "# Fit to training data\n",
    "rf_grid_cv.fit(X_tr, y_tr)"
   ]
  },
  {
   "cell_type": "code",
   "execution_count": 96,
   "id": "7b406b36-7ad7-4650-bcac-f78e00d531b2",
   "metadata": {},
   "outputs": [
    {
     "data": {
      "text/plain": [
       "{'randomforestregressor__max_depth': 15,\n",
       " 'randomforestregressor__max_features': 'auto',\n",
       " 'randomforestregressor__n_estimators': 1000}"
      ]
     },
     "execution_count": 96,
     "metadata": {},
     "output_type": "execute_result"
    }
   ],
   "source": [
    "# Print the best params (`best_params_` attribute) from the grid search\n",
    "rf_grid_cv.best_params_"
   ]
  },
  {
   "cell_type": "markdown",
   "id": "815df8f3-bc20-4ccd-a63a-e61fa749d1cc",
   "metadata": {},
   "source": [
    "#### Fit the model with the optimal hyperparameters (from GridSearchCV)"
   ]
  },
  {
   "cell_type": "code",
   "execution_count": 98,
   "id": "73eb50d0-cae7-42c7-9ad9-106589856a7f",
   "metadata": {},
   "outputs": [],
   "source": [
    "# Fit the best model to the training data\n",
    "rf_cv = cross_validate(rf_grid_cv.best_estimator_, X_tr, y_tr,\n",
    "                       scoring=['r2','neg_root_mean_squared_error'], cv=5, n_jobs=-1)\n"
   ]
  },
  {
   "cell_type": "code",
   "execution_count": 99,
   "id": "e561edeb-4d39-4b54-a2f0-54b72581cae9",
   "metadata": {},
   "outputs": [
    {
     "name": "stdout",
     "output_type": "stream",
     "text": [
      "Mean r-squared for training data:  0.6903905442945028\n",
      "Mean MAE for training data:  1.2955120226143866\n"
     ]
    }
   ],
   "source": [
    "# Assess r-squared values for model using cross-validated training data\n",
    "r2score_rf_train = np.mean(rf_cv['test_r2'])\n",
    "mae_rf_train = -np.mean(rf_cv['test_neg_root_mean_squared_error'])\n",
    "\n",
    "print('Mean r-squared for training data: ', r2score_rf_train)\n",
    "print('Mean MAE for training data: ', mae_rf_train)"
   ]
  },
  {
   "cell_type": "code",
   "execution_count": 100,
   "id": "901a928c-2fce-4825-888a-afc9ae85e12a",
   "metadata": {},
   "outputs": [
    {
     "name": "stdout",
     "output_type": "stream",
     "text": [
      "Mean r-squared for test data: 0.6902173064172661\n",
      "Mean MAE for test data: 0.9896888543991714\n"
     ]
    }
   ],
   "source": [
    "# Get r-squared score for test data\n",
    "r2score_rf_test = r2_score(y_te, rf_grid_cv.best_estimator_.predict(X_te))\n",
    "mae_rf_test = mean_absolute_error(y_te, rf_grid_cv.best_estimator_.predict(X_te))\n",
    "\n",
    "print('Mean r-squared for test data:', r2score_rf_test)\n",
    "print('Mean MAE for test data:', mae_rf_test)"
   ]
  },
  {
   "cell_type": "markdown",
   "id": "946ca5b8-c3a8-4421-a3d6-d915323c79bb",
   "metadata": {},
   "source": [
    "### Hyperparameter tuning for random forest model using RandomSearchCV"
   ]
  },
  {
   "cell_type": "code",
   "execution_count": 101,
   "id": "6397ce90-1e37-4ce0-b5bd-3c6f1e59128c",
   "metadata": {},
   "outputs": [
    {
     "data": {
      "text/plain": [
       "{'randomforestregressor__n_estimators': range(100, 1000),\n",
       " 'randomforestregressor__max_depth': range(3, 20)}"
      ]
     },
     "execution_count": 101,
     "metadata": {},
     "output_type": "execute_result"
    }
   ],
   "source": [
    "from sklearn.model_selection import RandomizedSearchCV\n",
    "\n",
    "# Create parameter grid for random forest hyperparameters \n",
    "n_est = range(100, 1000)\n",
    "max_d = range(3, 20)\n",
    "\n",
    "rf_params = {\n",
    "        'randomforestregressor__n_estimators': n_est,\n",
    "        'randomforestregressor__max_depth': max_d,\n",
    "}\n",
    "\n",
    "rf_params"
   ]
  },
  {
   "cell_type": "code",
   "execution_count": 108,
   "id": "852186ab-27cb-43af-86a9-c20b5275c44c",
   "metadata": {},
   "outputs": [
    {
     "data": {
      "text/plain": [
       "RandomizedSearchCV(cv=5,\n",
       "                   estimator=Pipeline(steps=[('columntransformer',\n",
       "                                              ColumnTransformer(transformers=[('one-hot-encoder',\n",
       "                                                                               OneHotEncoder(handle_unknown='ignore'),\n",
       "                                                                               ['Total_Greenspace']),\n",
       "                                                                              ('standard_scaler',\n",
       "                                                                               StandardScaler(),\n",
       "                                                                               ['Childhood_Obesity',\n",
       "                                                                                'Incapacity_Benefit',\n",
       "                                                                                'Unemployment',\n",
       "                                                                                'Crime',\n",
       "                                                                                'Deliberate_Fires',\n",
       "                                                                                'GCSE_points',\n",
       "                                                                                'Unauthorised_School_Absence',\n",
       "                                                                                'Dependent_children',\n",
       "                                                                                'Public_Transport_Access',\n",
       "                                                                                'Greespace_Access',\n",
       "                                                                                'Greenspace_Surface_Area',\n",
       "                                                                                'Binned_Median_Greenspace',\n",
       "                                                                                'Ranked_Greenspace'])])),\n",
       "                                             ('randomforestregressor',\n",
       "                                              RandomForestRegressor(random_state=43))]),\n",
       "                   n_iter=60, n_jobs=-1,\n",
       "                   param_distributions={'randomforestregressor__max_depth': range(3, 20),\n",
       "                                        'randomforestregressor__n_estimators': range(100, 1000)})"
      ]
     },
     "execution_count": 108,
     "metadata": {},
     "output_type": "execute_result"
    }
   ],
   "source": [
    "# Call RandomizedSearchCV with the random forest pipeline passing in the above grid_params\n",
    "rf_rand_cv = RandomizedSearchCV(RFpipe, param_distributions=rf_params, n_iter=60, cv=5, n_jobs=-1)\n",
    "\n",
    "# Fit to training data\n",
    "rf_rand_cv.fit(X_tr, y_tr)"
   ]
  },
  {
   "cell_type": "code",
   "execution_count": 109,
   "id": "ab55a439-c8ea-46e7-bb0d-94390614bfab",
   "metadata": {},
   "outputs": [
    {
     "data": {
      "text/plain": [
       "{'randomforestregressor__n_estimators': 997,\n",
       " 'randomforestregressor__max_depth': 19}"
      ]
     },
     "execution_count": 109,
     "metadata": {},
     "output_type": "execute_result"
    }
   ],
   "source": [
    "# Print the best params (`best_params_` attribute) from the grid search\n",
    "rf_rand_cv.best_params_"
   ]
  },
  {
   "cell_type": "markdown",
   "id": "fdec0efe-f0be-4445-9cce-6a4db2e8fc59",
   "metadata": {},
   "source": [
    "#### Fit the model with the optimal hyperparameters (from RandomizedSearchCV)"
   ]
  },
  {
   "cell_type": "code",
   "execution_count": 110,
   "id": "a254ade1-7be9-4c8c-8238-d4664a832d76",
   "metadata": {},
   "outputs": [],
   "source": [
    "# Fit the best model to the training data\n",
    "rf2_cv = cross_validate(rf_rand_cv.best_estimator_, X_tr, y_tr,\n",
    "                       scoring=['r2','neg_root_mean_squared_error'], cv=5, n_jobs=-1)\n"
   ]
  },
  {
   "cell_type": "code",
   "execution_count": 111,
   "id": "12859b8e-d991-464f-8cf7-2fd62e3c1503",
   "metadata": {},
   "outputs": [
    {
     "name": "stdout",
     "output_type": "stream",
     "text": [
      "Mean r-squared for training data:  0.6916154772935912\n",
      "Mean MAE for training data:  1.2929388402121653\n"
     ]
    }
   ],
   "source": [
    "# Assess r-squared values for model using cross-validated training data\n",
    "r2score_rf_rand_train = np.mean(rf2_cv['test_r2'])\n",
    "mae_rf_rand_train = -np.mean(rf2_cv['test_neg_root_mean_squared_error'])\n",
    "\n",
    "print('Mean r-squared for training data: ', r2score_rf_rand_train)\n",
    "print('Mean MAE for training data: ', mae_rf_rand_train)"
   ]
  },
  {
   "cell_type": "code",
   "execution_count": 112,
   "id": "31c4f653-0f4b-4b56-bd3c-af8307d68bb2",
   "metadata": {},
   "outputs": [
    {
     "name": "stdout",
     "output_type": "stream",
     "text": [
      "Mean r-squared for test data: 0.6929389040211673\n",
      "Mean MAE for test data: 0.9838259179037937\n"
     ]
    }
   ],
   "source": [
    "# Get r-squared score for test data\n",
    "r2score_rf_rand_test = r2_score(y_te, rf_rand_cv.best_estimator_.predict(X_te))\n",
    "mae_rf_rand_test = mean_absolute_error(y_te, rf_rand_cv.best_estimator_.predict(X_te))\n",
    "\n",
    "print('Mean r-squared for test data:', r2score_rf_rand_test)\n",
    "print('Mean MAE for test data:', mae_rf_rand_test)"
   ]
  },
  {
   "cell_type": "markdown",
   "id": "2c145baf-d141-455c-adcd-caf170f760bb",
   "metadata": {},
   "source": [
    "## Model 3: Gradient Boosting Regression Model"
   ]
  },
  {
   "cell_type": "code",
   "execution_count": 116,
   "id": "806e57bc-b9d2-4e89-8978-743de5734416",
   "metadata": {},
   "outputs": [],
   "source": [
    "from sklearn.ensemble import GradientBoostingRegressor\n",
    "\n",
    "# Create a pipeline \n",
    "GBpipe = make_pipeline(preprocessor,\n",
    "    GradientBoostingRegressor()\n",
    ")\n"
   ]
  },
  {
   "cell_type": "code",
   "execution_count": 123,
   "id": "94b0732e-dfbb-4d1d-8dac-c569de8d3bb6",
   "metadata": {},
   "outputs": [],
   "source": [
    "#GBpipe.get_params().keys()"
   ]
  },
  {
   "cell_type": "code",
   "execution_count": 127,
   "id": "44a18c30-0b2e-4538-b8b9-e3f2a532c6c5",
   "metadata": {},
   "outputs": [
    {
     "name": "stdout",
     "output_type": "stream",
     "text": [
      "Pipeline(steps=[('columntransformer',\n",
      "                 ColumnTransformer(transformers=[('one-hot-encoder',\n",
      "                                                  OneHotEncoder(handle_unknown='ignore'),\n",
      "                                                  ['Total_Greenspace']),\n",
      "                                                 ('standard_scaler',\n",
      "                                                  StandardScaler(),\n",
      "                                                  ['Childhood_Obesity',\n",
      "                                                   'Incapacity_Benefit',\n",
      "                                                   'Unemployment', 'Crime',\n",
      "                                                   'Deliberate_Fires',\n",
      "                                                   'GCSE_points',\n",
      "                                                   'Unauthorised_School_Absence',\n",
      "                                                   'Dependent_children',\n",
      "                                                   'Public_Transport_Access',\n",
      "                                                   'Greespace_Access',\n",
      "                                                   'Greenspace_Surface_Area',\n",
      "                                                   'Binned_Median_Greenspace',\n",
      "                                                   'Ranked_Greenspace'])])),\n",
      "                ('gradientboostingregressor',\n",
      "                 GradientBoostingRegressor(max_depth=5, max_features='sqrt',\n",
      "                                           n_estimators=500))])\n"
     ]
    }
   ],
   "source": [
    "gb_param = {\n",
    "        'gradientboostingregressor__n_estimators' : [100,300,500],\n",
    "        'gradientboostingregressor__max_depth': [5, 10, 15],\n",
    "        'gradientboostingregressor__max_features': ['auto', 'sqrt'] \n",
    "        }\n",
    "\n",
    "gb_grid_cv = GridSearchCV(GBpipe, param_grid = gb_param, cv=5, n_jobs= -1)\n",
    "gb_grid_cv.fit(X_tr,y_tr)\n",
    "print(gb_grid_cv.best_estimator_)"
   ]
  },
  {
   "cell_type": "markdown",
   "id": "4912a83e-04bb-4ebb-92c1-d4f8bb84b4a0",
   "metadata": {},
   "source": [
    "#### Fit the model with the optimal hyperparameters (from GridSearchCV)"
   ]
  },
  {
   "cell_type": "code",
   "execution_count": 131,
   "id": "99ca89a6-e595-402f-9628-3f8139d01eb0",
   "metadata": {},
   "outputs": [],
   "source": [
    "# Fit the best model to the training data\n",
    "gb_cv = cross_validate(gb_grid_cv.best_estimator_, X_tr, y_tr,\n",
    "                       scoring=['r2','neg_root_mean_squared_error'], cv=5, n_jobs=-1)\n"
   ]
  },
  {
   "cell_type": "code",
   "execution_count": 132,
   "id": "66575e0a-0e46-4fef-bac3-995b0c0931a8",
   "metadata": {},
   "outputs": [
    {
     "name": "stdout",
     "output_type": "stream",
     "text": [
      "Mean r-squared for training data:  0.7640237294981793\n",
      "Mean MAE for training data:  1.131498720534894\n"
     ]
    }
   ],
   "source": [
    "# Assess r-squared values for model using cross-validated training data\n",
    "r2score_gb_train = np.mean(gb_cv['test_r2'])\n",
    "mae_gb_train = -np.mean(gb_cv['test_neg_root_mean_squared_error'])\n",
    "\n",
    "print('Mean r-squared for training data: ', r2score_gb_train)\n",
    "print('Mean MAE for training data: ', mae_gb_train)"
   ]
  },
  {
   "cell_type": "code",
   "execution_count": 134,
   "id": "297d11db-520e-4edc-8dad-feaf1a93af39",
   "metadata": {},
   "outputs": [
    {
     "name": "stdout",
     "output_type": "stream",
     "text": [
      "Mean r-squared for test data: 0.7752362246376756\n",
      "Mean MAE for test data: 0.8222656758500797\n"
     ]
    }
   ],
   "source": [
    "# Get r-squared score for test data\n",
    "r2score_gb_test = r2_score(y_te, gb_grid_cv.best_estimator_.predict(X_te))\n",
    "mae_gb_test = mean_absolute_error(y_te, gb_grid_cv.best_estimator_.predict(X_te))\n",
    "\n",
    "print('Mean r-squared for test data:', r2score_gb_test)\n",
    "print('Mean MAE for test data:', mae_gb_test)"
   ]
  },
  {
   "cell_type": "markdown",
   "id": "ed0389cf-2d3c-4657-8a01-9ea219ef1189",
   "metadata": {},
   "source": [
    "## Model 4: Support Vector Regressor\n",
    "The goal of SVR is to find a function that approximates the relationship between the input variables and a continuous target variable, while minimizing the prediction error."
   ]
  },
  {
   "cell_type": "code",
   "execution_count": 143,
   "id": "978fb33f-ee61-4e25-b6df-0931f586b4e8",
   "metadata": {},
   "outputs": [],
   "source": [
    "# Import and fit the default model to the training data\n",
    "from sklearn.svm import SVR\n",
    "\n",
    "# Create a pipeline \n",
    "SVRpipe = make_pipeline(preprocessor,\n",
    "    SVR(kernel = 'rbf')\n",
    ")\n"
   ]
  },
  {
   "cell_type": "markdown",
   "id": "4b794c26-dc14-457d-a736-ee44bb1e23c8",
   "metadata": {},
   "source": [
    "### Hyperparameter tuning for SVR"
   ]
  },
  {
   "cell_type": "code",
   "execution_count": null,
   "id": "a8f873dc-4f36-4361-852f-e7345b58e4e8",
   "metadata": {},
   "outputs": [],
   "source": [
    "#SVRpipe.get_params().keys()"
   ]
  },
  {
   "cell_type": "code",
   "execution_count": 147,
   "id": "0484d1b5-8311-47d7-98bb-121e5ca38027",
   "metadata": {},
   "outputs": [],
   "source": [
    "svr_param = {\n",
    "        'svr__C': range(1,20),\n",
    "        'svr__epsilon': np.linspace(0.1,2)\n",
    "        }\n",
    "\n",
    "#SVR_param"
   ]
  },
  {
   "cell_type": "code",
   "execution_count": 149,
   "id": "19f6e8ef-75dc-43aa-8cff-f35ffed440aa",
   "metadata": {},
   "outputs": [
    {
     "name": "stdout",
     "output_type": "stream",
     "text": [
      "Pipeline(steps=[('columntransformer',\n",
      "                 ColumnTransformer(transformers=[('one-hot-encoder',\n",
      "                                                  OneHotEncoder(handle_unknown='ignore'),\n",
      "                                                  ['Total_Greenspace']),\n",
      "                                                 ('standard_scaler',\n",
      "                                                  StandardScaler(),\n",
      "                                                  ['Childhood_Obesity',\n",
      "                                                   'Incapacity_Benefit',\n",
      "                                                   'Unemployment', 'Crime',\n",
      "                                                   'Deliberate_Fires',\n",
      "                                                   'GCSE_points',\n",
      "                                                   'Unauthorised_School_Absence',\n",
      "                                                   'Dependent_children',\n",
      "                                                   'Public_Transport_Access',\n",
      "                                                   'Greespace_Access',\n",
      "                                                   'Greenspace_Surface_Area',\n",
      "                                                   'Binned_Median_Greenspace',\n",
      "                                                   'Ranked_Greenspace'])])),\n",
      "                ('svr', SVR(C=17, epsilon=0.29387755102040813))])\n"
     ]
    }
   ],
   "source": [
    "# Use RandomizedSearchCV to search for best hyperparameters (kernel=rbf)\n",
    "svr_rand_cv = RandomizedSearchCV(SVRpipe, param_distributions = svr_param, cv=5, n_iter=60, n_jobs= -1)\n",
    "svr_rand_cv.fit(X_tr,y_tr)\n",
    "\n",
    "print(svr_rand_cv.best_estimator_)"
   ]
  },
  {
   "cell_type": "markdown",
   "id": "3afcbd4b-59c2-49b9-8d58-9c041f2e239d",
   "metadata": {},
   "source": [
    "#### Fit the model with the optimal hyperparameters"
   ]
  },
  {
   "cell_type": "code",
   "execution_count": 150,
   "id": "4b00130a-5016-4eeb-9fb5-7cd225b4aaa5",
   "metadata": {},
   "outputs": [],
   "source": [
    "# Fit the best model to the training data using the rbf kernel\n",
    "svr_cv = cross_validate(svr_rand_cv.best_estimator_, X_tr, y_tr, \n",
    "                        scoring=['r2','neg_root_mean_squared_error'], cv=5, n_jobs=-1)\n"
   ]
  },
  {
   "cell_type": "code",
   "execution_count": 151,
   "id": "2a06e94d-c2b8-4faa-82ef-b9992b6ad4a5",
   "metadata": {},
   "outputs": [
    {
     "name": "stdout",
     "output_type": "stream",
     "text": [
      "Mean r-squared for training data:  0.6880017280351131\n",
      "Mean MAE for training data:  1.3005400821084536\n"
     ]
    }
   ],
   "source": [
    "# Assess r-squared values for model using cross-validated training data\n",
    "r2score_svr_train = np.mean(svr_cv['test_r2'])\n",
    "mae_svr_train = -np.mean(svr_cv['test_neg_root_mean_squared_error'])\n",
    "\n",
    "print('Mean r-squared for training data: ', r2score_svr_train)\n",
    "print('Mean MAE for training data: ', mae_svr_train)"
   ]
  },
  {
   "cell_type": "code",
   "execution_count": 152,
   "id": "736e11ac-3d19-4cf5-af98-f55b8830854c",
   "metadata": {},
   "outputs": [
    {
     "name": "stdout",
     "output_type": "stream",
     "text": [
      "Mean r-squared for test data: 0.6771677058123959\n",
      "Mean MAE for test data: 0.9934171578972104\n"
     ]
    }
   ],
   "source": [
    "# Get r-squared score for test data\n",
    "r2score_svr_test = r2_score(y_te, svr_rand_cv.best_estimator_.predict(X_te))\n",
    "mae_svr_test = mean_absolute_error(y_te, svr_rand_cv.best_estimator_.predict(X_te))\n",
    "\n",
    "print('Mean r-squared for test data:', r2score_svr_test)\n",
    "print('Mean MAE for test data:', mae_svr_test)"
   ]
  },
  {
   "cell_type": "markdown",
   "id": "24370439-8034-4331-88db-8aa35268262c",
   "metadata": {},
   "source": [
    "# 4. Model Comparison \n",
    "I applied different ML models above, tuned hyperparameters using GridSearchCV or RandomizedSearchCV, and evaluated their performances in terms of r-squared score for both the training and test data. I have compiled the scores below.\n",
    "\n",
    "Clearly, the Random Forest and the Gradient Boost are the two best performing models. Both of the models are ensemble-based decision trees."
   ]
  },
  {
   "cell_type": "code",
   "execution_count": 153,
   "id": "9b1f96c1-8103-42e2-8e02-dec092eccb20",
   "metadata": {},
   "outputs": [
    {
     "data": {
      "text/html": [
       "<div>\n",
       "<style scoped>\n",
       "    .dataframe tbody tr th:only-of-type {\n",
       "        vertical-align: middle;\n",
       "    }\n",
       "\n",
       "    .dataframe tbody tr th {\n",
       "        vertical-align: top;\n",
       "    }\n",
       "\n",
       "    .dataframe thead th {\n",
       "        text-align: right;\n",
       "    }\n",
       "</style>\n",
       "<table border=\"1\" class=\"dataframe\">\n",
       "  <thead>\n",
       "    <tr style=\"text-align: right;\">\n",
       "      <th></th>\n",
       "      <th>Algorithm</th>\n",
       "      <th>R-squared train score</th>\n",
       "      <th>R-squared test score</th>\n",
       "      <th>MAE test score</th>\n",
       "    </tr>\n",
       "  </thead>\n",
       "  <tbody>\n",
       "    <tr>\n",
       "      <th>0</th>\n",
       "      <td>Linear Regression</td>\n",
       "      <td>0.541904</td>\n",
       "      <td>0.561246</td>\n",
       "      <td>1.231805</td>\n",
       "    </tr>\n",
       "    <tr>\n",
       "      <th>1</th>\n",
       "      <td>Random Forest</td>\n",
       "      <td>0.690217</td>\n",
       "      <td>0.690391</td>\n",
       "      <td>0.989689</td>\n",
       "    </tr>\n",
       "    <tr>\n",
       "      <th>2</th>\n",
       "      <td>Gradient Boost</td>\n",
       "      <td>0.775236</td>\n",
       "      <td>0.764024</td>\n",
       "      <td>0.822266</td>\n",
       "    </tr>\n",
       "    <tr>\n",
       "      <th>3</th>\n",
       "      <td>SVR</td>\n",
       "      <td>0.677168</td>\n",
       "      <td>0.688002</td>\n",
       "      <td>0.993417</td>\n",
       "    </tr>\n",
       "  </tbody>\n",
       "</table>\n",
       "</div>"
      ],
      "text/plain": [
       "           Algorithm  R-squared train score  R-squared test score  \\\n",
       "0  Linear Regression               0.541904              0.561246   \n",
       "1      Random Forest               0.690217              0.690391   \n",
       "2     Gradient Boost               0.775236              0.764024   \n",
       "3                SVR               0.677168              0.688002   \n",
       "\n",
       "   MAE test score  \n",
       "0        1.231805  \n",
       "1        0.989689  \n",
       "2        0.822266  \n",
       "3        0.993417  "
      ]
     },
     "execution_count": 153,
     "metadata": {},
     "output_type": "execute_result"
    }
   ],
   "source": [
    "myLabels = [ 'Linear Regression','Random Forest','Gradient Boost', 'SVR']\n",
    "score_test= [  r2score_lr_train, r2score_rf_train, r2score_gb_train, r2score_svr_train]\n",
    "score_train= [ r2score_lr_test, r2score_rf_test, r2score_gb_test, r2score_svr_test ]\n",
    "\n",
    "MAE_score = [mae_lr_test, mae_rf_test, mae_gb_test, mae_svr_test ]\n",
    "\n",
    "score_tab = pd.DataFrame(list(zip(myLabels, score_train, score_test, MAE_score)), \n",
    "               columns =['Algorithm', 'R-squared train score', 'R-squared test score' , 'MAE test score']) \n",
    "\n",
    "score_tab"
   ]
  },
  {
   "cell_type": "markdown",
   "id": "f5cfdb39-f520-4f92-a785-2aff467562de",
   "metadata": {},
   "source": [
    "Of the four models tested, the gradient boost regression model performs the best by far, even though it's accuracy is still not great. However, it does perform similarly on the train and test data, which is good. "
   ]
  },
  {
   "cell_type": "markdown",
   "id": "48b857bf-ceab-4101-ba66-9adb9972de87",
   "metadata": {},
   "source": [
    "## 4a. Re-tune the Hyperparameters for the Gradient Boost Regression Model and Visualize the Results\n",
    "Now that I've ascertained the best of the four models tested, I'm going to see if I can get it to perform better by tuning the hyperparameters again. Then we'll visualize the results."
   ]
  },
  {
   "cell_type": "code",
   "execution_count": 165,
   "id": "8683f537-a055-418f-a37e-4d168b002e79",
   "metadata": {},
   "outputs": [],
   "source": [
    "# Create a pipeline \n",
    "GBpipe = make_pipeline(preprocessor,\n",
    "    GradientBoostingRegressor(loss='absolute_error', max_features='sqrt')\n",
    ")\n"
   ]
  },
  {
   "cell_type": "markdown",
   "id": "9e2b4b1a-0933-4fef-bf16-5481b612ca01",
   "metadata": {},
   "source": [
    "#### Using GridSearchCV to tune hyperparameters:"
   ]
  },
  {
   "cell_type": "code",
   "execution_count": 167,
   "id": "7726253a-43ff-4488-bac4-133e94afe2f4",
   "metadata": {},
   "outputs": [
    {
     "name": "stdout",
     "output_type": "stream",
     "text": [
      "Pipeline(steps=[('columntransformer',\n",
      "                 ColumnTransformer(transformers=[('one-hot-encoder',\n",
      "                                                  OneHotEncoder(handle_unknown='ignore'),\n",
      "                                                  ['Total_Greenspace']),\n",
      "                                                 ('standard_scaler',\n",
      "                                                  StandardScaler(),\n",
      "                                                  ['Childhood_Obesity',\n",
      "                                                   'Incapacity_Benefit',\n",
      "                                                   'Unemployment', 'Crime',\n",
      "                                                   'Deliberate_Fires',\n",
      "                                                   'GCSE_points',\n",
      "                                                   'Unauthorised_School_Absence',\n",
      "                                                   'Dependent_children',\n",
      "                                                   'Public_Transport_Access',\n",
      "                                                   'Greespace_Access',\n",
      "                                                   'Greenspace_Surface_Area',\n",
      "                                                   'Binned_Median_Greenspace',\n",
      "                                                   'Ranked_Greenspace'])])),\n",
      "                ('gradientboostingregressor',\n",
      "                 GradientBoostingRegressor(loss='absolute_error', max_depth=10,\n",
      "                                           max_features='sqrt',\n",
      "                                           n_estimators=500))])\n"
     ]
    }
   ],
   "source": [
    "# Using GridSearchCV to tune hyperparameters:\n",
    "gb_param = {\n",
    "        'gradientboostingregressor__n_estimators' : [100,500, 700],\n",
    "        'gradientboostingregressor__max_depth': [5, 10, 15],\n",
    "        }\n",
    "\n",
    "gb_grid_cv = GridSearchCV(GBpipe, param_grid = gb_param, cv=5, n_jobs= -1)\n",
    "gb_grid_cv.fit(X_tr,y_tr)\n",
    "best_ests_grid = gb_grid_cv.best_estimator_\n",
    "print(gb_grid_cv.best_estimator_)"
   ]
  },
  {
   "cell_type": "code",
   "execution_count": 168,
   "id": "6310163e-aa2a-490e-80be-ebf0a0414245",
   "metadata": {},
   "outputs": [
    {
     "name": "stdout",
     "output_type": "stream",
     "text": [
      "Mean r-squared for training data:  0.7131304929880464\n",
      "Mean MAE for training data:  1.2479687216165458\n",
      "Mean r-squared for test data: 0.7184823658197141\n",
      "Mean MAE for test data: 0.9306642267950738\n"
     ]
    }
   ],
   "source": [
    "# Fit the model to the training data using the best hyperparameters\n",
    "gb_cv_final = cross_validate(gb_rand_cv.best_estimator_, X_tr, y_tr,\n",
    "                       scoring=['r2','neg_root_mean_squared_error'], cv=5, n_jobs=-1)\n",
    "\n",
    "# Training data\n",
    "r2score = np.mean(gb_cv_final['test_r2'])\n",
    "mae = -np.mean(gb_cv_final['test_neg_root_mean_squared_error'])\n",
    "print('Mean r-squared for training data: ', r2score)\n",
    "print('Mean MAE for training data: ', mae)\n",
    "\n",
    "# Test data\n",
    "r2score_test = r2_score(y_te, gb_rand_cv.best_estimator_.predict(X_te))\n",
    "mae_test = mean_absolute_error(y_te, gb_rand_cv.best_estimator_.predict(X_te))\n",
    "\n",
    "print('Mean r-squared for test data:', r2score_test)\n",
    "print('Mean MAE for test data:', mae_test)\n"
   ]
  },
  {
   "cell_type": "markdown",
   "id": "25332d71-45c7-438d-b2f7-969c57e809d1",
   "metadata": {},
   "source": [
    "#### Using RandomizedSearchCV to tune hyperparameters:"
   ]
  },
  {
   "cell_type": "code",
   "execution_count": 164,
   "id": "e4ec5cfc-72d1-4ac3-a55c-3148ca16fcdc",
   "metadata": {},
   "outputs": [
    {
     "name": "stdout",
     "output_type": "stream",
     "text": [
      "Pipeline(steps=[('columntransformer',\n",
      "                 ColumnTransformer(transformers=[('one-hot-encoder',\n",
      "                                                  OneHotEncoder(handle_unknown='ignore'),\n",
      "                                                  ['Total_Greenspace']),\n",
      "                                                 ('standard_scaler',\n",
      "                                                  StandardScaler(),\n",
      "                                                  ['Childhood_Obesity',\n",
      "                                                   'Incapacity_Benefit',\n",
      "                                                   'Unemployment', 'Crime',\n",
      "                                                   'Deliberate_Fires',\n",
      "                                                   'GCSE_points',\n",
      "                                                   'Unauthorised_School_Absence',\n",
      "                                                   'Dependent_children',\n",
      "                                                   'Public_Transport_Access',\n",
      "                                                   'Greespace_Access',\n",
      "                                                   'Greenspace_Surface_Area',\n",
      "                                                   'Binned_Median_Greenspace',\n",
      "                                                   'Ranked_Greenspace'])])),\n",
      "                ('gradientboostingregressor',\n",
      "                 GradientBoostingRegressor(loss='absolute_error', max_depth=12,\n",
      "                                           max_features='sqrt',\n",
      "                                           min_weight_fraction_leaf=0,\n",
      "                                           n_estimators=918))])\n"
     ]
    }
   ],
   "source": [
    "# Using RandomizedSearchCV to tune hyperparameters:\n",
    "gb_param = {\n",
    "        'gradientboostingregressor__n_estimators' : range(100,1000),\n",
    "        'gradientboostingregressor__max_depth': range(2,15),\n",
    "        'gradientboostingregressor__min_weight_fraction_leaf': [0,0.5] \n",
    "        }\n",
    "\n",
    "gb_rand_cv = RandomizedSearchCV(GBpipe, param_distributions = gb_param, cv=5, n_iter=60, n_jobs= -1)\n",
    "gb_rand_cv.fit(X_tr,y_tr)\n",
    "best_ests_rand = gb_rand_cv.best_estimator_\n",
    "print(gb_rand_cv.best_estimator_)"
   ]
  },
  {
   "cell_type": "code",
   "execution_count": 166,
   "id": "8817c4de-51d5-4917-b775-a45b55eb9460",
   "metadata": {},
   "outputs": [
    {
     "name": "stdout",
     "output_type": "stream",
     "text": [
      "Mean r-squared for training data:  0.7110667227746338\n",
      "Mean MAE for training data:  1.251042817766738\n",
      "Mean r-squared for test data: 0.7184823658197141\n",
      "Mean MAE for test data: 0.9306642267950738\n"
     ]
    }
   ],
   "source": [
    "# Fit the model to the training data using the best hyperparameters\n",
    "gb_cv_final = cross_validate(gb_rand_cv.best_estimator_, X_tr, y_tr,\n",
    "                       scoring=['r2','neg_root_mean_squared_error'], cv=5, n_jobs=-1)\n",
    "\n",
    "# Training data\n",
    "r2score = np.mean(gb_cv_final['test_r2'])\n",
    "mae = -np.mean(gb_cv_final['test_neg_root_mean_squared_error'])\n",
    "print('Mean r-squared for training data: ', r2score)\n",
    "print('Mean MAE for training data: ', mae)\n",
    "\n",
    "# Test data\n",
    "r2score_test = r2_score(y_te, gb_rand_cv.best_estimator_.predict(X_te))\n",
    "mae_test = mean_absolute_error(y_te, gb_rand_cv.best_estimator_.predict(X_te))\n",
    "\n",
    "print('Mean r-squared for test data:', r2score_test)\n",
    "print('Mean MAE for test data:', mae_test)\n"
   ]
  },
  {
   "cell_type": "markdown",
   "id": "02535078-6db5-4520-aee7-09e5938cfa1c",
   "metadata": {},
   "source": [
    "## 4b. Final Model: Fit the gradient boosting model with the optimal hyperparameters:\n",
    "The optimal hyperparameters were actually from the first round of GridSearchCV, so I'll use that output here to fit the final model."
   ]
  },
  {
   "cell_type": "code",
   "execution_count": 20,
   "id": "4887b5a2-1cd2-414b-bcaf-664f63fc38c6",
   "metadata": {},
   "outputs": [],
   "source": [
    "# Process the data using ColumnTransformer\n",
    "X_train = preprocessor.fit_transform(X_tr)\n",
    "X_test = preprocessor.transform(X_te)\n"
   ]
  },
  {
   "cell_type": "code",
   "execution_count": null,
   "id": "82bd23a2-90d2-41ce-a0c2-fdeff224de4e",
   "metadata": {},
   "outputs": [],
   "source": [
    "from sklearn.ensemble import GradientBoostingRegressor\n",
    "\n",
    "gb_model = GradientBoostingRegressor(max_depth=5, n_estimators=500)\n",
    "\n",
    "gb_model.fit(X_train, y_tr)\n",
    "y_pred = gb_model.predict(X_test)\n",
    "gb_model.score(X_test, y_te)\n",
    "\n",
    "r2 = r2_score(y_te,y_pred)\n",
    "print(\"The mean r-squared on test set: {:.4f}\".format(r2))\n",
    "\n",
    "mae = mean_absolute_error(y_te, y_pred)\n",
    "print(\"The mean absolute error (MAE) on test set: {:.4f}\".format(mae))\n",
    "\n",
    "mse = mean_squared_error(y_te, y_pred)\n",
    "print(\"The root mean squared error (RMSE) on test set: {:.4f}\".format(np.sqrt(mse)))\n"
   ]
  },
  {
   "cell_type": "markdown",
   "id": "6433d4a9-c990-4b17-a158-fc13d14720e4",
   "metadata": {},
   "source": [
    "## Visualize feature importance "
   ]
  },
  {
   "cell_type": "code",
   "execution_count": 131,
   "id": "80384d4d-ef06-4ecb-8689-8db29984aa8e",
   "metadata": {},
   "outputs": [
    {
     "data": {
      "text/plain": [
       "list"
      ]
     },
     "execution_count": 131,
     "metadata": {},
     "output_type": "execute_result"
    }
   ],
   "source": [
    "# Extract feature names from ColumnTransformer\n",
    "feature_names = []\n",
    "for name, transformer, features in preprocessor.transformers_:\n",
    "    if hasattr(transformer, 'get_feature_names_out'):\n",
    "        feature_names.extend(\n",
    "            [f\"{name}_{f}\" for f in transformer.get_feature_names_out(features)])\n",
    "    else:\n",
    "        feature_names.extend(features)\n",
    "\n",
    "type(feature_names)"
   ]
  },
  {
   "cell_type": "code",
   "execution_count": 132,
   "id": "857eb2fd-72ea-4f42-9766-a0095f5243c4",
   "metadata": {},
   "outputs": [
    {
     "name": "stdout",
     "output_type": "stream",
     "text": [
      "['Total_Greenspace_High', 'Total_Greenspace_Low', 'Total_Greenspace_Medium', 'Childhood_Obesity', 'Incapacity_Benefit', 'Unemployment', 'Crime', 'Deliberate_Fires', 'GCSE_points', 'Unauthorised_School_Absence', 'Dependent_children', 'Public_Transport_Access', 'Greespace_Access', 'Greenspace_Surface_Area']\n"
     ]
    }
   ],
   "source": [
    "# Replace substring in list of strings\n",
    "f1 = [x.replace(\"standard_scaler_\", \"\") for x in feature_names]\n",
    "f2 = [x.replace(\"one-hot-encoder_\", \"\") for x in f1]\n",
    "\n",
    "print(f2)"
   ]
  },
  {
   "cell_type": "code",
   "execution_count": 133,
   "id": "ab668535-372e-4d08-ae9b-283eeab78399",
   "metadata": {},
   "outputs": [
    {
     "data": {
      "image/png": "[encoded data removed]",
      "text/plain": [
       "<Figure size 1200x600 with 1 Axes>"
      ]
     },
     "metadata": {},
     "output_type": "display_data"
    }
   ],
   "source": [
    "features = f2\n",
    "importances = gb_model.feature_importances_\n",
    "indices = np.argsort(importances)\n",
    "\n",
    "fig = plt.figure(figsize=(12, 6))\n",
    "plt.title('Feature Importances')\n",
    "plt.barh(range(len(indices)), importances[indices], color='b', align='center')\n",
    "plt.yticks(range(len(indices)), [features[i] for i in indices])\n",
    "plt.xlabel('Relative Importance')\n",
    "plt.show()\n"
   ]
  },
  {
   "cell_type": "markdown",
   "id": "94874646-0ecd-4e32-adce-00f1e3ade21c",
   "metadata": {},
   "source": [
    "# Conclusions:\n",
    "The gradient boosting model was successful at predicting longevity within the London Wards to within ~1 year, with fairly high predictive capacity (R-squared = 0.770). <br>\n",
    "<br>\n",
    "The following are key findings from the model:"
   ]
  },
  {
   "cell_type": "markdown",
   "id": "fb9ec05e-f375-4c99-a1bd-4d6043a49d81",
   "metadata": {},
   "source": [
    "#### 1. The most important predictor of longevity is unemployment rate. \n",
    "Unemployment rate indicates the percentage of working-age residents claiming unemployment benefits in that Ward. This, unsurprisingly, suggests that there is a high degree of stress related to being unemployed that negatively impacts longevity. \n",
    "\n",
    "#### 2. Unauthorized school absences, the number of dependent children living in an out-of-work household, and incapacity benefit were also important in predicting longevity. \n",
    "These correlations make sense intuitively; these metrics are both representative of hardship. Specifically, the \"dependent children\" metric represents the % of children living in out-of-work households, and \"incapacity benefits\" represents the disability claimant rate for that Ward.\n",
    "\n",
    "#### 3. Access to public greenspace areas does provide some positive benefit.\n",
    "While access to public greenspace was not a strong predictor of longevity, it does show some importance in the model. Looking at the original data, we can see a positive correlation between greenspace access and longevity. This suggests a positive benefit for people living in areas with more access to parks or other green areas; this may be due to the impact on lifestyle that this access affords, or possibly is related to the wealth of that area. "
   ]
  },
  {
   "cell_type": "code",
   "execution_count": null,
   "id": "e20814f3-2870-49a3-b2c6-e2542927a87d",
   "metadata": {},
   "outputs": [],
   "source": []
  }
 ],
 "metadata": {
  "kernelspec": {
   "display_name": "Python 3 (ipykernel)",
   "language": "python",
   "name": "python3"
  },
  "language_info": {
   "codemirror_mode": {
    "name": "ipython",
    "version": 3
   },
   "file_extension": ".py",
   "mimetype": "text/x-python",
   "name": "python",
   "nbconvert_exporter": "python",
   "pygments_lexer": "ipython3",
   "version": "3.9.13"
  }
 },
 "nbformat": 4,
 "nbformat_minor": 5
}
