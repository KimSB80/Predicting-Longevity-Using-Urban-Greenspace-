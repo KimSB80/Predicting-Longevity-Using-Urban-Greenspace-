{
 "cells": [
  {
   "cell_type": "markdown",
   "id": "18e905e1-7952-4c5f-be64-42965c5232dd",
   "metadata": {},
   "source": [
    "# Step 4: Modeling"
   ]
  },
  {
   "cell_type": "code",
   "execution_count": 102,
   "id": "54edfd17-56f7-42a2-b421-5fd9a9968cac",
   "metadata": {},
   "outputs": [],
   "source": [
    "import os\n",
    "import pandas as pd\n",
    "import numpy as np\n",
    "import matplotlib.pyplot as plt\n",
    "import seaborn as sns\n",
    "import pickle\n",
    "\n",
    "from sklearn.linear_model import LinearRegression\n",
    "from sklearn.metrics import mean_squared_error, r2_score, accuracy_score, mean_absolute_error, confusion_matrix\n",
    "\n",
    "from sklearn.model_selection import cross_validate, GridSearchCV, RandomizedSearchCV\n",
    "\n",
    "import warnings\n",
    "warnings.filterwarnings('ignore')\n"
   ]
  },
  {
   "cell_type": "code",
   "execution_count": 103,
   "id": "bdeea8d3-54cb-41cc-b6d9-d66d5853b732",
   "metadata": {},
   "outputs": [],
   "source": [
    "# Import data \n",
    "datapath = \"/Users/kbrewitt/Github/Predicting Longevity Using Urban Greenspace/clean_data/\"\n",
    "\n",
    "X_train = pd.read_csv(datapath + 'X_train.csv')\n",
    "X_test = pd.read_csv(datapath + 'X_test.csv')\n",
    "y_train = pd.read_csv(datapath + 'y_train.csv')\n",
    "y_test = pd.read_csv(datapath + 'y_test.csv')\n",
    "    "
   ]
  },
  {
   "cell_type": "code",
   "execution_count": 104,
   "id": "3199bb8e-ce9d-48c2-bf13-2d02c519b9b9",
   "metadata": {},
   "outputs": [
    {
     "data": {
      "text/html": [
       "<div>\n",
       "<style scoped>\n",
       "    .dataframe tbody tr th:only-of-type {\n",
       "        vertical-align: middle;\n",
       "    }\n",
       "\n",
       "    .dataframe tbody tr th {\n",
       "        vertical-align: top;\n",
       "    }\n",
       "\n",
       "    .dataframe thead th {\n",
       "        text-align: right;\n",
       "    }\n",
       "</style>\n",
       "<table border=\"1\" class=\"dataframe\">\n",
       "  <thead>\n",
       "    <tr style=\"text-align: right;\">\n",
       "      <th></th>\n",
       "      <th>Unnamed: 0</th>\n",
       "      <th>Childhood_Obesity</th>\n",
       "      <th>Incapacity_Benefit</th>\n",
       "      <th>Unemployment</th>\n",
       "      <th>Crime</th>\n",
       "      <th>Deliberate_Fires</th>\n",
       "      <th>GCSE_points</th>\n",
       "      <th>Unauthorised_School_Absence</th>\n",
       "      <th>Dependent_children</th>\n",
       "      <th>Public_Transport_Access</th>\n",
       "      <th>...</th>\n",
       "      <th>Borough_Richmond upon Thames</th>\n",
       "      <th>Borough_Southwark</th>\n",
       "      <th>Borough_Sutton</th>\n",
       "      <th>Borough_Tower Hamlets</th>\n",
       "      <th>Borough_Waltham Forest</th>\n",
       "      <th>Borough_Wandsworth</th>\n",
       "      <th>Borough_Westminster</th>\n",
       "      <th>Total_Greenspace_High</th>\n",
       "      <th>Total_Greenspace_Low</th>\n",
       "      <th>Total_Greenspace_Medium</th>\n",
       "    </tr>\n",
       "  </thead>\n",
       "  <tbody>\n",
       "    <tr>\n",
       "      <th>0</th>\n",
       "      <td>0</td>\n",
       "      <td>-3.131879</td>\n",
       "      <td>-1.469351</td>\n",
       "      <td>-1.378691</td>\n",
       "      <td>-1.578345</td>\n",
       "      <td>-0.599698</td>\n",
       "      <td>1.584896</td>\n",
       "      <td>-1.576504</td>\n",
       "      <td>-1.716551</td>\n",
       "      <td>-0.349521</td>\n",
       "      <td>...</td>\n",
       "      <td>1.0</td>\n",
       "      <td>0.0</td>\n",
       "      <td>0.0</td>\n",
       "      <td>0.0</td>\n",
       "      <td>0.0</td>\n",
       "      <td>0.0</td>\n",
       "      <td>0.0</td>\n",
       "      <td>1.0</td>\n",
       "      <td>0.0</td>\n",
       "      <td>0.0</td>\n",
       "    </tr>\n",
       "    <tr>\n",
       "      <th>1</th>\n",
       "      <td>1</td>\n",
       "      <td>-0.470979</td>\n",
       "      <td>-1.156431</td>\n",
       "      <td>0.075746</td>\n",
       "      <td>0.673389</td>\n",
       "      <td>-0.524905</td>\n",
       "      <td>0.646249</td>\n",
       "      <td>0.212268</td>\n",
       "      <td>-0.147872</td>\n",
       "      <td>1.113057</td>\n",
       "      <td>...</td>\n",
       "      <td>0.0</td>\n",
       "      <td>0.0</td>\n",
       "      <td>0.0</td>\n",
       "      <td>0.0</td>\n",
       "      <td>0.0</td>\n",
       "      <td>0.0</td>\n",
       "      <td>0.0</td>\n",
       "      <td>0.0</td>\n",
       "      <td>1.0</td>\n",
       "      <td>0.0</td>\n",
       "    </tr>\n",
       "    <tr>\n",
       "      <th>2</th>\n",
       "      <td>2</td>\n",
       "      <td>-0.217785</td>\n",
       "      <td>1.441662</td>\n",
       "      <td>0.295841</td>\n",
       "      <td>-0.248006</td>\n",
       "      <td>-0.360325</td>\n",
       "      <td>-0.909599</td>\n",
       "      <td>0.604932</td>\n",
       "      <td>0.691960</td>\n",
       "      <td>-0.960857</td>\n",
       "      <td>...</td>\n",
       "      <td>0.0</td>\n",
       "      <td>0.0</td>\n",
       "      <td>0.0</td>\n",
       "      <td>0.0</td>\n",
       "      <td>1.0</td>\n",
       "      <td>0.0</td>\n",
       "      <td>0.0</td>\n",
       "      <td>0.0</td>\n",
       "      <td>0.0</td>\n",
       "      <td>1.0</td>\n",
       "    </tr>\n",
       "    <tr>\n",
       "      <th>3</th>\n",
       "      <td>3</td>\n",
       "      <td>0.629342</td>\n",
       "      <td>3.126469</td>\n",
       "      <td>0.841047</td>\n",
       "      <td>1.684427</td>\n",
       "      <td>-0.273891</td>\n",
       "      <td>-1.885972</td>\n",
       "      <td>-0.263692</td>\n",
       "      <td>2.240292</td>\n",
       "      <td>1.461732</td>\n",
       "      <td>...</td>\n",
       "      <td>0.0</td>\n",
       "      <td>0.0</td>\n",
       "      <td>0.0</td>\n",
       "      <td>0.0</td>\n",
       "      <td>0.0</td>\n",
       "      <td>0.0</td>\n",
       "      <td>0.0</td>\n",
       "      <td>0.0</td>\n",
       "      <td>0.0</td>\n",
       "      <td>1.0</td>\n",
       "    </tr>\n",
       "    <tr>\n",
       "      <th>4</th>\n",
       "      <td>4</td>\n",
       "      <td>0.666976</td>\n",
       "      <td>1.044254</td>\n",
       "      <td>1.301207</td>\n",
       "      <td>1.931331</td>\n",
       "      <td>3.776083</td>\n",
       "      <td>-1.313086</td>\n",
       "      <td>1.882319</td>\n",
       "      <td>0.871581</td>\n",
       "      <td>-0.592800</td>\n",
       "      <td>...</td>\n",
       "      <td>0.0</td>\n",
       "      <td>0.0</td>\n",
       "      <td>0.0</td>\n",
       "      <td>0.0</td>\n",
       "      <td>0.0</td>\n",
       "      <td>0.0</td>\n",
       "      <td>0.0</td>\n",
       "      <td>0.0</td>\n",
       "      <td>0.0</td>\n",
       "      <td>1.0</td>\n",
       "    </tr>\n",
       "  </tbody>\n",
       "</table>\n",
       "<p>5 rows × 50 columns</p>\n",
       "</div>"
      ],
      "text/plain": [
       "   Unnamed: 0  Childhood_Obesity  Incapacity_Benefit  Unemployment     Crime  \\\n",
       "0           0          -3.131879           -1.469351     -1.378691 -1.578345   \n",
       "1           1          -0.470979           -1.156431      0.075746  0.673389   \n",
       "2           2          -0.217785            1.441662      0.295841 -0.248006   \n",
       "3           3           0.629342            3.126469      0.841047  1.684427   \n",
       "4           4           0.666976            1.044254      1.301207  1.931331   \n",
       "\n",
       "   Deliberate_Fires  GCSE_points  Unauthorised_School_Absence  \\\n",
       "0         -0.599698     1.584896                    -1.576504   \n",
       "1         -0.524905     0.646249                     0.212268   \n",
       "2         -0.360325    -0.909599                     0.604932   \n",
       "3         -0.273891    -1.885972                    -0.263692   \n",
       "4          3.776083    -1.313086                     1.882319   \n",
       "\n",
       "   Dependent_children  Public_Transport_Access  ...  \\\n",
       "0           -1.716551                -0.349521  ...   \n",
       "1           -0.147872                 1.113057  ...   \n",
       "2            0.691960                -0.960857  ...   \n",
       "3            2.240292                 1.461732  ...   \n",
       "4            0.871581                -0.592800  ...   \n",
       "\n",
       "   Borough_Richmond upon Thames  Borough_Southwark  Borough_Sutton  \\\n",
       "0                           1.0                0.0             0.0   \n",
       "1                           0.0                0.0             0.0   \n",
       "2                           0.0                0.0             0.0   \n",
       "3                           0.0                0.0             0.0   \n",
       "4                           0.0                0.0             0.0   \n",
       "\n",
       "   Borough_Tower Hamlets  Borough_Waltham Forest  Borough_Wandsworth  \\\n",
       "0                    0.0                     0.0                 0.0   \n",
       "1                    0.0                     0.0                 0.0   \n",
       "2                    0.0                     1.0                 0.0   \n",
       "3                    0.0                     0.0                 0.0   \n",
       "4                    0.0                     0.0                 0.0   \n",
       "\n",
       "   Borough_Westminster  Total_Greenspace_High  Total_Greenspace_Low  \\\n",
       "0                  0.0                    1.0                   0.0   \n",
       "1                  0.0                    0.0                   1.0   \n",
       "2                  0.0                    0.0                   0.0   \n",
       "3                  0.0                    0.0                   0.0   \n",
       "4                  0.0                    0.0                   0.0   \n",
       "\n",
       "   Total_Greenspace_Medium  \n",
       "0                      0.0  \n",
       "1                      0.0  \n",
       "2                      1.0  \n",
       "3                      1.0  \n",
       "4                      1.0  \n",
       "\n",
       "[5 rows x 50 columns]"
      ]
     },
     "execution_count": 104,
     "metadata": {},
     "output_type": "execute_result"
    }
   ],
   "source": [
    "X_train.head()"
   ]
  },
  {
   "cell_type": "code",
   "execution_count": 105,
   "id": "86f7dbe0-0ba7-445c-8a55-c34b94a366b1",
   "metadata": {},
   "outputs": [],
   "source": [
    "# Convert y data to array\n",
    "y_train = np.array(y_train)\n",
    "y_test = np.array(y_test)"
   ]
  },
  {
   "cell_type": "code",
   "execution_count": 106,
   "id": "fe2fc192-c52e-40b9-8fa7-b7d3563101ab",
   "metadata": {},
   "outputs": [
    {
     "data": {
      "text/plain": [
       "array([[83.26749091],\n",
       "       [79.18025867],\n",
       "       [79.81147608],\n",
       "       ...,\n",
       "       [83.18958209],\n",
       "       [82.56130231],\n",
       "       [80.48830528]])"
      ]
     },
     "execution_count": 106,
     "metadata": {},
     "output_type": "execute_result"
    }
   ],
   "source": [
    "y_train"
   ]
  },
  {
   "cell_type": "markdown",
   "id": "6924a869-5fe9-40da-9971-95c132f750c7",
   "metadata": {},
   "source": [
    "# Model 1: Linear regression \n",
    "Fit a simple linear regression model."
   ]
  },
  {
   "cell_type": "code",
   "execution_count": 110,
   "id": "ba8d4fcc-9bf2-45a0-99c5-525dadc7d7cc",
   "metadata": {},
   "outputs": [],
   "source": [
    "# Create the model and fit it to the training data\n",
    "lr = LinearRegression()\n",
    "lr.fit(X_train, y_train)\n",
    "\n",
    "# Make predictions on train and test data\n",
    "y_pred_tr = lr.predict(X_train)\n",
    "y_pred_te = lr.predict(X_test)\n"
   ]
  },
  {
   "cell_type": "code",
   "execution_count": 108,
   "id": "d4ee236e-7f62-49c3-8ff0-fe2996c22b03",
   "metadata": {},
   "outputs": [
    {
     "data": {
      "text/plain": [
       "(0.6642260262064753, 0.6398037266436656)"
      ]
     },
     "execution_count": 108,
     "metadata": {},
     "output_type": "execute_result"
    }
   ],
   "source": [
    "# Assess performance using r-squared\n",
    "r2_score(y_train, y_pred_tr), r2_score(y_test, y_pred_te)"
   ]
  },
  {
   "cell_type": "code",
   "execution_count": 109,
   "id": "3da009ca-9206-4a09-b628-8bf43a4be2e1",
   "metadata": {},
   "outputs": [
    {
     "data": {
      "text/plain": [
       "(1.3531829400790458, 1.3934508540039967)"
      ]
     },
     "execution_count": 109,
     "metadata": {},
     "output_type": "execute_result"
    }
   ],
   "source": [
    "# Assess performance using RMSE\n",
    "np.sqrt(mean_squared_error(y_train, y_pred_tr)), np.sqrt(mean_squared_error(y_test, y_pred_te))\n"
   ]
  },
  {
   "cell_type": "markdown",
   "id": "84b4b6bf-6a8a-41b0-9677-0287ee2ea2b9",
   "metadata": {},
   "source": [
    "## Hyperparameter tuning and cross-validation"
   ]
  },
  {
   "cell_type": "code",
   "execution_count": 111,
   "id": "d6c09cee-aef0-4a5d-b174-2bd13e7df00d",
   "metadata": {},
   "outputs": [],
   "source": [
    "# Make a pipeline \n",
    "from sklearn.pipeline import make_pipeline\n",
    "from sklearn.feature_selection import SelectKBest, f_regression\n",
    "\n",
    "LRpipe = make_pipeline(\n",
    "    SelectKBest(),\n",
    "    LinearRegression()\n",
    ")"
   ]
  },
  {
   "cell_type": "code",
   "execution_count": 117,
   "id": "5f81c0a1-342d-40b6-ae8e-8c47b7e9c5a9",
   "metadata": {},
   "outputs": [],
   "source": [
    "#  Pass the pipe object and use 5-fold cross-validation to assess fit on training data\n",
    "lr_default_cv_results = cross_validate(LRpipe, X_train, y_train, cv=5)"
   ]
  },
  {
   "cell_type": "code",
   "execution_count": 118,
   "id": "fb12dc0c-6148-4e73-880e-f97f4a89fc6c",
   "metadata": {},
   "outputs": [
    {
     "data": {
      "text/plain": [
       "(0.11526312892289345, 0.011443765820333872)"
      ]
     },
     "execution_count": 118,
     "metadata": {},
     "output_type": "execute_result"
    }
   ],
   "source": [
    "lr_cv_scores = lr_default_cv_results['test_score']\n",
    "np.mean(lr_cv_scores), np.std(lr_cv_scores)"
   ]
  },
  {
   "cell_type": "code",
   "execution_count": null,
   "id": "17033a56-7873-4418-80b5-8eaf63a76286",
   "metadata": {},
   "outputs": [],
   "source": []
  }
 ],
 "metadata": {
  "kernelspec": {
   "display_name": "Python 3 (ipykernel)",
   "language": "python",
   "name": "python3"
  },
  "language_info": {
   "codemirror_mode": {
    "name": "ipython",
    "version": 3
   },
   "file_extension": ".py",
   "mimetype": "text/x-python",
   "name": "python",
   "nbconvert_exporter": "python",
   "pygments_lexer": "ipython3",
   "version": "3.9.13"
  }
 },
 "nbformat": 4,
 "nbformat_minor": 5
}
